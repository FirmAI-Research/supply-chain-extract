{
 "cells": [
  {
   "cell_type": "markdown",
   "metadata": {},
   "source": [
    "# Relation extraction using distant supervision: experiments"
   ]
  },
  {
   "cell_type": "code",
   "execution_count": 1,
   "metadata": {},
   "outputs": [],
   "source": [
    "__author__ = \"Bill MacCartney and Christopher Potts\"\n",
    "__version__ = \"CS224u, Stanford, Spring 2021\""
   ]
  },
  {
   "cell_type": "markdown",
   "metadata": {},
   "source": [
    "## Contents\n",
    "\n",
    "1. [Overview](#Overview)\n",
    "1. [Set-up](#Set-up)\n",
    "1. [Building a classifier](#Building-a-classifier)\n",
    "  1. [Featurizers](#Featurizers)\n",
    "  1. [Experiments](#Experiments)\n",
    "1. [Analysis](#Analysis)\n",
    "  1. [Examining the trained models](#Examining-the-trained-models)\n",
    "  1. [Discovering new relation instances](#Discovering-new-relation-instances)"
   ]
  },
  {
   "cell_type": "markdown",
   "metadata": {},
   "source": [
    "## Overview\n",
    "\n",
    "OK, it's time to get (halfway) serious. Let's apply real machine learning to train a classifier on the training data, and see how it performs on the test data. We'll begin with one of the simplest machine learning setups: a bag-of-words feature representation, and a linear model trained using logistic regression.\n",
    "\n",
    "Just like we did in the unit on [supervised sentiment analysis](https://github.com/cgpotts/cs224u/blob/master/sst_02_hand_built_features.ipynb), we'll leverage the `sklearn` library, and we'll introduce functions for featurizing instances, training models, making predictions, and evaluating results."
   ]
  },
  {
   "cell_type": "markdown",
   "metadata": {},
   "source": [
    "## Set-up\n",
    "\n",
    "See [the first notebook in this unit](rel_ext_01_task.ipynb#Set-up) for set-up instructions."
   ]
  },
  {
   "cell_type": "code",
   "execution_count": 2,
   "metadata": {},
   "outputs": [],
   "source": [
    "from collections import Counter\n",
    "import os\n",
    "import rel_ext\n",
    "import utils"
   ]
  },
  {
   "cell_type": "code",
   "execution_count": 3,
   "metadata": {},
   "outputs": [],
   "source": [
    "# Set all the random seeds for reproducibility. Only the\n",
    "# system seed is relevant for this notebook.\n",
    "\n",
    "utils.fix_random_seeds()"
   ]
  },
  {
   "cell_type": "code",
   "execution_count": 4,
   "metadata": {},
   "outputs": [],
   "source": [
    "try:\n",
    "    # python package (nlp) location - two levels up from this file\n",
    "    src_path = os.path.abspath(os.path.join(os.getcwd(), \"../..\"))\n",
    "    # add package to sys.path if it's not already there\n",
    "    if src_path not in sys.path:\n",
    "        sys.path.extend([src_path])\n",
    "except NameError:\n",
    "    print('issue with adding to path, probably due to __file__ not being defined')\n",
    "    src_path = None"
   ]
  },
  {
   "cell_type": "code",
   "execution_count": 5,
   "metadata": {},
   "outputs": [
    {
     "data": {
      "text/plain": [
       "'/Users/timmaecker/Google Drive/Career and Skills/Learning/MSc Machine Learning - UCL/2 COMP0087 Statistical Natural Language Processing/Coursework/nlpproject/nlp/data'"
      ]
     },
     "execution_count": 5,
     "metadata": {},
     "output_type": "execute_result"
    }
   ],
   "source": [
    "rel_ext_data_home = os.path.join(src_path,'data')\n",
    "rel_ext_data_home"
   ]
  },
  {
   "cell_type": "markdown",
   "metadata": {},
   "source": [
    "With the following steps, we build up the dataset we'll use for experiments; it unites a corpus and a knowledge base in the way we described in [the previous notebook](rel_ext_01_task.ipynb)."
   ]
  },
  {
   "cell_type": "code",
   "execution_count": 6,
   "metadata": {},
   "outputs": [
    {
     "name": "stdout",
     "output_type": "stream",
     "text": [
      "Read 6,058 examples\n"
     ]
    }
   ],
   "source": [
    "corpus = rel_ext.Corpus(os.path.join(rel_ext_data_home, 'example_inputs_long_names.tsv.gz'))\n",
    "\n",
    "print('Read {0:,} examples'.format(len(corpus)))"
   ]
  },
  {
   "cell_type": "code",
   "execution_count": 7,
   "metadata": {},
   "outputs": [
    {
     "name": "stdout",
     "output_type": "stream",
     "text": [
      "Read 21,458 KB triples\n"
     ]
    }
   ],
   "source": [
    "kb = rel_ext.KB(os.path.join(rel_ext_data_home, 'example_kb.tsv.gz'))\n",
    "\n",
    "print('Read {0:,} KB triples'.format(len(kb)))"
   ]
  },
  {
   "cell_type": "code",
   "execution_count": 8,
   "metadata": {},
   "outputs": [],
   "source": [
    "dataset = rel_ext.Dataset(corpus, kb)"
   ]
  },
  {
   "cell_type": "markdown",
   "metadata": {},
   "source": [
    "The following code splits up our data in a way that supports experimentation:"
   ]
  },
  {
   "cell_type": "code",
   "execution_count": 9,
   "metadata": {},
   "outputs": [
    {
     "data": {
      "text/plain": [
       "{'tiny': Corpus with 136 examples; KB with 244 triples,\n",
       " 'train': Corpus with 4,732 examples; KB with 15,632 triples,\n",
       " 'dev': Corpus with 1,190 examples; KB with 5,582 triples,\n",
       " 'all': Corpus with 6,058 examples; KB with 21,458 triples}"
      ]
     },
     "execution_count": 9,
     "metadata": {},
     "output_type": "execute_result"
    }
   ],
   "source": [
    "splits = dataset.build_splits()\n",
    "\n",
    "splits"
   ]
  },
  {
   "cell_type": "markdown",
   "metadata": {},
   "source": [
    "## Building a classifier"
   ]
  },
  {
   "cell_type": "markdown",
   "metadata": {},
   "source": [
    "### Featurizers\n",
    "\n",
    "Featurizers are functions which define the feature representation for our model. The primary input to a featurizer will be the `KBTriple` for which we are generating features. But since our features will be derived from corpus examples containing the entities of the `KBTriple`, we must also pass in a reference to a `Corpus`. And in order to make it easy to combine different featurizers, we'll also pass in a feature counter to hold the results.\n",
    "\n",
    "Here's an implementation for a very simple bag-of-words featurizer. It finds all the corpus examples containing the two entities in the `KBTriple`, breaks the phrase appearing between the two entity mentions into words, and counts the words. Note that it makes no distinction between \"forward\" and \"reverse\" examples."
   ]
  },
  {
   "cell_type": "code",
   "execution_count": 10,
   "metadata": {},
   "outputs": [],
   "source": [
    "def simple_bag_of_words_featurizer(kbt, corpus, feature_counter):\n",
    "    for ex in corpus.get_examples_for_entities(kbt.sbj, kbt.obj):\n",
    "        for word in ex.middle.split(' '):\n",
    "            feature_counter[word] += 1\n",
    "    for ex in corpus.get_examples_for_entities(kbt.obj, kbt.sbj):\n",
    "        for word in ex.middle.split(' '):\n",
    "            feature_counter[word] += 1\n",
    "    return feature_counter"
   ]
  },
  {
   "cell_type": "markdown",
   "metadata": {},
   "source": [
    "Here's how this featurizer works on a single example:"
   ]
  },
  {
   "cell_type": "code",
   "execution_count": 21,
   "metadata": {},
   "outputs": [
    {
     "data": {
      "text/plain": [
       "KBTriple(rel='supplier of', sbj='Iri Group Holdings Inc', obj='DS Smith PLC')"
      ]
     },
     "execution_count": 21,
     "metadata": {},
     "output_type": "execute_result"
    }
   ],
   "source": [
    "kbt = kb.kb_triples[2]\n",
    "\n",
    "kbt"
   ]
  },
  {
   "cell_type": "code",
   "execution_count": 22,
   "metadata": {},
   "outputs": [
    {
     "data": {
      "text/plain": [
       "'Iri Group Holdings Inc'"
      ]
     },
     "execution_count": 22,
     "metadata": {},
     "output_type": "execute_result"
    }
   ],
   "source": [
    "kbt.sbj"
   ]
  },
  {
   "cell_type": "code",
   "execution_count": 23,
   "metadata": {},
   "outputs": [
    {
     "data": {
      "text/plain": [
       "'DS Smith PLC'"
      ]
     },
     "execution_count": 23,
     "metadata": {},
     "output_type": "execute_result"
    }
   ],
   "source": [
    "kbt.obj"
   ]
  },
  {
   "cell_type": "code",
   "execution_count": 24,
   "metadata": {},
   "outputs": [
    {
     "data": {
      "text/plain": [
       "[]"
      ]
     },
     "execution_count": 24,
     "metadata": {},
     "output_type": "execute_result"
    }
   ],
   "source": [
    "corpus.get_examples_for_entities(kbt.sbj, kbt.obj)"
   ]
  },
  {
   "cell_type": "code",
   "execution_count": 32,
   "metadata": {},
   "outputs": [
    {
     "name": "stdout",
     "output_type": "stream",
     "text": [
      "Apple Inc TDK Corp\n",
      " suppliers outperformed, with \n"
     ]
    }
   ],
   "source": [
    "#Find for which triplets we have examples\n",
    "for kbt in kb.kb_triples:\n",
    "    if len(corpus.get_examples_for_entities(kbt.sbj, kbt.obj))>0:\n",
    "        print(kbt.sbj, kbt.obj)\n",
    "        print(corpus.get_examples_for_entities(kbt.sbj, kbt.obj)[0].middle)\n",
    "        break\n",
    "    "
   ]
  },
  {
   "cell_type": "code",
   "execution_count": 33,
   "metadata": {},
   "outputs": [
    {
     "data": {
      "text/plain": [
       "' suppliers outperformed, with '"
      ]
     },
     "execution_count": 33,
     "metadata": {},
     "output_type": "execute_result"
    }
   ],
   "source": [
    "corpus.get_examples_for_entities(kbt.sbj, kbt.obj)[0].middle"
   ]
  },
  {
   "cell_type": "code",
   "execution_count": 35,
   "metadata": {},
   "outputs": [
    {
     "data": {
      "text/plain": [
       "Example(entity_1='Apple Inc', entity_2='TDK Corp', left='Japanese ', mention_1='Apple Inc', middle=' suppliers outperformed, with ', mention_2='TDK Corp', right=' gaining 0.7 percent and Foster Electric rising 1.1 percent, and Taiyo Yuden surging 0.9 percent.', left_POS='Japanese ', mention_1_POS='Apple Inc', middle_POS=' suppliers outperformed, with ', mention_2_POS='TDK Corp', right_POS=' gaining 0.7 percent and Foster Electric rising 1.1 percent, and Taiyo Yuden surging 0.9 percent.')"
      ]
     },
     "execution_count": 35,
     "metadata": {},
     "output_type": "execute_result"
    }
   ],
   "source": [
    "corpus.get_examples_for_entities(kbt.sbj, kbt.obj)[0]"
   ]
  },
  {
   "cell_type": "code",
   "execution_count": 39,
   "metadata": {},
   "outputs": [
    {
     "data": {
      "text/plain": [
       "Counter({'': 15,\n",
       "         'suppliers': 2,\n",
       "         'outperformed,': 1,\n",
       "         'with': 1,\n",
       "         'told': 3,\n",
       "         'investors': 1,\n",
       "         'late': 1,\n",
       "         'on': 2,\n",
       "         'Monday': 1,\n",
       "         'that': 2,\n",
       "         'its': 5,\n",
       "         'manufacturing': 1,\n",
       "         'facilities': 1,\n",
       "         'in': 2,\n",
       "         'China': 1,\n",
       "         'produce': 1,\n",
       "         'iPhone': 3,\n",
       "         'and': 8,\n",
       "         'other': 1,\n",
       "         'electronics': 1,\n",
       "         'have': 1,\n",
       "         'begun': 1,\n",
       "         'to': 6,\n",
       "         're-open,': 1,\n",
       "         'but': 1,\n",
       "         'are': 1,\n",
       "         'ramping': 1,\n",
       "         'up': 1,\n",
       "         'slower': 1,\n",
       "         'than': 3,\n",
       "         'expected.Among': 1,\n",
       "         'Japanese': 1,\n",
       "         'suppliers,': 1,\n",
       "         'electric': 1,\n",
       "         'parts': 1,\n",
       "         'maker': 2,\n",
       "         'Murata': 3,\n",
       "         'Manufacturing': 3,\n",
       "         'shed': 1,\n",
       "         '3.4%': 1,\n",
       "         'Taiyo': 3,\n",
       "         'Yuden': 3,\n",
       "         'Co': 2,\n",
       "         'Ltd': 1,\n",
       "         ',': 2,\n",
       "         'which': 3,\n",
       "         'produces': 1,\n",
       "         'ceramic': 1,\n",
       "         'capacitors': 1,\n",
       "         'for': 3,\n",
       "         'iPhones,': 1,\n",
       "         'lost': 2,\n",
       "         '5.7%,': 1,\n",
       "         'while': 1,\n",
       "         'battery': 1,\n",
       "         'has': 1,\n",
       "         'smartphone': 2,\n",
       "         'assemblers': 2,\n",
       "         'Foxconn': 2,\n",
       "         'Pegatron': 2,\n",
       "         'halt': 2,\n",
       "         'plans': 2,\n",
       "         'additional': 2,\n",
       "         'production': 2,\n",
       "         'lines': 2,\n",
       "         'dedicated': 2,\n",
       "         'the': 2,\n",
       "         'XR': 2,\n",
       "         'launched': 2,\n",
       "         'last': 2,\n",
       "         'month.Japan': 2,\n",
       "         'Display': 3,\n",
       "         'dropped': 2,\n",
       "         'more': 2,\n",
       "         '4': 1,\n",
       "         'percent,': 6,\n",
       "         'had': 1,\n",
       "         'it': 1,\n",
       "         '3.7': 1,\n",
       "         '-linked': 1,\n",
       "         'shares': 1,\n",
       "         'Tokyo': 1,\n",
       "         'retreated.': 1,\n",
       "         'Japan': 1,\n",
       "         'sank': 1,\n",
       "         '7': 1,\n",
       "         '4.1': 1,\n",
       "         'Minebea': 1,\n",
       "         'Mitsumi': 1,\n",
       "         'slid': 1,\n",
       "         '4.7': 1,\n",
       "         'percent': 4,\n",
       "         'surged.': 1,\n",
       "         'gained': 1,\n",
       "         '4.9': 1,\n",
       "         'rose': 1,\n",
       "         '4.4': 1,\n",
       "         'supplier': 1,\n",
       "         'gaining': 1,\n",
       "         '0.7': 1,\n",
       "         'Foster': 1,\n",
       "         'Electric': 1,\n",
       "         'rising': 1,\n",
       "         '1.1': 1,\n",
       "         'surging': 1,\n",
       "         '0.9': 1,\n",
       "         'percent.': 1,\n",
       "         'is': 1,\n",
       "         'scheduled': 1,\n",
       "         'report': 1,\n",
       "         'quarterly': 1,\n",
       "         'earnings': 1,\n",
       "         'Wednesday,': 1,\n",
       "         'finished': 1,\n",
       "         '0.6': 1,\n",
       "         'higher.“Excessive': 1,\n",
       "         'worries': 1,\n",
       "         'about': 1})"
      ]
     },
     "execution_count": 39,
     "metadata": {},
     "output_type": "execute_result"
    }
   ],
   "source": [
    "simple_bag_of_words_featurizer(kbt, corpus, Counter())"
   ]
  },
  {
   "cell_type": "markdown",
   "metadata": {},
   "source": [
    "You can experiment with adding new kinds of features just by implementing additional featurizers, following `simple_bag_of_words_featurizer` as an example.\n",
    "\n",
    "Now, in order to apply machine learning algorithms such as those provided by `sklearn`, we need a way to convert datasets of `KBTriple`s into feature matrices. The following steps achieve that: "
   ]
  },
  {
   "cell_type": "code",
   "execution_count": 40,
   "metadata": {},
   "outputs": [],
   "source": [
    "kbts_by_rel, labels_by_rel = dataset.build_dataset()\n",
    "\n",
    "featurized = dataset.featurize(kbts_by_rel, featurizers=[simple_bag_of_words_featurizer])"
   ]
  },
  {
   "cell_type": "markdown",
   "metadata": {},
   "source": [
    "### Experiments\n",
    "\n",
    "Now we need some functions to train models, make predictions, and evaluate the results. We'll start with `train_models()`. This function takes as arguments a dictionary of data splits, a list of featurizers, the name of the split on which to train (by default, 'train'), and a model factory, which is a function which initializes an `sklearn` classifier (by default, a logistic regression classifier). It returns a dictionary holding the featurizers, the vectorizer that was used to generate the training matrix, and a dictionary holding the trained models, one per relation."
   ]
  },
  {
   "cell_type": "code",
   "execution_count": 42,
   "metadata": {},
   "outputs": [],
   "source": [
    "train_result = rel_ext.train_models(\n",
    "    splits,\n",
    "    featurizers=[simple_bag_of_words_featurizer])"
   ]
  },
  {
   "cell_type": "markdown",
   "metadata": {},
   "source": [
    "Next comes `predict()`. This function takes as arguments a dictionary of data splits, the outputs of `train_models()`, and the name of the split for which to make predictions. It returns two parallel dictionaries: one holding the predictions (grouped by relation), the other holding the true labels (again, grouped by relation)."
   ]
  },
  {
   "cell_type": "code",
   "execution_count": 43,
   "metadata": {},
   "outputs": [],
   "source": [
    "predictions, true_labels = rel_ext.predict(\n",
    "    splits, train_result, split_name='dev')"
   ]
  },
  {
   "cell_type": "markdown",
   "metadata": {},
   "source": [
    "Now `evaluate_predictions()`. This function takes as arguments the parallel dictionaries of predictions and true labels produced by `predict()`. It prints summary statistics for each relation, including precision, recall, and F<sub>0.5</sub>-score, and it returns the macro-averaged F<sub>0.5</sub>-score."
   ]
  },
  {
   "cell_type": "code",
   "execution_count": 44,
   "metadata": {},
   "outputs": [
    {
     "name": "stdout",
     "output_type": "stream",
     "text": [
      "relation              precision     recall    f-score    support       size\n",
      "------------------    ---------  ---------  ---------  ---------  ---------\n",
      "customer of               0.999      0.999      0.999       2557       2560\n",
      "supplier of               0.999      0.999      0.999       3025       3028\n",
      "------------------    ---------  ---------  ---------  ---------  ---------\n",
      "macro-average             0.999      0.999      0.999       5582       5588\n"
     ]
    },
    {
     "data": {
      "text/plain": [
       "0.9989899670713638"
      ]
     },
     "execution_count": 44,
     "metadata": {},
     "output_type": "execute_result"
    }
   ],
   "source": [
    "rel_ext.evaluate_predictions(predictions, true_labels)"
   ]
  },
  {
   "cell_type": "markdown",
   "metadata": {},
   "source": [
    "Finally, we introduce `rel_ext.experiment()`, which basically chains together `rel_ext.train_models()`, `rel_ext.predict()`, and `rel_ext.evaluate_predictions()`. For convenience, this function returns the output of `rel_ext.train_models()` as its result."
   ]
  },
  {
   "cell_type": "markdown",
   "metadata": {},
   "source": [
    "Running `rel_ext.experiment()` in its default configuration will give us a baseline result for machine-learned models."
   ]
  },
  {
   "cell_type": "code",
   "execution_count": 45,
   "metadata": {},
   "outputs": [
    {
     "name": "stdout",
     "output_type": "stream",
     "text": [
      "relation              precision     recall    f-score    support       size\n",
      "------------------    ---------  ---------  ---------  ---------  ---------\n",
      "customer of               0.999      0.999      0.999       2557       2560\n",
      "supplier of               0.999      0.999      0.999       3025       3028\n",
      "------------------    ---------  ---------  ---------  ---------  ---------\n",
      "macro-average             0.999      0.999      0.999       5582       5588\n"
     ]
    }
   ],
   "source": [
    "_ = rel_ext.experiment(\n",
    "    splits,\n",
    "    featurizers=[simple_bag_of_words_featurizer])"
   ]
  },
  {
   "cell_type": "markdown",
   "metadata": {},
   "source": [
    "Considering how vanilla our model is, these results are quite surprisingly good! We see huge gains for every relation over our `top_k_middles_classifier` from [the previous notebook](rel_ext_01_task.ipynb#A-simple-baseline-model). This strong performance is a powerful testament to the effectiveness of even the simplest forms of machine learning.\n",
    "\n",
    "But there is still much more we can do. To make further gains, we must not treat the model as a black box. We must open it up and get visibility into what it has learned, and more importantly, where it still falls down."
   ]
  },
  {
   "cell_type": "markdown",
   "metadata": {},
   "source": [
    "## Analysis"
   ]
  },
  {
   "cell_type": "markdown",
   "metadata": {},
   "source": [
    "### Examining the trained models\n",
    "\n",
    "One important way to gain understanding of our trained model is to inspect the model weights. What features are strong positive indicators for each relation, and what features are strong negative indicators?"
   ]
  },
  {
   "cell_type": "code",
   "execution_count": 46,
   "metadata": {},
   "outputs": [
    {
     "name": "stderr",
     "output_type": "stream",
     "text": [
      "/Users/timmaecker/opt/miniconda3/envs/nlpwcw1_rec/lib/python3.9/site-packages/sklearn/utils/deprecation.py:87: FutureWarning: Function get_feature_names is deprecated; get_feature_names is deprecated in 1.0 and will be removed in 1.2. Please use get_feature_names_out instead.\n",
      "  warnings.warn(msg, category=FutureWarning)\n"
     ]
    }
   ],
   "source": [
    "vectorizer = train_result['vectorizer']\n",
    "\n",
    "if vectorizer is None:\n",
    "    print(\"Model weights can be examined only if the featurizers \"\n",
    "            \"are based in dicts (i.e., if `vectorize=True`).\")\n",
    "\n",
    "feature_names = vectorizer.get_feature_names()\n"
   ]
  },
  {
   "cell_type": "code",
   "execution_count": 48,
   "metadata": {},
   "outputs": [
    {
     "name": "stdout",
     "output_type": "stream",
     "text": [
      "Highest and lowest feature weights for relation customer of:\n",
      "\n"
     ]
    }
   ],
   "source": [
    "for rel, model in train_result['models'].items():\n",
    "    print('Highest and lowest feature weights for relation {}:\\n'.format(rel))\n",
    "    try:\n",
    "        coefs = model.coef_.toarray()\n",
    "    except AttributeError:\n",
    "        coefs = model.coef_\n",
    "    break"
   ]
  },
  {
   "cell_type": "code",
   "execution_count": 49,
   "metadata": {},
   "outputs": [
    {
     "data": {
      "text/plain": [
       "10866"
      ]
     },
     "execution_count": 49,
     "metadata": {},
     "output_type": "execute_result"
    }
   ],
   "source": [
    "len(coefs[0])"
   ]
  },
  {
   "cell_type": "code",
   "execution_count": 54,
   "metadata": {},
   "outputs": [
    {
     "name": "stdout",
     "output_type": "stream",
     "text": [
      "Highest and lowest feature weights for relation customer of:\n",
      "\n",
      "     0.369 for\n",
      "     0.353 to\n",
      "     0.351 in\n",
      "     0.324 the\n",
      "     0.315 ,\n",
      "     0.266 as\n",
      "     0.263 and\n",
      "     0.258 is\n",
      "     0.252 its\n",
      "     0.181 that\n",
      "     0.176 has\n",
      "     0.171 's\n",
      "     0.170 while\n",
      "     0.131 after\n",
      "     0.106 up\n",
      "     0.101 including\n",
      "     0.099 some\n",
      "     0.095 market\n",
      "     0.083 Google\n",
      "     0.081 battery\n",
      "     ..... .....\n",
      "    -0.230 cautioned\n",
      "    -0.230 Profumo\n",
      "    -0.230 Leonardo,\n",
      "    -0.230 33%\n",
      "    -0.230 (TCFP.PA)\n",
      "    -0.230 space\n",
      "    -0.240 sold\n",
      "    -0.254 of\n",
      "    -0.291 he\n",
      "    -0.399 a\n",
      "    -0.470 it\n",
      "    -0.510 business\n",
      "    -0.571 with\n",
      "    -0.613 said\n",
      "    -0.760 Tuesday\n",
      "    -0.784 was\n",
      "    -0.787 earlier\n",
      "    -0.805 pairing\n",
      "    -0.856 (NPTN.N),\n",
      "    -0.863 NeoPhotonics\n",
      "\n",
      "Highest and lowest feature weights for relation supplier of:\n",
      "\n",
      "     0.391 to\n",
      "     0.384 for\n",
      "     0.371 in\n",
      "     0.307 ,\n",
      "     0.285 the\n",
      "     0.269 is\n",
      "     0.261 its\n",
      "     0.252 and\n",
      "     0.235 as\n",
      "     0.205 that\n",
      "     0.164 has\n",
      "     0.150 after\n",
      "     0.148 's\n",
      "     0.145 while\n",
      "     0.108 up\n",
      "     0.088 including\n",
      "     0.086 market\n",
      "     0.083 last\n",
      "     0.077 companies\n",
      "     0.076 battery\n",
      "     ..... .....\n",
      "    -0.233 guaranteed.“We\n",
      "    -0.233 cautioned\n",
      "    -0.233 Profumo\n",
      "    -0.233 Leonardo,\n",
      "    -0.233 33%\n",
      "    -0.233 (TCFP.PA)\n",
      "    -0.233 space\n",
      "    -0.246 sold\n",
      "    -0.302 he\n",
      "    -0.390 a\n",
      "    -0.483 it\n",
      "    -0.540 business\n",
      "    -0.586 with\n",
      "    -0.637 said\n",
      "    -0.759 Tuesday\n",
      "    -0.778 earlier\n",
      "    -0.780 was\n",
      "    -0.812 pairing\n",
      "    -0.860 (NPTN.N),\n",
      "    -0.867 NeoPhotonics\n",
      "\n"
     ]
    }
   ],
   "source": [
    "k=20\n",
    "for rel, model in train_result['models'].items():\n",
    "    print('Highest and lowest feature weights for relation {}:\\n'.format(rel))\n",
    "    try:\n",
    "        coefs = model.coef_.toarray()\n",
    "    except AttributeError:\n",
    "        coefs = model.coef_\n",
    "    sorted_weights = sorted([(wgt, idx) for idx, wgt in enumerate(coefs[0])], reverse=True)\n",
    "    for wgt, idx in sorted_weights[:k]:\n",
    "        print('{:10.3f} {}'.format(wgt, feature_names[idx]))\n",
    "    print('{:>10s} {}'.format('.....', '.....'))\n",
    "    for wgt, idx in sorted_weights[-k:]:\n",
    "        print('{:10.3f} {}'.format(wgt, feature_names[idx]))\n",
    "    print()\n"
   ]
  },
  {
   "cell_type": "code",
   "execution_count": 51,
   "metadata": {},
   "outputs": [
    {
     "name": "stdout",
     "output_type": "stream",
     "text": [
      "Highest and lowest feature weights for relation customer of:\n",
      "\n",
      "     0.369 for\n",
      "     0.353 to\n",
      "     0.351 in\n",
      "     ..... .....\n",
      "    -0.805 pairing\n",
      "    -0.856 (NPTN.N),\n",
      "    -0.863 NeoPhotonics\n",
      "\n",
      "Highest and lowest feature weights for relation supplier of:\n",
      "\n",
      "     0.391 to\n",
      "     0.384 for\n",
      "     0.371 in\n",
      "     ..... .....\n",
      "    -0.812 pairing\n",
      "    -0.860 (NPTN.N),\n",
      "    -0.867 NeoPhotonics\n",
      "\n"
     ]
    }
   ],
   "source": [
    "rel_ext.examine_model_weights(train_result)"
   ]
  },
  {
   "cell_type": "markdown",
   "metadata": {},
   "source": [
    "By and large, the high-weight features for each relation are pretty intuitive — they are words that are used to express the relation in question. (The counter-intuitive results merit a bit of investigation!)\n",
    "\n",
    "The low-weight features (that is, features with large negative weights) may be a bit harder to understand. In some cases, however, they can be interpreted as features which indicate some _other_ relation which is anti-correlated with the target relation. (As an example, \"directed\" is a negative indicator for the `author` relation.)\n",
    "\n",
    "__Optional exercise:__ Investigate one of the counter-intuitive high-weight features. Find the training examples which caused the feature to be included. Given the training data, does it make sense that this feature is a good predictor for the target relation?\n",
    "\n",
    "<!--\n",
    "- SPOILER: Using `penalty='l1'` results in somewhat less intuitive feature weights, and about the same performance.\n",
    "- SPOILER: Using `penalty='l1', C=0.1` results in much more intuitive feature weights, but much worse performance.\n",
    "-->"
   ]
  },
  {
   "cell_type": "markdown",
   "metadata": {},
   "source": [
    "### Discovering new relation instances\n",
    "\n",
    "Another way to gain insight into our trained models is to use them to discover new relation instances that don't currently appear in the KB. In fact, this is the whole point of building a relation extraction system: to extend an existing KB (or build a new one) using knowledge extracted from natural language text at scale. Can the models we've trained do this effectively?\n",
    "\n",
    "Because the goal is to discover new relation instances which are *true* but *absent from the KB*, we can't evaluate this capability automatically. But we can generate candidate KB triples and manually evaluate them for correctness.\n",
    "\n",
    "To do this, we'll start from corpus examples containing pairs of entities which do not belong to any relation in the KB (earlier, we described these as \"negative examples\"). We'll then apply our trained models to each pair of entities, and sort the results by probability assigned by the model, in order to find the most likely new instances for each relation."
   ]
  },
  {
   "cell_type": "code",
   "execution_count": 52,
   "metadata": {},
   "outputs": [
    {
     "name": "stdout",
     "output_type": "stream",
     "text": [
      "Highest probability examples for relation customer of:\n",
      "\n",
      "     1.000 KBTriple(rel='customer of', sbj='Schlumberger NV', obj='Halliburton Co')\n",
      "     1.000 KBTriple(rel='customer of', sbj='Halliburton Co', obj='Schlumberger NV')\n",
      "     1.000 KBTriple(rel='customer of', sbj='Time Warner Inc', obj='Charter Communications Inc')\n",
      "     1.000 KBTriple(rel='customer of', sbj='Charter Communications Inc', obj='Time Warner Inc')\n",
      "     1.000 KBTriple(rel='customer of', sbj='Uber Technologies Inc', obj='SoftBank Group Corp')\n",
      "     1.000 KBTriple(rel='customer of', sbj='SoftBank Group Corp', obj='Uber Technologies Inc')\n",
      "     1.000 KBTriple(rel='customer of', sbj='General Motors Co', obj='Linamar Corp')\n",
      "     1.000 KBTriple(rel='customer of', sbj='Linamar Corp', obj='General Motors Co')\n",
      "     1.000 KBTriple(rel='customer of', sbj='Walmart Inc', obj='Tesco PLC')\n",
      "     1.000 KBTriple(rel='customer of', sbj='Tesco PLC', obj='Walmart Inc')\n",
      "\n",
      "Highest probability examples for relation supplier of:\n",
      "\n",
      "     1.000 KBTriple(rel='supplier of', sbj='Schlumberger NV', obj='Halliburton Co')\n",
      "     1.000 KBTriple(rel='supplier of', sbj='Halliburton Co', obj='Schlumberger NV')\n",
      "     1.000 KBTriple(rel='supplier of', sbj='Time Warner Inc', obj='Charter Communications Inc')\n",
      "     1.000 KBTriple(rel='supplier of', sbj='Charter Communications Inc', obj='Time Warner Inc')\n",
      "     1.000 KBTriple(rel='supplier of', sbj='Uber Technologies Inc', obj='SoftBank Group Corp')\n",
      "     1.000 KBTriple(rel='supplier of', sbj='SoftBank Group Corp', obj='Uber Technologies Inc')\n",
      "     1.000 KBTriple(rel='supplier of', sbj='General Motors Co', obj='Linamar Corp')\n",
      "     1.000 KBTriple(rel='supplier of', sbj='Linamar Corp', obj='General Motors Co')\n",
      "     1.000 KBTriple(rel='supplier of', sbj='Walmart Inc', obj='Tesco PLC')\n",
      "     1.000 KBTriple(rel='supplier of', sbj='Tesco PLC', obj='Walmart Inc')\n",
      "\n"
     ]
    }
   ],
   "source": [
    "rel_ext.find_new_relation_instances(\n",
    "    dataset,\n",
    "    featurizers=[simple_bag_of_words_featurizer])"
   ]
  },
  {
   "cell_type": "markdown",
   "metadata": {},
   "source": [
    "There are actually some good discoveries here! The predictions for the `author` relation seem especially good. Of course, there are also plenty of bad results, and a few that are downright comical. We may hope that as we improve our models and optimize performance in our automatic evaluations, the results we observe in this manual evaluation improve as well.\n",
    "\n",
    "__Optional exercise:__ Note that every time we predict that a given relation holds between entities `X` and `Y`, we also predict, with equal confidence, that it holds between `Y` and `X`. Why? How could we fix this?\n",
    "\n",
    "\\[ [top](#Relation-extraction-using-distant-supervision) \\]"
   ]
  }
 ],
 "metadata": {
  "interpreter": {
   "hash": "4afa26c81afa363b1ab4bf815135f7b681d0cb95b1a3acd8faa5c509a97d1404"
  },
  "kernelspec": {
   "display_name": "Python 3.9.7 64-bit ('nlpwcw1_rec': conda)",
   "name": "python3"
  },
  "language_info": {
   "codemirror_mode": {
    "name": "ipython",
    "version": 3
   },
   "file_extension": ".py",
   "mimetype": "text/x-python",
   "name": "python",
   "nbconvert_exporter": "python",
   "pygments_lexer": "ipython3",
   "version": "3.9.7"
  },
  "widgets": {
   "state": {},
   "version": "1.1.2"
  }
 },
 "nbformat": 4,
 "nbformat_minor": 4
}
