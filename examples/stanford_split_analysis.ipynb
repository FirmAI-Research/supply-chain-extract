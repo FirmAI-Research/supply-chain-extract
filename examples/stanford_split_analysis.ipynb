{
 "cells": [
  {
   "cell_type": "code",
   "execution_count": 1,
   "metadata": {},
   "outputs": [],
   "source": [
    "import os\n",
    "import re\n",
    "\n",
    "import sys\n",
    "import numpy as np\n",
    "import pandas as pd\n",
    "\n",
    "import matplotlib.pyplot as plt\n",
    "import seaborn as sns\n",
    "\n",
    "\n",
    "try:\n",
    "    # python package (nlp) location - two levels up from this file\n",
    "    src_path = os.path.abspath(os.path.join(os.getcwd(), \"../..\"))\n",
    "    # add package to sys.path if it's not already there\n",
    "    if src_path not in sys.path:\n",
    "        sys.path.extend([src_path])\n",
    "except NameError:\n",
    "    print('issue with adding to path, probably due to __file__ not being defined')\n",
    "    src_path = None\n",
    "\n",
    "\n",
    "from nlp.utils import get_database, niave_long_to_short_name, get_knowledge_base_from_value_chain_data\n",
    "from nlp import get_configs_path, get_data_path"
   ]
  },
  {
   "cell_type": "code",
   "execution_count": 2,
   "metadata": {},
   "outputs": [],
   "source": [
    "def get_ol_dict(df_target, target_entities, train_entities):\n",
    "    # For those entities which overlap between train and target set, count how often they appear in the target set\n",
    "    ol_counter = {}\n",
    "    for entity in target_entities.entity:\n",
    "        if entity in list(train_entities.entity):\n",
    "            occurence = len(df_target[df_target.pair.astype(str).str.contains(entity)])\n",
    "            ol_counter[entity] = occurence \n",
    "        else: ol_counter[entity] = 0\n",
    "\n",
    "    cumsum_df = pd.DataFrame(pd.Series(ol_counter.values()).value_counts()).reset_index().sort_values(by='index').rename(columns = {0: 'occ'})\n",
    "    cumsum_df['cumsum_occ'] = np.cumsum(cumsum_df.occ)  / len(target_entities)\n",
    "    cumsum_df.reset_index(drop=True, inplace=True)\n",
    "\n",
    "    return ol_counter, cumsum_df\n",
    "\n",
    "def pd_entropy(labels):\n",
    "    vc = pd.Series(labels).value_counts(normalize=True, sort=False)\n",
    "    return np.sum(-(vc * np.log(vc)))\n",
    "\n",
    "def corpus_entropy(df_split,entity='entity1'):\n",
    "    return pd.DataFrame([pd_entropy(df_split[df_split[entity]==ent].split) for ent in df_split[entity].unique()],index=df_split[entity].unique(),columns=[\"entropy_\" +entity])\n",
    "\n",
    "def overlap_analysis_fn(df_train, df_val, df_test, split_name):\n",
    "    train_entities = pd.DataFrame(pd.Series(list(df_train.entity1_full.unique()) + list(df_train.entity2_full.unique())).unique()).rename(columns = {0: 'entity'})\n",
    "    val_entities = pd.DataFrame(pd.Series(list(df_val.entity1_full.unique()) + list(df_val.entity2_full.unique())).unique()).rename(columns = {0: 'entity'})\n",
    "    test_entities = pd.DataFrame(pd.Series(list(df_test.entity1_full.unique()) + list(df_test.entity2_full.unique())).unique()).rename(columns = {0: 'entity'})\n",
    "\n",
    "    print('Summary Stats:')\n",
    "    print('Total Entries: Train: {} | Val: {} | Test: {}' .format(len(df_train), len(df_val), len(df_test)))\n",
    "    print('Class Balance (KB Label): Train: {} | Val: {} | Test: {}' .format(round(df_train.KB_label.mean(),2), round(df_val.KB_label.mean(),2), round(df_test.KB_label.mean(),2)))\n",
    "    print('Class Balance (Weak Label): Train: {} | Val: {} | Test: {}' .format(df_train.weak_label.mean(), df_val.weak_label.mean(), df_test.weak_label.mean()))\n",
    "    print('Unique Entities: Train: {} | Val: {} | Test: {} \\n' .format(len(train_entities), len(val_entities), len(test_entities)))\n",
    "\n",
    "    # Get list of those entities which occur in both training and validation sets  \n",
    "    val_ol = [ent for ent in val_entities.entity if ent in list(train_entities.entity)]\n",
    "    test_ol = [ent for ent in test_entities.entity if ent in list(train_entities.entity)]\n",
    "    \n",
    "    print('Entity Overlap Ratio Train/Val: {}' .format(len(val_ol) / len(val_entities)))\n",
    "    print('Entity Overlap Ratio Train/Test: {} \\n' .format(len(test_ol) / len(test_entities)))\n",
    "\n",
    "    ol_counter, cumsum_df = get_ol_dict(df_val, val_entities, train_entities)\n",
    "    val_ol_counter = ol_counter\n",
    "\n",
    "    fig, ax = plt.subplots(1,2, figsize = (12,3))\n",
    "    plt.suptitle('Overlaps Between Train and Validation Sets')\n",
    "    ax[0].hist(ol_counter.values(), bins=25)\n",
    "    ax[0].grid(which = 'major', axis = 'y')\n",
    "    ax[1].bar(x = cumsum_df.index, height = cumsum_df.cumsum_occ)\n",
    "    ax[1].grid(which = 'major', axis = 'y')\n",
    "    plt.show()\n",
    "\n",
    "    ol_counter, cumsum_df = get_ol_dict(df_test, test_entities, train_entities)\n",
    "    test_ol_counter = ol_counter\n",
    "\n",
    "    fig, ax = plt.subplots(1,2, figsize = (12,3))\n",
    "    plt.suptitle('Overlaps Between Train and Test Sets')\n",
    "    ax[0].hist(ol_counter.values(), bins=25)\n",
    "    ax[0].grid(which = 'major', axis = 'y')\n",
    "    ax[1].bar(x = cumsum_df.index, height = cumsum_df.cumsum_occ)\n",
    "    ax[1].grid(which = 'major', axis = 'y')\n",
    "    plt.show()\n",
    "    \n",
    "    print('Looking for overlapping exact pairs:')\n",
    "    print('Train/Val: {}' .format([pair for pair in df_val.pair.unique() if pair in list(df_train.pair.unique())]))\n",
    "    print('Train/Test: {} \\n\\n' .format([pair for pair in df_test.pair.unique() if pair in list(df_train.pair.unique())]))\n",
    "\n",
    "    df_stacked = pd.concat([df_train, df_val, df_test])\n",
    "    \n",
    "    entropy_entity1 = corpus_entropy(df_stacked,entity='entity1').describe()\n",
    "    entropy_entity2 = corpus_entropy(df_stacked,entity='entity2').describe()\n",
    "    entropy_pair = corpus_entropy(df_stacked,entity='pair').describe()\n",
    "    entropy = pd.concat([entropy_entity1,entropy_entity2,entropy_pair],axis=1)\n",
    "    print('Entropy: {}' .format(split_name))\n",
    "    print(entropy.round(2))\n",
    "\n",
    "    test_ol_counter_sorted = sorted(test_ol_counter.items(), key=lambda x: x[1], reverse=True)\n",
    "    val_ol_counter_sorted = sorted(val_ol_counter.items(), key=lambda x: x[1], reverse=True)\n",
    "\n",
    "    return val_ol_counter_sorted, pd.Series(val_ol_counter.values()).describe(), test_ol_counter_sorted, pd.Series(test_ol_counter.values()).describe()"
   ]
  },
  {
   "cell_type": "code",
   "execution_count": 4,
   "metadata": {},
   "outputs": [],
   "source": [
    "df_full = pd.read_csv(get_data_path() + '/split_files/df_full_31Mar.tsv', sep = '\\t')"
   ]
  },
  {
   "cell_type": "code",
   "execution_count": 7,
   "metadata": {},
   "outputs": [],
   "source": [
    "stan_train = df_full[df_full.split == 0].reset_index(drop=True)\n",
    "stan_val = df_full[df_full.split == 1].reset_index(drop=True)\n",
    "stan_test = df_full[df_full.split == 2].reset_index(drop=True)"
   ]
  },
  {
   "cell_type": "code",
   "execution_count": 10,
   "metadata": {},
   "outputs": [
    {
     "name": "stdout",
     "output_type": "stream",
     "text": [
      "Summary Stats:\n",
      "Total Entries: Train: 16878 | Val: 4399 | Test: 5258\n",
      "Class Balance (KB Label): Train: 0.42 | Val: 0.45 | Test: 0.47\n",
      "Class Balance (Weak Label): Train: 0.05154639175257732 | Val: -0.014094112298249603 | Test: -0.006466337010270064\n",
      "Unique Entities: Train: 634 | Val: 388 | Test: 423 \n",
      "\n",
      "Entity Overlap Ratio Train/Val: 0.8711340206185567\n",
      "Entity Overlap Ratio Train/Test: 0.8486997635933806 \n",
      "\n"
     ]
    },
    {
     "data": {
      "image/png": "[encoded data removed]",
      "text/plain": [
       "<Figure size 864x216 with 2 Axes>"
      ]
     },
     "metadata": {
      "needs_background": "light"
     },
     "output_type": "display_data"
    },
    {
     "data": {
      "image/png": "[encoded data removed]",
      "text/plain": [
       "<Figure size 864x216 with 2 Axes>"
      ]
     },
     "metadata": {
      "needs_background": "light"
     },
     "output_type": "display_data"
    },
    {
     "name": "stdout",
     "output_type": "stream",
     "text": [
      "Looking for overlapping exact pairs:\n",
      "Train/Val: ['Synaptics Inc|Atmel Corp']\n",
      "Train/Test: ['Suzhou Dongshan Precision Manufacturing Co Ltd|Shenzhen Sunway Communication Co Ltd', 'Synaptics Inc|Atmel Corp'] \n",
      "\n",
      "\n",
      "Entropy: Stanford\n",
      "       entropy_entity1  entropy_entity2  entropy_pair\n",
      "count           585.00           620.00       5869.00\n",
      "mean              0.04             0.41          0.00\n",
      "std               0.16             0.38          0.02\n",
      "min               0.00             0.00          0.00\n",
      "25%               0.00             0.00          0.00\n",
      "50%               0.00             0.45          0.00\n",
      "75%               0.00             0.69          0.00\n",
      "max               1.10             1.10          1.04\n"
     ]
    }
   ],
   "source": [
    "overlap_val_count, overlap_val_summary, overlap_test_count, overlap_test_summary = overlap_analysis_fn(stan_train, stan_val, stan_test, 'Stanford')"
   ]
  },
  {
   "cell_type": "code",
   "execution_count": 11,
   "metadata": {},
   "outputs": [
    {
     "data": {
      "text/plain": [
       "([('Samsung Electronics Co Ltd', 642),\n",
       "  ('Boeing Co', 562),\n",
       "  ('SoftBank Group Corp', 377),\n",
       "  ('Comcast Corp', 334),\n",
       "  ('Uber Technologies Inc', 320),\n",
       "  ('Oracle Corp', 236),\n",
       "  ('Charter Communications Inc', 225),\n",
       "  ('Time Warner Inc', 190),\n",
       "  ('Intel Corp', 173),\n",
       "  ('ZTE Corp', 137)],\n",
       " count    388.000000\n",
       " mean      22.216495\n",
       " std       59.844800\n",
       " min        0.000000\n",
       " 25%        1.000000\n",
       " 50%        4.000000\n",
       " 75%       20.000000\n",
       " max      642.000000\n",
       " dtype: float64)"
      ]
     },
     "execution_count": 11,
     "metadata": {},
     "output_type": "execute_result"
    }
   ],
   "source": [
    "overlap_val_count[:10], overlap_val_summary"
   ]
  },
  {
   "cell_type": "code",
   "execution_count": 12,
   "metadata": {},
   "outputs": [
    {
     "data": {
      "text/plain": [
       "([('Amazon.com Inc', 841),\n",
       "  ('Verizon Communications Inc', 486),\n",
       "  ('Alphabet Inc', 478),\n",
       "  ('Tesla Inc', 413),\n",
       "  ('Lockheed Martin Corp', 328),\n",
       "  ('Netflix Inc', 284),\n",
       "  ('Apple Inc', 263),\n",
       "  ('Walmart Inc', 258),\n",
       "  ('Boeing Co', 257),\n",
       "  ('Federal Aviation Administration', 191)],\n",
       " count    423.000000\n",
       " mean      23.619385\n",
       " std       67.134719\n",
       " min        0.000000\n",
       " 25%        1.000000\n",
       " 50%        4.000000\n",
       " 75%       21.000000\n",
       " max      841.000000\n",
       " dtype: float64)"
      ]
     },
     "execution_count": 12,
     "metadata": {},
     "output_type": "execute_result"
    }
   ],
   "source": [
    "overlap_test_count[:10], overlap_test_summary"
   ]
  },
  {
   "cell_type": "code",
   "execution_count": null,
   "metadata": {},
   "outputs": [],
   "source": []
  }
 ],
 "metadata": {
  "interpreter": {
   "hash": "3f7d2af36c4982ce742f0dafdcf9be6a4a1c827501473043a2e0130535b4096f"
  },
  "kernelspec": {
   "display_name": "Python 3.9.5 ('base')",
   "language": "python",
   "name": "python3"
  },
  "language_info": {
   "codemirror_mode": {
    "name": "ipython",
    "version": 3
   },
   "file_extension": ".py",
   "mimetype": "text/x-python",
   "name": "python",
   "nbconvert_exporter": "python",
   "pygments_lexer": "ipython3",
   "version": "3.9.5"
  },
  "orig_nbformat": 4
 },
 "nbformat": 4,
 "nbformat_minor": 2
}
