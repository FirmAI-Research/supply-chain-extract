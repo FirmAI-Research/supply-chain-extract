{
 "cells": [
  {
   "cell_type": "code",
   "execution_count": 92,
   "metadata": {},
   "outputs": [],
   "source": [
    "import numpy as np\n",
    "import pandas as pd\n",
    "import re\n",
    "import random\n",
    "import os\n",
    "import gzip\n",
    "from collections import Counter, defaultdict, namedtuple"
   ]
  },
  {
   "cell_type": "code",
   "execution_count": 13,
   "metadata": {},
   "outputs": [
    {
     "name": "stdout",
     "output_type": "stream",
     "text": [
      "/Users/johannesbreit/Library/CloudStorage/OneDrive-UniversityCollegeLondon/COMP0087/project/nlpproject\n",
      "/Users/johannesbreit/Library/CloudStorage/OneDrive-UniversityCollegeLondon/COMP0087/project/nlpproject\n"
     ]
    }
   ],
   "source": [
    "%cd /Users/johannesbreit/Library/CloudStorage/OneDrive-UniversityCollegeLondon/COMP0087/project/nlpproject\n",
    "!pwd"
   ]
  },
  {
   "cell_type": "code",
   "execution_count": 49,
   "metadata": {},
   "outputs": [
    {
     "name": "stdout",
     "output_type": "stream",
     "text": [
      "/Users/johannesbreit/Library/CloudStorage/OneDrive-UniversityCollegeLondon/COMP0087/project/nlpproject/nlp/data\n"
     ]
    }
   ],
   "source": [
    "cd data"
   ]
  },
  {
   "cell_type": "code",
   "execution_count": 50,
   "metadata": {},
   "outputs": [
    {
     "data": {
      "text/plain": [
       "'/Users/johannesbreit/Library/CloudStorage/OneDrive-UniversityCollegeLondon/COMP0087/project/nlpproject/nlp/data'"
      ]
     },
     "execution_count": 50,
     "metadata": {},
     "output_type": "execute_result"
    }
   ],
   "source": [
    "os.getcwd()"
   ]
  },
  {
   "cell_type": "code",
   "execution_count": 51,
   "metadata": {},
   "outputs": [
    {
     "data": {
      "text/plain": [
       "'/Users/johannesbreit/Library/CloudStorage/OneDrive-UniversityCollegeLondon/COMP0087/project/nlpproject/nlp/data'"
      ]
     },
     "execution_count": 51,
     "metadata": {},
     "output_type": "execute_result"
    }
   ],
   "source": [
    "pwd"
   ]
  },
  {
   "cell_type": "code",
   "execution_count": 52,
   "metadata": {},
   "outputs": [
    {
     "name": "stdout",
     "output_type": "stream",
     "text": [
      "\u001b[34mKB\u001b[m\u001b[m/\n",
      "articles_with_names.json\n",
      "articles_with_no_names_in_text.json\n",
      "common_crawl_news_warc_gz_list.csv\n",
      "example_inputs.tsv\n",
      "example_inputs_long_names.tsv\n",
      "example_inputs_long_names.tsv.gz\n",
      "example_inputs_long_names_pos_and_neg.tsv.gz\n",
      "example_inputs_pos_and_neg.tsv.gz\n",
      "example_kb.tsv.gz\n",
      "example_kb_all_supplier.tsv.gz\n",
      "short_name_conversion.tsv\n",
      "\u001b[34mvalue_chain\u001b[m\u001b[m/\n"
     ]
    }
   ],
   "source": [
    "ls"
   ]
  },
  {
   "cell_type": "markdown",
   "metadata": {},
   "source": [
    "## Prep Corpus"
   ]
  },
  {
   "cell_type": "code",
   "execution_count": 68,
   "metadata": {},
   "outputs": [
    {
     "data": {
      "text/html": [
       "<div>\n",
       "<style scoped>\n",
       "    .dataframe tbody tr th:only-of-type {\n",
       "        vertical-align: middle;\n",
       "    }\n",
       "\n",
       "    .dataframe tbody tr th {\n",
       "        vertical-align: top;\n",
       "    }\n",
       "\n",
       "    .dataframe thead th {\n",
       "        text-align: right;\n",
       "    }\n",
       "</style>\n",
       "<table border=\"1\" class=\"dataframe\">\n",
       "  <thead>\n",
       "    <tr style=\"text-align: right;\">\n",
       "      <th></th>\n",
       "      <th>entity1</th>\n",
       "      <th>entity2</th>\n",
       "      <th>left</th>\n",
       "      <th>middle</th>\n",
       "      <th>right</th>\n",
       "      <th>article</th>\n",
       "      <th>label</th>\n",
       "    </tr>\n",
       "  </thead>\n",
       "  <tbody>\n",
       "    <tr>\n",
       "      <th>0</th>\n",
       "      <td>Apple Inc</td>\n",
       "      <td>Samsung Electronics Co Ltd</td>\n",
       "      <td>\\nThese reviews have been especially popular w...</td>\n",
       "      <td>(AAPL.O) and</td>\n",
       "      <td>(005930.KS) frequently hit with patent infrin...</td>\n",
       "      <td>50b8f1a67bb7c2cab2fe56b55a24f59ad1703c07b7053e...</td>\n",
       "      <td>0</td>\n",
       "    </tr>\n",
       "    <tr>\n",
       "      <th>1</th>\n",
       "      <td>Bharti Airtel Ltd</td>\n",
       "      <td>Reliance Industries Ltd</td>\n",
       "      <td>* Q4 profit 829 mln rupees vs. 3.73 bln rupees...</td>\n",
       "      <td>posted its lowest quarterly profit in nearly ...</td>\n",
       "      <td>Jio, the telecoms arm of Reliance, into India...</td>\n",
       "      <td>603eeb451da67a70850a823e4eb4e1221a5358040bde3b...</td>\n",
       "      <td>0</td>\n",
       "    </tr>\n",
       "    <tr>\n",
       "      <th>2</th>\n",
       "      <td>Reliance Industries Ltd</td>\n",
       "      <td>Bharti Airtel Ltd</td>\n",
       "      <td>\\nThe entry of Reliance Jio, the telecoms arm of</td>\n",
       "      <td>, into India's telecoms sector has set off a b...</td>\n",
       "      <td>'s managing director and chief executive for I...</td>\n",
       "      <td>603eeb451da67a70850a823e4eb4e1221a5358040bde3b...</td>\n",
       "      <td>0</td>\n",
       "    </tr>\n",
       "    <tr>\n",
       "      <th>3</th>\n",
       "      <td>Bharti Airtel Ltd</td>\n",
       "      <td>Reliance Industries Ltd</td>\n",
       "      <td>The U.S. Supreme Court on Tuesday ruled that f...</td>\n",
       "      <td>dan-based Arab Bank Plc helped finance militan...</td>\n",
       "      <td>24, 2016.</td>\n",
       "      <td>26cb6ec3607fdb028b712d260131058e9b01b9aadc26cf...</td>\n",
       "      <td>1</td>\n",
       "    </tr>\n",
       "    <tr>\n",
       "      <th>4</th>\n",
       "      <td>Reliance Industries Ltd</td>\n",
       "      <td>Bharti Airtel Ltd</td>\n",
       "      <td>REUTERS/Aziz Ta</td>\n",
       "      <td>Photo\\nThe 5-4 decision brought to an end a l...</td>\n",
       "      <td>minor connection between the terrorist attacks...</td>\n",
       "      <td>26cb6ec3607fdb028b712d260131058e9b01b9aadc26cf...</td>\n",
       "      <td>1</td>\n",
       "    </tr>\n",
       "  </tbody>\n",
       "</table>\n",
       "</div>"
      ],
      "text/plain": [
       "                   entity1                     entity2  \\\n",
       "0                Apple Inc  Samsung Electronics Co Ltd   \n",
       "1        Bharti Airtel Ltd     Reliance Industries Ltd   \n",
       "2  Reliance Industries Ltd           Bharti Airtel Ltd   \n",
       "3        Bharti Airtel Ltd     Reliance Industries Ltd   \n",
       "4  Reliance Industries Ltd           Bharti Airtel Ltd   \n",
       "\n",
       "                                                left  \\\n",
       "0  \\nThese reviews have been especially popular w...   \n",
       "1  * Q4 profit 829 mln rupees vs. 3.73 bln rupees...   \n",
       "2  \\nThe entry of Reliance Jio, the telecoms arm of    \n",
       "3  The U.S. Supreme Court on Tuesday ruled that f...   \n",
       "4                                    REUTERS/Aziz Ta   \n",
       "\n",
       "                                              middle  \\\n",
       "0                                      (AAPL.O) and    \n",
       "1   posted its lowest quarterly profit in nearly ...   \n",
       "2  , into India's telecoms sector has set off a b...   \n",
       "3  dan-based Arab Bank Plc helped finance militan...   \n",
       "4   Photo\\nThe 5-4 decision brought to an end a l...   \n",
       "\n",
       "                                               right  \\\n",
       "0   (005930.KS) frequently hit with patent infrin...   \n",
       "1   Jio, the telecoms arm of Reliance, into India...   \n",
       "2  's managing director and chief executive for I...   \n",
       "3                                          24, 2016.   \n",
       "4  minor connection between the terrorist attacks...   \n",
       "\n",
       "                                             article  label  \n",
       "0  50b8f1a67bb7c2cab2fe56b55a24f59ad1703c07b7053e...      0  \n",
       "1  603eeb451da67a70850a823e4eb4e1221a5358040bde3b...      0  \n",
       "2  603eeb451da67a70850a823e4eb4e1221a5358040bde3b...      0  \n",
       "3  26cb6ec3607fdb028b712d260131058e9b01b9aadc26cf...      1  \n",
       "4  26cb6ec3607fdb028b712d260131058e9b01b9aadc26cf...      1  "
      ]
     },
     "execution_count": 68,
     "metadata": {},
     "output_type": "execute_result"
    }
   ],
   "source": [
    "corpus_in = pd.read_csv('example_inputs_pos_and_neg.tsv.gz', compression='gzip', header=0, sep='\\t')\n",
    "corpus_in.head()"
   ]
  },
  {
   "cell_type": "code",
   "execution_count": 69,
   "metadata": {},
   "outputs": [
    {
     "data": {
      "text/html": [
       "<div>\n",
       "<style scoped>\n",
       "    .dataframe tbody tr th:only-of-type {\n",
       "        vertical-align: middle;\n",
       "    }\n",
       "\n",
       "    .dataframe tbody tr th {\n",
       "        vertical-align: top;\n",
       "    }\n",
       "\n",
       "    .dataframe thead th {\n",
       "        text-align: right;\n",
       "    }\n",
       "</style>\n",
       "<table border=\"1\" class=\"dataframe\">\n",
       "  <thead>\n",
       "    <tr style=\"text-align: right;\">\n",
       "      <th></th>\n",
       "      <th>entity1</th>\n",
       "      <th>entity2</th>\n",
       "      <th>left</th>\n",
       "      <th>middle</th>\n",
       "      <th>right</th>\n",
       "      <th>article</th>\n",
       "      <th>label</th>\n",
       "    </tr>\n",
       "  </thead>\n",
       "  <tbody>\n",
       "    <tr>\n",
       "      <th>0</th>\n",
       "      <td>Apple Inc</td>\n",
       "      <td>Samsung Electronics Co Ltd</td>\n",
       "      <td>These reviews have been especially popular wit...</td>\n",
       "      <td>(AAPL.O) and</td>\n",
       "      <td>(005930.KS) frequently hit with patent infrin...</td>\n",
       "      <td>50b8f1a67bb7c2cab2fe56b55a24f59ad1703c07b7053e...</td>\n",
       "      <td>0</td>\n",
       "    </tr>\n",
       "    <tr>\n",
       "      <th>1</th>\n",
       "      <td>Bharti Airtel Ltd</td>\n",
       "      <td>Reliance Industries Ltd</td>\n",
       "      <td>* Q4 profit 829 mln rupees vs. 3.73 bln rupees...</td>\n",
       "      <td>posted its lowest quarterly profit in nearly ...</td>\n",
       "      <td>Jio, the telecoms arm of Reliance, into India...</td>\n",
       "      <td>603eeb451da67a70850a823e4eb4e1221a5358040bde3b...</td>\n",
       "      <td>0</td>\n",
       "    </tr>\n",
       "    <tr>\n",
       "      <th>2</th>\n",
       "      <td>Reliance Industries Ltd</td>\n",
       "      <td>Bharti Airtel Ltd</td>\n",
       "      <td>The entry of Reliance Jio, the telecoms arm of</td>\n",
       "      <td>, into India's telecoms sector has set off a b...</td>\n",
       "      <td>'s managing director and chief executive for I...</td>\n",
       "      <td>603eeb451da67a70850a823e4eb4e1221a5358040bde3b...</td>\n",
       "      <td>0</td>\n",
       "    </tr>\n",
       "    <tr>\n",
       "      <th>3</th>\n",
       "      <td>Bharti Airtel Ltd</td>\n",
       "      <td>Reliance Industries Ltd</td>\n",
       "      <td>The U.S. Supreme Court on Tuesday ruled that f...</td>\n",
       "      <td>dan-based Arab Bank Plc helped finance militan...</td>\n",
       "      <td>24, 2016.</td>\n",
       "      <td>26cb6ec3607fdb028b712d260131058e9b01b9aadc26cf...</td>\n",
       "      <td>1</td>\n",
       "    </tr>\n",
       "    <tr>\n",
       "      <th>4</th>\n",
       "      <td>Reliance Industries Ltd</td>\n",
       "      <td>Bharti Airtel Ltd</td>\n",
       "      <td>REUTERS/Aziz Ta</td>\n",
       "      <td>PhotoThe 5-4 decision brought to an end a law...</td>\n",
       "      <td>minor connection between the terrorist attacks...</td>\n",
       "      <td>26cb6ec3607fdb028b712d260131058e9b01b9aadc26cf...</td>\n",
       "      <td>1</td>\n",
       "    </tr>\n",
       "  </tbody>\n",
       "</table>\n",
       "</div>"
      ],
      "text/plain": [
       "                   entity1                     entity2  \\\n",
       "0                Apple Inc  Samsung Electronics Co Ltd   \n",
       "1        Bharti Airtel Ltd     Reliance Industries Ltd   \n",
       "2  Reliance Industries Ltd           Bharti Airtel Ltd   \n",
       "3        Bharti Airtel Ltd     Reliance Industries Ltd   \n",
       "4  Reliance Industries Ltd           Bharti Airtel Ltd   \n",
       "\n",
       "                                                left  \\\n",
       "0  These reviews have been especially popular wit...   \n",
       "1  * Q4 profit 829 mln rupees vs. 3.73 bln rupees...   \n",
       "2    The entry of Reliance Jio, the telecoms arm of    \n",
       "3  The U.S. Supreme Court on Tuesday ruled that f...   \n",
       "4                                    REUTERS/Aziz Ta   \n",
       "\n",
       "                                              middle  \\\n",
       "0                                      (AAPL.O) and    \n",
       "1   posted its lowest quarterly profit in nearly ...   \n",
       "2  , into India's telecoms sector has set off a b...   \n",
       "3  dan-based Arab Bank Plc helped finance militan...   \n",
       "4   PhotoThe 5-4 decision brought to an end a law...   \n",
       "\n",
       "                                               right  \\\n",
       "0   (005930.KS) frequently hit with patent infrin...   \n",
       "1   Jio, the telecoms arm of Reliance, into India...   \n",
       "2  's managing director and chief executive for I...   \n",
       "3                                          24, 2016.   \n",
       "4  minor connection between the terrorist attacks...   \n",
       "\n",
       "                                             article  label  \n",
       "0  50b8f1a67bb7c2cab2fe56b55a24f59ad1703c07b7053e...      0  \n",
       "1  603eeb451da67a70850a823e4eb4e1221a5358040bde3b...      0  \n",
       "2  603eeb451da67a70850a823e4eb4e1221a5358040bde3b...      0  \n",
       "3  26cb6ec3607fdb028b712d260131058e9b01b9aadc26cf...      1  \n",
       "4  26cb6ec3607fdb028b712d260131058e9b01b9aadc26cf...      1  "
      ]
     },
     "execution_count": 69,
     "metadata": {},
     "output_type": "execute_result"
    }
   ],
   "source": [
    "#Remove any \\n from the rows \n",
    "corpus_in.replace(\"\\n\",\"\",inplace=True)\n",
    "corpus_in.replace('(\\n)','',regex=True,inplace=True)\n",
    "corpus_in.head()"
   ]
  },
  {
   "cell_type": "code",
   "execution_count": 71,
   "metadata": {},
   "outputs": [
    {
     "data": {
      "text/html": [
       "<div>\n",
       "<style scoped>\n",
       "    .dataframe tbody tr th:only-of-type {\n",
       "        vertical-align: middle;\n",
       "    }\n",
       "\n",
       "    .dataframe tbody tr th {\n",
       "        vertical-align: top;\n",
       "    }\n",
       "\n",
       "    .dataframe thead th {\n",
       "        text-align: right;\n",
       "    }\n",
       "</style>\n",
       "<table border=\"1\" class=\"dataframe\">\n",
       "  <thead>\n",
       "    <tr style=\"text-align: right;\">\n",
       "      <th></th>\n",
       "      <th>entity1</th>\n",
       "      <th>entity2</th>\n",
       "      <th>left</th>\n",
       "      <th>middle</th>\n",
       "      <th>right</th>\n",
       "      <th>article</th>\n",
       "      <th>label</th>\n",
       "      <th>sentences</th>\n",
       "    </tr>\n",
       "  </thead>\n",
       "  <tbody>\n",
       "    <tr>\n",
       "      <th>0</th>\n",
       "      <td>Apple Inc</td>\n",
       "      <td>Samsung Electronics Co Ltd</td>\n",
       "      <td>These reviews have been especially popular wit...</td>\n",
       "      <td>(AAPL.O) and</td>\n",
       "      <td>(005930.KS) frequently hit with patent infrin...</td>\n",
       "      <td>50b8f1a67bb7c2cab2fe56b55a24f59ad1703c07b7053e...</td>\n",
       "      <td>0</td>\n",
       "      <td>These reviews have been especially popular wit...</td>\n",
       "    </tr>\n",
       "    <tr>\n",
       "      <th>1</th>\n",
       "      <td>Bharti Airtel Ltd</td>\n",
       "      <td>Reliance Industries Ltd</td>\n",
       "      <td>* Q4 profit 829 mln rupees vs. 3.73 bln rupees...</td>\n",
       "      <td>posted its lowest quarterly profit in nearly ...</td>\n",
       "      <td>Jio, the telecoms arm of Reliance, into India...</td>\n",
       "      <td>603eeb451da67a70850a823e4eb4e1221a5358040bde3b...</td>\n",
       "      <td>0</td>\n",
       "      <td>* Q4 profit 829 mln rupees vs. 3.73 bln rupees...</td>\n",
       "    </tr>\n",
       "    <tr>\n",
       "      <th>2</th>\n",
       "      <td>Reliance Industries Ltd</td>\n",
       "      <td>Bharti Airtel Ltd</td>\n",
       "      <td>The entry of Reliance Jio, the telecoms arm of</td>\n",
       "      <td>, into India's telecoms sector has set off a b...</td>\n",
       "      <td>'s managing director and chief executive for I...</td>\n",
       "      <td>603eeb451da67a70850a823e4eb4e1221a5358040bde3b...</td>\n",
       "      <td>0</td>\n",
       "      <td>The entry of Reliance Jio, the telecoms arm of...</td>\n",
       "    </tr>\n",
       "    <tr>\n",
       "      <th>3</th>\n",
       "      <td>Bharti Airtel Ltd</td>\n",
       "      <td>Reliance Industries Ltd</td>\n",
       "      <td>The U.S. Supreme Court on Tuesday ruled that f...</td>\n",
       "      <td>dan-based Arab Bank Plc helped finance militan...</td>\n",
       "      <td>24, 2016.</td>\n",
       "      <td>26cb6ec3607fdb028b712d260131058e9b01b9aadc26cf...</td>\n",
       "      <td>1</td>\n",
       "      <td>The U.S. Supreme Court on Tuesday ruled that f...</td>\n",
       "    </tr>\n",
       "    <tr>\n",
       "      <th>4</th>\n",
       "      <td>Reliance Industries Ltd</td>\n",
       "      <td>Bharti Airtel Ltd</td>\n",
       "      <td>REUTERS/Aziz Ta</td>\n",
       "      <td>PhotoThe 5-4 decision brought to an end a law...</td>\n",
       "      <td>minor connection between the terrorist attacks...</td>\n",
       "      <td>26cb6ec3607fdb028b712d260131058e9b01b9aadc26cf...</td>\n",
       "      <td>1</td>\n",
       "      <td>REUTERS/Aziz Ta Reliance Industries Ltd  Photo...</td>\n",
       "    </tr>\n",
       "  </tbody>\n",
       "</table>\n",
       "</div>"
      ],
      "text/plain": [
       "                   entity1                     entity2  \\\n",
       "0                Apple Inc  Samsung Electronics Co Ltd   \n",
       "1        Bharti Airtel Ltd     Reliance Industries Ltd   \n",
       "2  Reliance Industries Ltd           Bharti Airtel Ltd   \n",
       "3        Bharti Airtel Ltd     Reliance Industries Ltd   \n",
       "4  Reliance Industries Ltd           Bharti Airtel Ltd   \n",
       "\n",
       "                                                left  \\\n",
       "0  These reviews have been especially popular wit...   \n",
       "1  * Q4 profit 829 mln rupees vs. 3.73 bln rupees...   \n",
       "2    The entry of Reliance Jio, the telecoms arm of    \n",
       "3  The U.S. Supreme Court on Tuesday ruled that f...   \n",
       "4                                    REUTERS/Aziz Ta   \n",
       "\n",
       "                                              middle  \\\n",
       "0                                      (AAPL.O) and    \n",
       "1   posted its lowest quarterly profit in nearly ...   \n",
       "2  , into India's telecoms sector has set off a b...   \n",
       "3  dan-based Arab Bank Plc helped finance militan...   \n",
       "4   PhotoThe 5-4 decision brought to an end a law...   \n",
       "\n",
       "                                               right  \\\n",
       "0   (005930.KS) frequently hit with patent infrin...   \n",
       "1   Jio, the telecoms arm of Reliance, into India...   \n",
       "2  's managing director and chief executive for I...   \n",
       "3                                          24, 2016.   \n",
       "4  minor connection between the terrorist attacks...   \n",
       "\n",
       "                                             article  label  \\\n",
       "0  50b8f1a67bb7c2cab2fe56b55a24f59ad1703c07b7053e...      0   \n",
       "1  603eeb451da67a70850a823e4eb4e1221a5358040bde3b...      0   \n",
       "2  603eeb451da67a70850a823e4eb4e1221a5358040bde3b...      0   \n",
       "3  26cb6ec3607fdb028b712d260131058e9b01b9aadc26cf...      1   \n",
       "4  26cb6ec3607fdb028b712d260131058e9b01b9aadc26cf...      1   \n",
       "\n",
       "                                           sentences  \n",
       "0  These reviews have been especially popular wit...  \n",
       "1  * Q4 profit 829 mln rupees vs. 3.73 bln rupees...  \n",
       "2  The entry of Reliance Jio, the telecoms arm of...  \n",
       "3  The U.S. Supreme Court on Tuesday ruled that f...  \n",
       "4  REUTERS/Aziz Ta Reliance Industries Ltd  Photo...  "
      ]
     },
     "execution_count": 71,
     "metadata": {},
     "output_type": "execute_result"
    }
   ],
   "source": [
    "#Create sentences\n",
    "df_data_sentences = corpus_in[['left', 'entity1', \"middle\",'entity2','right']].astype(str).agg(' '.join, axis=1)\n",
    "corpus_in['sentences'] = df_data_sentences.values\n",
    "corpus_in.head()"
   ]
  },
  {
   "cell_type": "code",
   "execution_count": 72,
   "metadata": {},
   "outputs": [
    {
     "data": {
      "text/html": [
       "<div>\n",
       "<style scoped>\n",
       "    .dataframe tbody tr th:only-of-type {\n",
       "        vertical-align: middle;\n",
       "    }\n",
       "\n",
       "    .dataframe tbody tr th {\n",
       "        vertical-align: top;\n",
       "    }\n",
       "\n",
       "    .dataframe thead th {\n",
       "        text-align: right;\n",
       "    }\n",
       "</style>\n",
       "<table border=\"1\" class=\"dataframe\">\n",
       "  <thead>\n",
       "    <tr style=\"text-align: right;\">\n",
       "      <th></th>\n",
       "      <th>sentences</th>\n",
       "      <th>label</th>\n",
       "    </tr>\n",
       "  </thead>\n",
       "  <tbody>\n",
       "    <tr>\n",
       "      <th>0</th>\n",
       "      <td>These reviews have been especially popular wit...</td>\n",
       "      <td>0</td>\n",
       "    </tr>\n",
       "    <tr>\n",
       "      <th>1</th>\n",
       "      <td>* Q4 profit 829 mln rupees vs. 3.73 bln rupees...</td>\n",
       "      <td>0</td>\n",
       "    </tr>\n",
       "    <tr>\n",
       "      <th>2</th>\n",
       "      <td>The entry of Reliance Jio, the telecoms arm of...</td>\n",
       "      <td>0</td>\n",
       "    </tr>\n",
       "    <tr>\n",
       "      <th>3</th>\n",
       "      <td>The U.S. Supreme Court on Tuesday ruled that f...</td>\n",
       "      <td>1</td>\n",
       "    </tr>\n",
       "    <tr>\n",
       "      <th>4</th>\n",
       "      <td>REUTERS/Aziz Ta Reliance Industries Ltd  Photo...</td>\n",
       "      <td>1</td>\n",
       "    </tr>\n",
       "  </tbody>\n",
       "</table>\n",
       "</div>"
      ],
      "text/plain": [
       "                                           sentences  label\n",
       "0  These reviews have been especially popular wit...      0\n",
       "1  * Q4 profit 829 mln rupees vs. 3.73 bln rupees...      0\n",
       "2  The entry of Reliance Jio, the telecoms arm of...      0\n",
       "3  The U.S. Supreme Court on Tuesday ruled that f...      1\n",
       "4  REUTERS/Aziz Ta Reliance Industries Ltd  Photo...      1"
      ]
     },
     "execution_count": 72,
     "metadata": {},
     "output_type": "execute_result"
    }
   ],
   "source": [
    "corpus = corpus_in[['sentences','label']]\n",
    "corpus.head()"
   ]
  },
  {
   "cell_type": "code",
   "execution_count": 74,
   "metadata": {},
   "outputs": [
    {
     "data": {
      "text/plain": [
       "'These reviews have been especially popular with companies like  Apple Inc  (AAPL.O) and  Samsung Electronics Co Ltd  (005930.KS) frequently hit with patent infringement suits.'"
      ]
     },
     "execution_count": 74,
     "metadata": {},
     "output_type": "execute_result"
    }
   ],
   "source": [
    "corpus.iloc[0,0]"
   ]
  },
  {
   "cell_type": "markdown",
   "metadata": {},
   "source": [
    "## Prep KB"
   ]
  },
  {
   "cell_type": "code",
   "execution_count": 80,
   "metadata": {},
   "outputs": [],
   "source": [
    "kb_df = pd.read_csv('example_kb_all_supplier.tsv.gz', compression='gzip', \n",
    "                                 names= ['relation', 'subject', 'object'], sep='\\t', quotechar='\"')"
   ]
  },
  {
   "cell_type": "code",
   "execution_count": 81,
   "metadata": {},
   "outputs": [
    {
     "data": {
      "text/html": [
       "<div>\n",
       "<style scoped>\n",
       "    .dataframe tbody tr th:only-of-type {\n",
       "        vertical-align: middle;\n",
       "    }\n",
       "\n",
       "    .dataframe tbody tr th {\n",
       "        vertical-align: top;\n",
       "    }\n",
       "\n",
       "    .dataframe thead th {\n",
       "        text-align: right;\n",
       "    }\n",
       "</style>\n",
       "<table border=\"1\" class=\"dataframe\">\n",
       "  <thead>\n",
       "    <tr style=\"text-align: right;\">\n",
       "      <th></th>\n",
       "      <th>relation</th>\n",
       "      <th>subject</th>\n",
       "      <th>object</th>\n",
       "    </tr>\n",
       "  </thead>\n",
       "  <tbody>\n",
       "    <tr>\n",
       "      <th>0</th>\n",
       "      <td>supplier of</td>\n",
       "      <td>Apple Inc</td>\n",
       "      <td>Seoul Semiconductor Co Ltd</td>\n",
       "    </tr>\n",
       "    <tr>\n",
       "      <th>1</th>\n",
       "      <td>supplier of</td>\n",
       "      <td>Koizumi furnitech Thailand Co Ltd</td>\n",
       "      <td>Seoul Semiconductor Co Ltd</td>\n",
       "    </tr>\n",
       "    <tr>\n",
       "      <th>2</th>\n",
       "      <td>supplier of</td>\n",
       "      <td>Amazon.com Inc</td>\n",
       "      <td>DS Smith PLC</td>\n",
       "    </tr>\n",
       "    <tr>\n",
       "      <th>3</th>\n",
       "      <td>supplier of</td>\n",
       "      <td>Procter &amp; Gamble Co</td>\n",
       "      <td>DS Smith PLC</td>\n",
       "    </tr>\n",
       "    <tr>\n",
       "      <th>4</th>\n",
       "      <td>supplier of</td>\n",
       "      <td>Zymeworks Inc</td>\n",
       "      <td>DS Smith PLC</td>\n",
       "    </tr>\n",
       "  </tbody>\n",
       "</table>\n",
       "</div>"
      ],
      "text/plain": [
       "      relation                            subject                      object\n",
       "0  supplier of                          Apple Inc  Seoul Semiconductor Co Ltd\n",
       "1  supplier of  Koizumi furnitech Thailand Co Ltd  Seoul Semiconductor Co Ltd\n",
       "2  supplier of                     Amazon.com Inc                DS Smith PLC\n",
       "3  supplier of                Procter & Gamble Co                DS Smith PLC\n",
       "4  supplier of                      Zymeworks Inc                DS Smith PLC"
      ]
     },
     "execution_count": 81,
     "metadata": {},
     "output_type": "execute_result"
    }
   ],
   "source": [
    "kb_df.head()"
   ]
  },
  {
   "cell_type": "code",
   "execution_count": 82,
   "metadata": {},
   "outputs": [
    {
     "data": {
      "text/plain": [
       "subject                          object                              \n",
       "1-800-Flowers.Com Inc            Google LLC                              1\n",
       "                                 International Business Machines Corp    1\n",
       "1337 Software Oy                 Microsoft Corp                          1\n",
       "180 Degree Capital Corp          NeoPhotonics Corp                       1\n",
       "22 South Howard Loft Group, LLC  International Business Machines Corp    1\n",
       "                                                                        ..\n",
       "nCino LLC                        Salesforce.Com Inc                      1\n",
       "nTelos Inc                       Lumos Networks Corp                     1\n",
       "t'elenet'i ss                    Nokia Oyj                               1\n",
       "                                 Telefonaktiebolaget LM Ericsson         1\n",
       "thyssenkrupp AG                  Vodafone Group PLC                      1\n",
       "Length: 18064, dtype: int64"
      ]
     },
     "execution_count": 82,
     "metadata": {},
     "output_type": "execute_result"
    }
   ],
   "source": [
    "kb_df.groupby(['subject', 'object']).agg('size')"
   ]
  },
  {
   "cell_type": "code",
   "execution_count": 86,
   "metadata": {},
   "outputs": [
    {
     "data": {
      "text/plain": [
       "(18086, 4811, 5310)"
      ]
     },
     "execution_count": 86,
     "metadata": {},
     "output_type": "execute_result"
    }
   ],
   "source": [
    "# How many unique subjects, objects do we have?\n",
    "len(kb_df), len(kb_df.subject.unique()), len(kb_df.object.unique())"
   ]
  },
  {
   "cell_type": "code",
   "execution_count": 90,
   "metadata": {},
   "outputs": [
    {
     "data": {
      "text/plain": [
       "(Microsoft Corp                524\n",
       " Apple Inc                     321\n",
       " Samsung Electronics Co Ltd    257\n",
       " Boeing Co                     246\n",
       " Walmart Inc                   243\n",
       " Name: subject, dtype: int64,\n",
       " Oracle Corp                       253\n",
       " Microsoft Corp                    252\n",
       " Google LLC                        191\n",
       " Boeing Co                         182\n",
       " Cisco Systems Inc (Pre-Merger)    174\n",
       " Name: object, dtype: int64)"
      ]
     },
     "execution_count": 90,
     "metadata": {},
     "output_type": "execute_result"
    }
   ],
   "source": [
    "kb_df.subject.value_counts().head(), kb_df.object.value_counts().head()"
   ]
  },
  {
   "cell_type": "code",
   "execution_count": 95,
   "metadata": {},
   "outputs": [],
   "source": [
    "## How many subjects also appear as objects in the supplier relation? \n",
    "counter = Counter()\n",
    "for sbj in kb_df.subject.unique(): \n",
    "    df_temp = kb_df[kb_df.object == sbj]\n",
    "    if len(df_temp) > 0:\n",
    "        counter[sbj] = len(df_temp)"
   ]
  },
  {
   "cell_type": "code",
   "execution_count": 98,
   "metadata": {},
   "outputs": [
    {
     "data": {
      "text/plain": [
       "[('Oracle Corp', 253),\n",
       " ('Microsoft Corp', 252),\n",
       " ('Google LLC', 191),\n",
       " ('Boeing Co', 182),\n",
       " ('Cisco Systems Inc (Pre-Merger)', 174),\n",
       " ('Nokia Oyj', 163),\n",
       " ('International Business Machines Corp', 158),\n",
       " ('Telefonaktiebolaget LM Ericsson', 158),\n",
       " ('Intel Corp', 133),\n",
       " ('Airbus SE', 130),\n",
       " ('Pricewaterhousecoopers LLP', 127),\n",
       " ('Salesforce.Com Inc', 125),\n",
       " ('AT&T Inc', 120),\n",
       " ('Amazon.com Inc', 119),\n",
       " ('Huawei Technologies Co Ltd', 118),\n",
       " ('SAP SE', 109),\n",
       " ('BP PLC', 96),\n",
       " ('Samsung Electronics Co Ltd', 96),\n",
       " ('Glencore PLC', 85),\n",
       " ('Shell PLC', 83)]"
      ]
     },
     "execution_count": 98,
     "metadata": {},
     "output_type": "execute_result"
    }
   ],
   "source": [
    "counter.most_common(20)"
   ]
  },
  {
   "cell_type": "code",
   "execution_count": 103,
   "metadata": {},
   "outputs": [
    {
     "data": {
      "text/plain": [
       "(1660, 4811)"
      ]
     },
     "execution_count": 103,
     "metadata": {},
     "output_type": "execute_result"
    }
   ],
   "source": [
    "len(counter), len(kb_df.subject.unique())"
   ]
  },
  {
   "cell_type": "markdown",
   "metadata": {},
   "source": [
    "First attempt: Split sets via following system:\n",
    "1) Look at all subjects in KB, split these into sets as per the desired ratio\n",
    "2) Split KB triples into the sets based on subject entity\n",
    "3) Split corpus:\n",
    "> If entity 1 in a split -> push corpus item into that split"
   ]
  },
  {
   "cell_type": "code",
   "execution_count": 174,
   "metadata": {},
   "outputs": [
    {
     "data": {
      "text/plain": [
       "(array(['Cisco Systems Inc', 'Cisco Webex LLC',\n",
       "        'Cisco Systems Inc (Pre-Merger)'], dtype=object),\n",
       " array(['Amazon.com Inc', 'Amazon Web Services Inc',\n",
       "        'Amazon India Limited'], dtype=object),\n",
       " array(['Samsung Electronics Co Ltd', 'Samsung SDI Co Ltd',\n",
       "        'Samsung Electro-Mechanics Co Ltd', 'Samsung Securities Co Ltd',\n",
       "        'Samsung Telecommunications America LLC', 'Samsung Display Co Ltd',\n",
       "        'Samsung Mobile Display Co Ltd', 'Samsung Electronics America Inc',\n",
       "        'Samsung Semiconductor Inc', 'Samsung Heavy Industries Co Ltd'],\n",
       "       dtype=object))"
      ]
     },
     "execution_count": 174,
     "metadata": {},
     "output_type": "execute_result"
    }
   ],
   "source": [
    "#ISSUE\n",
    "kb_df[kb_df.subject.astype(str).str.contains(\"Cisco\")==True].subject.unique(), kb_df[kb_df.subject.astype(str).str.contains(\"Amazon\")==True].subject.unique(), kb_df[kb_df.subject.astype(str).str.contains(\"Samsung\")==True].subject.unique()"
   ]
  },
  {
   "cell_type": "code",
   "execution_count": 126,
   "metadata": {},
   "outputs": [],
   "source": [
    "from sklearn.model_selection import train_test_split"
   ]
  },
  {
   "cell_type": "code",
   "execution_count": 146,
   "metadata": {},
   "outputs": [
    {
     "data": {
      "text/plain": [
       "2"
      ]
     },
     "execution_count": 146,
     "metadata": {},
     "output_type": "execute_result"
    }
   ],
   "source": [
    "np.random.choice(3, p = [0.1,0.3,0.6])"
   ]
  },
  {
   "cell_type": "code",
   "execution_count": 154,
   "metadata": {},
   "outputs": [
    {
     "data": {
      "text/html": [
       "<div>\n",
       "<style scoped>\n",
       "    .dataframe tbody tr th:only-of-type {\n",
       "        vertical-align: middle;\n",
       "    }\n",
       "\n",
       "    .dataframe tbody tr th {\n",
       "        vertical-align: top;\n",
       "    }\n",
       "\n",
       "    .dataframe thead th {\n",
       "        text-align: right;\n",
       "    }\n",
       "</style>\n",
       "<table border=\"1\" class=\"dataframe\">\n",
       "  <thead>\n",
       "    <tr style=\"text-align: right;\">\n",
       "      <th></th>\n",
       "      <th>subject</th>\n",
       "      <th>split</th>\n",
       "    </tr>\n",
       "  </thead>\n",
       "  <tbody>\n",
       "    <tr>\n",
       "      <th>0</th>\n",
       "      <td>Apple Inc</td>\n",
       "      <td>2</td>\n",
       "    </tr>\n",
       "    <tr>\n",
       "      <th>1</th>\n",
       "      <td>Koizumi furnitech Thailand Co Ltd</td>\n",
       "      <td>1</td>\n",
       "    </tr>\n",
       "    <tr>\n",
       "      <th>2</th>\n",
       "      <td>Amazon.com Inc</td>\n",
       "      <td>1</td>\n",
       "    </tr>\n",
       "    <tr>\n",
       "      <th>3</th>\n",
       "      <td>Procter &amp; Gamble Co</td>\n",
       "      <td>2</td>\n",
       "    </tr>\n",
       "    <tr>\n",
       "      <th>4</th>\n",
       "      <td>Zymeworks Inc</td>\n",
       "      <td>2</td>\n",
       "    </tr>\n",
       "    <tr>\n",
       "      <th>5</th>\n",
       "      <td>Nestle SA</td>\n",
       "      <td>2</td>\n",
       "    </tr>\n",
       "    <tr>\n",
       "      <th>6</th>\n",
       "      <td>Unilever PLC</td>\n",
       "      <td>2</td>\n",
       "    </tr>\n",
       "    <tr>\n",
       "      <th>7</th>\n",
       "      <td>SoftBank Group Corp</td>\n",
       "      <td>1</td>\n",
       "    </tr>\n",
       "    <tr>\n",
       "      <th>8</th>\n",
       "      <td>Sprint Corp</td>\n",
       "      <td>2</td>\n",
       "    </tr>\n",
       "    <tr>\n",
       "      <th>9</th>\n",
       "      <td>Total Access Communication PCL</td>\n",
       "      <td>1</td>\n",
       "    </tr>\n",
       "  </tbody>\n",
       "</table>\n",
       "</div>"
      ],
      "text/plain": [
       "                             subject  split\n",
       "0                          Apple Inc      2\n",
       "1  Koizumi furnitech Thailand Co Ltd      1\n",
       "2                     Amazon.com Inc      1\n",
       "3                Procter & Gamble Co      2\n",
       "4                      Zymeworks Inc      2\n",
       "5                          Nestle SA      2\n",
       "6                       Unilever PLC      2\n",
       "7                SoftBank Group Corp      1\n",
       "8                        Sprint Corp      2\n",
       "9     Total Access Communication PCL      1"
      ]
     },
     "execution_count": 154,
     "metadata": {},
     "output_type": "execute_result"
    }
   ],
   "source": [
    "subjects = pd.DataFrame(kb_df.subject.unique()).rename(columns = {0: 'subject'})\n",
    "subjects['split'] = [np.random.choice(3, p = [0.1,0.3,0.6]) for _ in range(len(subjects))]\n",
    "subjects.head(10)"
   ]
  },
  {
   "cell_type": "code",
   "execution_count": 155,
   "metadata": {},
   "outputs": [
    {
     "data": {
      "text/plain": [
       "2    2889\n",
       "1    1451\n",
       "0     471\n",
       "Name: split, dtype: int64"
      ]
     },
     "execution_count": 155,
     "metadata": {},
     "output_type": "execute_result"
    }
   ],
   "source": [
    "subjects.split.value_counts()"
   ]
  },
  {
   "cell_type": "code",
   "execution_count": 158,
   "metadata": {},
   "outputs": [
    {
     "data": {
      "text/html": [
       "<div>\n",
       "<style scoped>\n",
       "    .dataframe tbody tr th:only-of-type {\n",
       "        vertical-align: middle;\n",
       "    }\n",
       "\n",
       "    .dataframe tbody tr th {\n",
       "        vertical-align: top;\n",
       "    }\n",
       "\n",
       "    .dataframe thead th {\n",
       "        text-align: right;\n",
       "    }\n",
       "</style>\n",
       "<table border=\"1\" class=\"dataframe\">\n",
       "  <thead>\n",
       "    <tr style=\"text-align: right;\">\n",
       "      <th></th>\n",
       "      <th>subject</th>\n",
       "      <th>split</th>\n",
       "    </tr>\n",
       "  </thead>\n",
       "  <tbody>\n",
       "    <tr>\n",
       "      <th>234</th>\n",
       "      <td>Cisco Systems Inc</td>\n",
       "      <td>2</td>\n",
       "    </tr>\n",
       "    <tr>\n",
       "      <th>4669</th>\n",
       "      <td>Cisco Webex LLC</td>\n",
       "      <td>2</td>\n",
       "    </tr>\n",
       "    <tr>\n",
       "      <th>4810</th>\n",
       "      <td>Cisco Systems Inc (Pre-Merger)</td>\n",
       "      <td>2</td>\n",
       "    </tr>\n",
       "  </tbody>\n",
       "</table>\n",
       "</div>"
      ],
      "text/plain": [
       "                             subject  split\n",
       "234                Cisco Systems Inc      2\n",
       "4669                 Cisco Webex LLC      2\n",
       "4810  Cisco Systems Inc (Pre-Merger)      2"
      ]
     },
     "execution_count": 158,
     "metadata": {},
     "output_type": "execute_result"
    }
   ],
   "source": [
    "subjects[subjects.subject.astype(str).str.contains('Cisco')]"
   ]
  },
  {
   "cell_type": "code",
   "execution_count": 167,
   "metadata": {},
   "outputs": [
    {
     "data": {
      "text/html": [
       "<div>\n",
       "<style scoped>\n",
       "    .dataframe tbody tr th:only-of-type {\n",
       "        vertical-align: middle;\n",
       "    }\n",
       "\n",
       "    .dataframe tbody tr th {\n",
       "        vertical-align: top;\n",
       "    }\n",
       "\n",
       "    .dataframe thead th {\n",
       "        text-align: right;\n",
       "    }\n",
       "</style>\n",
       "<table border=\"1\" class=\"dataframe\">\n",
       "  <thead>\n",
       "    <tr style=\"text-align: right;\">\n",
       "      <th></th>\n",
       "      <th>relation</th>\n",
       "      <th>subject</th>\n",
       "      <th>object</th>\n",
       "      <th>split</th>\n",
       "    </tr>\n",
       "  </thead>\n",
       "  <tbody>\n",
       "    <tr>\n",
       "      <th>0</th>\n",
       "      <td>supplier of</td>\n",
       "      <td>Apple Inc</td>\n",
       "      <td>Seoul Semiconductor Co Ltd</td>\n",
       "      <td>2</td>\n",
       "    </tr>\n",
       "    <tr>\n",
       "      <th>1</th>\n",
       "      <td>supplier of</td>\n",
       "      <td>Koizumi furnitech Thailand Co Ltd</td>\n",
       "      <td>Seoul Semiconductor Co Ltd</td>\n",
       "      <td>1</td>\n",
       "    </tr>\n",
       "    <tr>\n",
       "      <th>2</th>\n",
       "      <td>supplier of</td>\n",
       "      <td>Amazon.com Inc</td>\n",
       "      <td>DS Smith PLC</td>\n",
       "      <td>1</td>\n",
       "    </tr>\n",
       "    <tr>\n",
       "      <th>3</th>\n",
       "      <td>supplier of</td>\n",
       "      <td>Procter &amp; Gamble Co</td>\n",
       "      <td>DS Smith PLC</td>\n",
       "      <td>2</td>\n",
       "    </tr>\n",
       "    <tr>\n",
       "      <th>4</th>\n",
       "      <td>supplier of</td>\n",
       "      <td>Zymeworks Inc</td>\n",
       "      <td>DS Smith PLC</td>\n",
       "      <td>2</td>\n",
       "    </tr>\n",
       "    <tr>\n",
       "      <th>...</th>\n",
       "      <td>...</td>\n",
       "      <td>...</td>\n",
       "      <td>...</td>\n",
       "      <td>...</td>\n",
       "    </tr>\n",
       "    <tr>\n",
       "      <th>18081</th>\n",
       "      <td>supplier of</td>\n",
       "      <td>Cisco Systems Inc (Pre-Merger)</td>\n",
       "      <td>Synetrix (Holdings) Ltd</td>\n",
       "      <td>2</td>\n",
       "    </tr>\n",
       "    <tr>\n",
       "      <th>18082</th>\n",
       "      <td>supplier of</td>\n",
       "      <td>Cisco Systems Inc (Pre-Merger)</td>\n",
       "      <td>Servcorp Ltd</td>\n",
       "      <td>2</td>\n",
       "    </tr>\n",
       "    <tr>\n",
       "      <th>18083</th>\n",
       "      <td>supplier of</td>\n",
       "      <td>Cisco Systems Inc (Pre-Merger)</td>\n",
       "      <td>SolarWinds Corp</td>\n",
       "      <td>2</td>\n",
       "    </tr>\n",
       "    <tr>\n",
       "      <th>18084</th>\n",
       "      <td>supplier of</td>\n",
       "      <td>Cisco Systems Inc (Pre-Merger)</td>\n",
       "      <td>Unified Communications Ltd</td>\n",
       "      <td>2</td>\n",
       "    </tr>\n",
       "    <tr>\n",
       "      <th>18085</th>\n",
       "      <td>supplier of</td>\n",
       "      <td>Cisco Systems Inc (Pre-Merger)</td>\n",
       "      <td>Verint Systems Inc</td>\n",
       "      <td>2</td>\n",
       "    </tr>\n",
       "  </tbody>\n",
       "</table>\n",
       "<p>18086 rows × 4 columns</p>\n",
       "</div>"
      ],
      "text/plain": [
       "          relation                            subject  \\\n",
       "0      supplier of                          Apple Inc   \n",
       "1      supplier of  Koizumi furnitech Thailand Co Ltd   \n",
       "2      supplier of                     Amazon.com Inc   \n",
       "3      supplier of                Procter & Gamble Co   \n",
       "4      supplier of                      Zymeworks Inc   \n",
       "...            ...                                ...   \n",
       "18081  supplier of     Cisco Systems Inc (Pre-Merger)   \n",
       "18082  supplier of     Cisco Systems Inc (Pre-Merger)   \n",
       "18083  supplier of     Cisco Systems Inc (Pre-Merger)   \n",
       "18084  supplier of     Cisco Systems Inc (Pre-Merger)   \n",
       "18085  supplier of     Cisco Systems Inc (Pre-Merger)   \n",
       "\n",
       "                           object  split  \n",
       "0      Seoul Semiconductor Co Ltd      2  \n",
       "1      Seoul Semiconductor Co Ltd      1  \n",
       "2                    DS Smith PLC      1  \n",
       "3                    DS Smith PLC      2  \n",
       "4                    DS Smith PLC      2  \n",
       "...                           ...    ...  \n",
       "18081     Synetrix (Holdings) Ltd      2  \n",
       "18082                Servcorp Ltd      2  \n",
       "18083             SolarWinds Corp      2  \n",
       "18084  Unified Communications Ltd      2  \n",
       "18085          Verint Systems Inc      2  \n",
       "\n",
       "[18086 rows x 4 columns]"
      ]
     },
     "execution_count": 167,
     "metadata": {},
     "output_type": "execute_result"
    }
   ],
   "source": [
    "kb_with_splits = kb_df.merge(subjects, how = 'left', on = 'subject')\n",
    "kb_with_splits"
   ]
  },
  {
   "cell_type": "code",
   "execution_count": 170,
   "metadata": {},
   "outputs": [
    {
     "data": {
      "text/plain": [
       "2"
      ]
     },
     "execution_count": 170,
     "metadata": {},
     "output_type": "execute_result"
    }
   ],
   "source": [
    "split_dict = {sbj: split for sbj, split in zip(kb_with_splits.subject, kb_with_splits.split)}\n",
    "split_dict['Apple Inc']"
   ]
  },
  {
   "cell_type": "code",
   "execution_count": 176,
   "metadata": {},
   "outputs": [
    {
     "name": "stdout",
     "output_type": "stream",
     "text": [
      "Pivotal Software Inc, Carbon Black Inc not in KB split\n",
      "Amphenol Corp, TE Connectivity Ltd not in KB split\n",
      "Samsung Group, Samsung C&T Corp not in KB split\n",
      "Samsung Group, Samsung C&T Corp not in KB split\n",
      "Cheniere Energy Inc, Mobil Corp not in KB split\n",
      "Inphi Corp, Finisar Corp not in KB split\n",
      "Eastman Kodak Co, Ally Financial Inc not in KB split\n",
      "Albemarle Corp, Livent Corp not in KB split\n",
      "Motherson Sumi Systems Ltd, Leoni AG not in KB split\n",
      "Leoni AG, Motherson Sumi Systems Ltd not in KB split\n",
      "Motherson Sumi Systems Ltd, Leoni AG not in KB split\n",
      "Leoni AG, Motherson Sumi Systems Ltd not in KB split\n",
      "Motherson Sumi Systems Ltd, Leoni AG not in KB split\n",
      "Leoni AG, Motherson Sumi Systems Ltd not in KB split\n",
      "Motherson Sumi Systems Ltd, Leoni AG not in KB split\n",
      "Martinrea International Inc, Linamar Corp not in KB split\n",
      "Samsung C&T Corp, Samsung Group not in KB split\n",
      "Samsung C&T Corp, Samsung Group not in KB split\n",
      "Samsung Group, Samsung C&T Corp not in KB split\n",
      "Samsung C&T Corp, Samsung Group not in KB split\n",
      "Samsung Group, Samsung C&T Corp not in KB split\n",
      "Samsung Group, Samsung C&T Corp not in KB split\n",
      "Samsung C&T Corp, Samsung Group not in KB split\n",
      "Samsung Group, Samsung C&T Corp not in KB split\n",
      "Talon Metals Corp, Livent Corp not in KB split\n",
      "Shenzhen Sunway Communication Co Ltd, Suzhou Anjie Technology Co Ltd not in KB split\n",
      "Shenzhen Sunway Communication Co Ltd, Suzhou Dongshan Precision Manufacturing Co Ltd not in KB split\n",
      "Suzhou Dongshan Precision Manufacturing Co Ltd, Suzhou Anjie Technology Co Ltd not in KB split\n",
      "Shenzhen Sunway Communication Co Ltd, Suzhou Dongshan Precision Manufacturing Co Ltd not in KB split\n",
      "Shenzhen Sunway Communication Co Ltd, Suzhou Dongshan Precision Manufacturing Co Ltd not in KB split\n",
      "Foster Electric Co Ltd, Sumida Corp not in KB split\n",
      "Foster Electric Co Ltd, Sumida Corp not in KB split\n",
      "Synaptics Inc, Atmel Corp not in KB split\n",
      "Synaptics Inc, Atmel Corp not in KB split\n",
      "Atmel Corp, Synaptics Inc not in KB split\n",
      "Foster Electric Co Ltd, Hirose Electric Co Ltd not in KB split\n",
      "Synaptics Inc, Atmel Corp not in KB split\n",
      "Atmel Corp, Synaptics Inc not in KB split\n",
      "Total of 38 not macthed\n"
     ]
    }
   ],
   "source": [
    "corpus_with_splits = corpus_in.copy()\n",
    "\n",
    "splits = []\n",
    "count_not_matched = 0\n",
    "for E1, E2 in zip(corpus_in.entity1, corpus_in.entity2): \n",
    "    if E1 in split_dict.keys():\n",
    "        splits.append(split_dict[E1])\n",
    "    elif E2 in split_dict.keys():\n",
    "        splits.append(split_dict[E2])\n",
    "    else:\n",
    "        splits.append(np.random.choice(3, p = [0.1,0.3,0.6]))\n",
    "        print('{}, {} not in KB split' .format(E1, E2))\n",
    "        count_not_matched += 1\n",
    "print('Total of {} not macthed' .format(count_not_matched))\n"
   ]
  },
  {
   "cell_type": "code",
   "execution_count": 178,
   "metadata": {},
   "outputs": [
    {
     "data": {
      "text/html": [
       "<div>\n",
       "<style scoped>\n",
       "    .dataframe tbody tr th:only-of-type {\n",
       "        vertical-align: middle;\n",
       "    }\n",
       "\n",
       "    .dataframe tbody tr th {\n",
       "        vertical-align: top;\n",
       "    }\n",
       "\n",
       "    .dataframe thead th {\n",
       "        text-align: right;\n",
       "    }\n",
       "</style>\n",
       "<table border=\"1\" class=\"dataframe\">\n",
       "  <thead>\n",
       "    <tr style=\"text-align: right;\">\n",
       "      <th></th>\n",
       "      <th>entity1</th>\n",
       "      <th>entity2</th>\n",
       "      <th>left</th>\n",
       "      <th>middle</th>\n",
       "      <th>right</th>\n",
       "      <th>article</th>\n",
       "      <th>label</th>\n",
       "      <th>sentences</th>\n",
       "      <th>split</th>\n",
       "    </tr>\n",
       "  </thead>\n",
       "  <tbody>\n",
       "    <tr>\n",
       "      <th>0</th>\n",
       "      <td>Apple Inc</td>\n",
       "      <td>Samsung Electronics Co Ltd</td>\n",
       "      <td>These reviews have been especially popular wit...</td>\n",
       "      <td>(AAPL.O) and</td>\n",
       "      <td>(005930.KS) frequently hit with patent infrin...</td>\n",
       "      <td>50b8f1a67bb7c2cab2fe56b55a24f59ad1703c07b7053e...</td>\n",
       "      <td>0</td>\n",
       "      <td>These reviews have been especially popular wit...</td>\n",
       "      <td>2</td>\n",
       "    </tr>\n",
       "    <tr>\n",
       "      <th>1</th>\n",
       "      <td>Bharti Airtel Ltd</td>\n",
       "      <td>Reliance Industries Ltd</td>\n",
       "      <td>* Q4 profit 829 mln rupees vs. 3.73 bln rupees...</td>\n",
       "      <td>posted its lowest quarterly profit in nearly ...</td>\n",
       "      <td>Jio, the telecoms arm of Reliance, into India...</td>\n",
       "      <td>603eeb451da67a70850a823e4eb4e1221a5358040bde3b...</td>\n",
       "      <td>0</td>\n",
       "      <td>* Q4 profit 829 mln rupees vs. 3.73 bln rupees...</td>\n",
       "      <td>0</td>\n",
       "    </tr>\n",
       "    <tr>\n",
       "      <th>2</th>\n",
       "      <td>Reliance Industries Ltd</td>\n",
       "      <td>Bharti Airtel Ltd</td>\n",
       "      <td>The entry of Reliance Jio, the telecoms arm of</td>\n",
       "      <td>, into India's telecoms sector has set off a b...</td>\n",
       "      <td>'s managing director and chief executive for I...</td>\n",
       "      <td>603eeb451da67a70850a823e4eb4e1221a5358040bde3b...</td>\n",
       "      <td>0</td>\n",
       "      <td>The entry of Reliance Jio, the telecoms arm of...</td>\n",
       "      <td>2</td>\n",
       "    </tr>\n",
       "    <tr>\n",
       "      <th>3</th>\n",
       "      <td>Bharti Airtel Ltd</td>\n",
       "      <td>Reliance Industries Ltd</td>\n",
       "      <td>The U.S. Supreme Court on Tuesday ruled that f...</td>\n",
       "      <td>dan-based Arab Bank Plc helped finance militan...</td>\n",
       "      <td>24, 2016.</td>\n",
       "      <td>26cb6ec3607fdb028b712d260131058e9b01b9aadc26cf...</td>\n",
       "      <td>1</td>\n",
       "      <td>The U.S. Supreme Court on Tuesday ruled that f...</td>\n",
       "      <td>0</td>\n",
       "    </tr>\n",
       "    <tr>\n",
       "      <th>4</th>\n",
       "      <td>Reliance Industries Ltd</td>\n",
       "      <td>Bharti Airtel Ltd</td>\n",
       "      <td>REUTERS/Aziz Ta</td>\n",
       "      <td>PhotoThe 5-4 decision brought to an end a law...</td>\n",
       "      <td>minor connection between the terrorist attacks...</td>\n",
       "      <td>26cb6ec3607fdb028b712d260131058e9b01b9aadc26cf...</td>\n",
       "      <td>1</td>\n",
       "      <td>REUTERS/Aziz Ta Reliance Industries Ltd  Photo...</td>\n",
       "      <td>2</td>\n",
       "    </tr>\n",
       "    <tr>\n",
       "      <th>5</th>\n",
       "      <td>Amazon.com Inc</td>\n",
       "      <td>Alphabet Inc</td>\n",
       "      <td>The in-home delivery option put</td>\n",
       "      <td>in direct competition with so-called smart ho...</td>\n",
       "      <td>'s (GOOGL.O) Nest Labs and presaged Amazon's $...</td>\n",
       "      <td>884c15dbfd38525ffd89c79ae9f247ac828382bf39e2e2...</td>\n",
       "      <td>1</td>\n",
       "      <td>The in-home delivery option put  Amazon.com In...</td>\n",
       "      <td>1</td>\n",
       "    </tr>\n",
       "    <tr>\n",
       "      <th>6</th>\n",
       "      <td>Alphabet Inc</td>\n",
       "      <td>Amazon.com Inc</td>\n",
       "      <td>The in-home delivery option put Amazon in dire...</td>\n",
       "      <td>'s (GOOGL.O) Nest Labs and presaged</td>\n",
       "      <td>'s $1 billion acquisition of connected doorbel...</td>\n",
       "      <td>884c15dbfd38525ffd89c79ae9f247ac828382bf39e2e2...</td>\n",
       "      <td>1</td>\n",
       "      <td>The in-home delivery option put Amazon in dire...</td>\n",
       "      <td>2</td>\n",
       "    </tr>\n",
       "    <tr>\n",
       "      <th>7</th>\n",
       "      <td>Amazon.com Inc</td>\n",
       "      <td>General Motors Co</td>\n",
       "      <td>All that is required to have packages delivere...</td>\n",
       "      <td>and linking it to the vehicle's so-called con...</td>\n",
       "      <td>'s (GM.N) OnStar system or Volvo Car Group's O...</td>\n",
       "      <td>884c15dbfd38525ffd89c79ae9f247ac828382bf39e2e2...</td>\n",
       "      <td>1</td>\n",
       "      <td>All that is required to have packages delivere...</td>\n",
       "      <td>1</td>\n",
       "    </tr>\n",
       "    <tr>\n",
       "      <th>8</th>\n",
       "      <td>General Motors Co</td>\n",
       "      <td>Amazon.com Inc</td>\n",
       "      <td>All that is required to have packages delivere...</td>\n",
       "      <td>'s (GM.N) OnStar system or Volvo Car Group's O...</td>\n",
       "      <td>'s drive to leave packages where they cannot b...</td>\n",
       "      <td>884c15dbfd38525ffd89c79ae9f247ac828382bf39e2e2...</td>\n",
       "      <td>1</td>\n",
       "      <td>All that is required to have packages delivere...</td>\n",
       "      <td>2</td>\n",
       "    </tr>\n",
       "    <tr>\n",
       "      <th>9</th>\n",
       "      <td>Viavi Solutions Inc</td>\n",
       "      <td>Finisar Corp</td>\n",
       "      <td>According to parts manufacturers</td>\n",
       "      <td>,</td>\n",
       "      <td>and Ams AG, bottlenecks on key parts will mea...</td>\n",
       "      <td>b87f0cf775e9bf0419dd5298dd8339166518f0dd60717b...</td>\n",
       "      <td>0</td>\n",
       "      <td>According to parts manufacturers  Viavi Soluti...</td>\n",
       "      <td>2</td>\n",
       "    </tr>\n",
       "  </tbody>\n",
       "</table>\n",
       "</div>"
      ],
      "text/plain": [
       "                   entity1                     entity2  \\\n",
       "0                Apple Inc  Samsung Electronics Co Ltd   \n",
       "1        Bharti Airtel Ltd     Reliance Industries Ltd   \n",
       "2  Reliance Industries Ltd           Bharti Airtel Ltd   \n",
       "3        Bharti Airtel Ltd     Reliance Industries Ltd   \n",
       "4  Reliance Industries Ltd           Bharti Airtel Ltd   \n",
       "5           Amazon.com Inc                Alphabet Inc   \n",
       "6             Alphabet Inc              Amazon.com Inc   \n",
       "7           Amazon.com Inc           General Motors Co   \n",
       "8        General Motors Co              Amazon.com Inc   \n",
       "9      Viavi Solutions Inc                Finisar Corp   \n",
       "\n",
       "                                                left  \\\n",
       "0  These reviews have been especially popular wit...   \n",
       "1  * Q4 profit 829 mln rupees vs. 3.73 bln rupees...   \n",
       "2    The entry of Reliance Jio, the telecoms arm of    \n",
       "3  The U.S. Supreme Court on Tuesday ruled that f...   \n",
       "4                                    REUTERS/Aziz Ta   \n",
       "5                   The in-home delivery option put    \n",
       "6  The in-home delivery option put Amazon in dire...   \n",
       "7  All that is required to have packages delivere...   \n",
       "8  All that is required to have packages delivere...   \n",
       "9                  According to parts manufacturers    \n",
       "\n",
       "                                              middle  \\\n",
       "0                                      (AAPL.O) and    \n",
       "1   posted its lowest quarterly profit in nearly ...   \n",
       "2  , into India's telecoms sector has set off a b...   \n",
       "3  dan-based Arab Bank Plc helped finance militan...   \n",
       "4   PhotoThe 5-4 decision brought to an end a law...   \n",
       "5   in direct competition with so-called smart ho...   \n",
       "6               's (GOOGL.O) Nest Labs and presaged    \n",
       "7   and linking it to the vehicle's so-called con...   \n",
       "8  's (GM.N) OnStar system or Volvo Car Group's O...   \n",
       "9                                                 ,    \n",
       "\n",
       "                                               right  \\\n",
       "0   (005930.KS) frequently hit with patent infrin...   \n",
       "1   Jio, the telecoms arm of Reliance, into India...   \n",
       "2  's managing director and chief executive for I...   \n",
       "3                                          24, 2016.   \n",
       "4  minor connection between the terrorist attacks...   \n",
       "5  's (GOOGL.O) Nest Labs and presaged Amazon's $...   \n",
       "6  's $1 billion acquisition of connected doorbel...   \n",
       "7  's (GM.N) OnStar system or Volvo Car Group's O...   \n",
       "8  's drive to leave packages where they cannot b...   \n",
       "9   and Ams AG, bottlenecks on key parts will mea...   \n",
       "\n",
       "                                             article  label  \\\n",
       "0  50b8f1a67bb7c2cab2fe56b55a24f59ad1703c07b7053e...      0   \n",
       "1  603eeb451da67a70850a823e4eb4e1221a5358040bde3b...      0   \n",
       "2  603eeb451da67a70850a823e4eb4e1221a5358040bde3b...      0   \n",
       "3  26cb6ec3607fdb028b712d260131058e9b01b9aadc26cf...      1   \n",
       "4  26cb6ec3607fdb028b712d260131058e9b01b9aadc26cf...      1   \n",
       "5  884c15dbfd38525ffd89c79ae9f247ac828382bf39e2e2...      1   \n",
       "6  884c15dbfd38525ffd89c79ae9f247ac828382bf39e2e2...      1   \n",
       "7  884c15dbfd38525ffd89c79ae9f247ac828382bf39e2e2...      1   \n",
       "8  884c15dbfd38525ffd89c79ae9f247ac828382bf39e2e2...      1   \n",
       "9  b87f0cf775e9bf0419dd5298dd8339166518f0dd60717b...      0   \n",
       "\n",
       "                                           sentences  split  \n",
       "0  These reviews have been especially popular wit...      2  \n",
       "1  * Q4 profit 829 mln rupees vs. 3.73 bln rupees...      0  \n",
       "2  The entry of Reliance Jio, the telecoms arm of...      2  \n",
       "3  The U.S. Supreme Court on Tuesday ruled that f...      0  \n",
       "4  REUTERS/Aziz Ta Reliance Industries Ltd  Photo...      2  \n",
       "5  The in-home delivery option put  Amazon.com In...      1  \n",
       "6  The in-home delivery option put Amazon in dire...      2  \n",
       "7  All that is required to have packages delivere...      1  \n",
       "8  All that is required to have packages delivere...      2  \n",
       "9  According to parts manufacturers  Viavi Soluti...      2  "
      ]
     },
     "execution_count": 178,
     "metadata": {},
     "output_type": "execute_result"
    }
   ],
   "source": [
    "corpus_with_splits['split'] = splits\n",
    "corpus_with_splits.head(10)"
   ]
  },
  {
   "cell_type": "code",
   "execution_count": null,
   "metadata": {},
   "outputs": [],
   "source": []
  }
 ],
 "metadata": {
  "interpreter": {
   "hash": "3f7d2af36c4982ce742f0dafdcf9be6a4a1c827501473043a2e0130535b4096f"
  },
  "kernelspec": {
   "display_name": "Python 3.9.5 ('base')",
   "language": "python",
   "name": "python3"
  },
  "language_info": {
   "codemirror_mode": {
    "name": "ipython",
    "version": 3
   },
   "file_extension": ".py",
   "mimetype": "text/x-python",
   "name": "python",
   "nbconvert_exporter": "python",
   "pygments_lexer": "ipython3",
   "version": "3.9.5"
  },
  "orig_nbformat": 4
 },
 "nbformat": 4,
 "nbformat_minor": 2
}
