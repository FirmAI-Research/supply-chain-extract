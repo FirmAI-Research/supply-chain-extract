{
 "cells": [
  {
   "cell_type": "code",
   "execution_count": 7,
   "source": [
    "import requests\n",
    "\n",
    "url = \"https://bing-news-search1.p.rapidapi.com/news/search\"\n",
    "\n",
    "#querystring = {\"q\":\"<REQUIRED>\",\"freshness\":\"Day\",\"textFormat\":\"Raw\",\"safeSearch\":\"Off\"}\n",
    "querystring = {\"q\":\"Apple Google\",\"freshness\":\"Day\",\"textFormat\":\"Raw\",\"safeSearch\":\"Off\"}\n",
    "headers = {\n",
    "    'x-bingapis-sdk': \"true\",\n",
    "    'x-rapidapi-key': \"46e1dd70b5msh1abbb57afe4dc23p1a0764jsn26b8f1bc8832\",\n",
    "    'x-rapidapi-host': \"bing-news-search1.p.rapidapi.com\"\n",
    "    }\n",
    "\n",
    "response = requests.request(\"GET\", url, headers=headers, params=querystring)\n",
    "\n",
    "print(response.text)"
   ],
   "outputs": [
    {
     "output_type": "stream",
     "name": "stdout",
     "text": [
      "{\"_type\": \"News\", \"readLink\": \"https:\\/\\/api.cognitive.microsoft.com\\/api\\/v7\\/news\\/search?q=Apple+Google\", \"queryContext\": {\"_type\": \"QueryContext\", \"originalQuery\": \"Apple Google\", \"adultIntent\": false}, \"totalEstimatedMatches\": 30, \"sort\": [{\"_type\": \"SortValue\", \"name\": \"Höchste Übereinstimmung\", \"id\": \"relevance\", \"isSelected\": true, \"url\": \"https:\\/\\/api.cognitive.microsoft.com\\/api\\/v7\\/news\\/search?q=Apple+Google\"}, {\"_type\": \"SortValue\", \"name\": \"Neueste\", \"id\": \"date\", \"isSelected\": false, \"url\": \"https:\\/\\/api.cognitive.microsoft.com\\/api\\/v7\\/news\\/search?q=Apple+Google&sortby=date\"}], \"value\": [{\"_type\": \"NewsArticle\", \"name\": \"Google kündigt neue Datenschutzregeln bei Android‑Geräten an und teilt gegen Apple aus\", \"url\": \"https:\\/\\/www.deraktionaer.de\\/artikel\\/medien-ittk-technologie\\/google-kuendigt-neue-datenschutzregeln-bei-android-geraeten-an-und-teilt-gegen-apple-aus-20245817.html\", \"image\": {\"_type\": \"ImageObject\", \"thumbnail\": {\"_type\": \"ImageObject\", \"contentUrl\": \"https:\\/\\/www.bing.com\\/th?id=OVFT.75O4c1zr-0PDatJUVVS-Si&pid=News\", \"width\": 700, \"height\": 393}}, \"description\": \"Google kritisiert Apple Zugleich distanzierte sich Google - ohne Apple beim Namen zu nennen - von der Vorgehensweise des iPhone ...\", \"provider\": [{\"_type\": \"Organization\", \"name\": \"Der Aktionär\", \"image\": {\"_type\": \"ImageObject\", \"thumbnail\": {\"_type\": \"ImageObject\", \"contentUrl\": \"https:\\/\\/www.bing.com\\/th?id=ODF.BG6IFMkRGPBIWGPQzn9i6w&pid=news\"}}}], \"datePublished\": \"2022-02-16T17:40:00.0000000Z\"}, {\"_type\": \"NewsArticle\", \"name\": \"Sandbox für Android: Google folgt Apple bei der Privatsphäre\", \"url\": \"https:\\/\\/www.mobiflip.de\\/shortnews\\/sandbox-fuer-android-google-folgt-apple-bei-der-privatsphaere\\/\", \"image\": {\"_type\": \"ImageObject\", \"thumbnail\": {\"_type\": \"ImageObject\", \"contentUrl\": \"https:\\/\\/www.bing.com\\/th?id=OVFT.RJcsDKucNNeAkCTPMBMNJy&pid=News\", \"width\": 700, \"height\": 525}}, \"description\": \"Google zieht immer mal wieder mit, kann aber nicht komplett mit Apple mithalten. Das hat einen simplen Grund: Apple verdient nur ...\", \"provider\": [{\"_type\": \"Organization\", \"name\": \"mobiFlip\", \"image\": {\"_type\": \"ImageObject\", \"thumbnail\": {\"_type\": \"ImageObject\", \"contentUrl\": \"https:\\/\\/www.bing.com\\/th?id=ODF.SEgZ_p0WjI2mcy1wnC79ew&pid=news\"}}}], \"datePublished\": \"2022-02-16T12:40:00.0000000Z\", \"category\": \"Business\"}, {\"_type\": \"NewsArticle\", \"name\": \"Google kündigt neue Datenschutzregeln an und teilt gegen Apple aus\", \"url\": \"https:\\/\\/www.deraktionaer.de\\/artikel\\/medien-ittk-technologie\\/google-kuendigt-neue-datenschutzregeln-an-und-teilt-gegen-apple-aus-20245817.html\", \"image\": {\"_type\": \"ImageObject\", \"thumbnail\": {\"_type\": \"ImageObject\", \"contentUrl\": \"https:\\/\\/www.bing.com\\/th?id=OVFT.Eo5-VvZDSpeZtHgCTXjT2i&pid=News\", \"width\": 700, \"height\": 393}}, \"description\": \"Google kritisiert Apple Zugleich distanzierte sich Google - ohne Apple beim Namen zu nennen - von der Vorgehensweise des iPhone ...\", \"provider\": [{\"_type\": \"Organization\", \"name\": \"Der Aktionär\", \"image\": {\"_type\": \"ImageObject\", \"thumbnail\": {\"_type\": \"ImageObject\", \"contentUrl\": \"https:\\/\\/www.bing.com\\/th?id=ODF.BG6IFMkRGPBIWGPQzn9i6w&pid=news\"}}}], \"datePublished\": \"2022-02-16T17:38:00.0000000Z\"}, {\"_type\": \"NewsArticle\", \"name\": \"Android 13: Pixel-Smartphones spiegeln komplette Apps auf PCs\", \"url\": \"https:\\/\\/t3n.de\\/news\\/android-13-pixel-smartphones-pcs-1451895\\/\", \"image\": {\"_type\": \"ImageObject\", \"thumbnail\": {\"_type\": \"ImageObject\", \"contentUrl\": \"https:\\/\\/www.bing.com\\/th?id=OVFT.2wVA8KENSC6L6IS713CZuy&pid=News\", \"width\": 700, \"height\": 393}}, \"description\": \"Schon im Januar 2022 hatte Google einen Ausblick auf seine Pläne gegeben, ein besser vernetztes Ökosystem zu gestalten, um so eine Nutzererfahrung ähnlich der von Apple zu liefern. Vor allem ...\", \"provider\": [{\"_type\": \"Organization\", \"name\": \"T3N\", \"image\": {\"_type\": \"ImageObject\", \"thumbnail\": {\"_type\": \"ImageObject\", \"contentUrl\": \"https:\\/\\/www.bing.com\\/th?id=ODF.umsVQ2WIrfx9fejByCd5LQ&pid=news\"}}}], \"datePublished\": \"2022-02-16T09:25:00.0000000Z\", \"category\": \"ScienceAndTechnology\"}, {\"_type\": \"NewsArticle\", \"name\": \"Google: App-übergreifendes Tracking auf Android-Telefonen soll eingeschränkt werden\", \"url\": \"https:\\/\\/stadt-bremerhaven.de\\/google-app-uebergreifendes-tracking-auf-android-telefonen-soll-eingeschraenkt-werden\\/\", \"image\": {\"_type\": \"ImageObject\", \"thumbnail\": {\"_type\": \"ImageObject\", \"contentUrl\": \"https:\\/\\/www.bing.com\\/th?id=OVFT.cQ4S1Io14TM8VbRWsF8-4S&pid=News\", \"width\": 700, \"height\": 393}}, \"description\": \"Diese Lösungen werden laut Google insbesondere die Weitergabe von Nutzerdaten an Dritte einschränken und ohne App-übergreifende Identifikatoren arbeiten, einschließlich der Werbe-ID.\", \"provider\": [{\"_type\": \"Organization\", \"name\": \"CASCHYS BLOG\", \"image\": {\"_type\": \"ImageObject\", \"thumbnail\": {\"_type\": \"ImageObject\", \"contentUrl\": \"https:\\/\\/www.bing.com\\/th?id=ODF.zL0Q3tLBezT8Fn1w-NhJLQ&pid=news\"}}}], \"datePublished\": \"2022-02-16T12:36:00.0000000Z\", \"category\": \"ScienceAndTechnology\"}, {\"_type\": \"NewsArticle\", \"name\": \"Google nennt Apples Vorgehen \\\"plump\\\", verspricht mehr Datenschutz\", \"url\": \"https:\\/\\/futurezone.at\\/digital-life\\/google-apple-datenschutz-werbe-id-android\\/401908057\", \"image\": {\"_type\": \"ImageObject\", \"thumbnail\": {\"_type\": \"ImageObject\", \"contentUrl\": \"https:\\/\\/www.bing.com\\/th?id=OVFT.e_yHkUpOzsFvJigONoXonS&pid=News\", \"width\": 700, \"height\": 367}}, \"description\": \"Im Betriebssystem Android sollen User künftig besser vor verfolgender Werbung geschützt sein. Apples Weg will Google aber nicht gehen. Die Online-Werbebranche muss sich nach dem iPhone-Schock ...\", \"provider\": [{\"_type\": \"Organization\", \"name\": \"futurezone.at\", \"image\": {\"_type\": \"ImageObject\", \"thumbnail\": {\"_type\": \"ImageObject\", \"contentUrl\": \"https:\\/\\/www.bing.com\\/th?id=ODF.TfReg2MgTY531eITNdnBDQ&pid=news\"}}}], \"datePublished\": \"2022-02-16T15:17:00.0000000Z\", \"category\": \"ScienceAndTechnology\"}, {\"_type\": \"NewsArticle\", \"name\": \"Google kündigt neues Datenschutz-Modell für Android an\", \"url\": \"https:\\/\\/www.welt.de\\/newsticker\\/dpa_nt\\/infoline_nt\\/netzwelt\\/article236951403\\/Google-kuendigt-neues-Datenschutz-Modell-fuer-Android-an.html\", \"image\": {\"_type\": \"ImageObject\", \"thumbnail\": {\"_type\": \"ImageObject\", \"contentUrl\": \"https:\\/\\/www.bing.com\\/th?id=OVFT.fgMEl0cs00CLvYqz0CEeLS&pid=News\", \"width\": 700, \"height\": 393}}, \"description\": \"Anzeige Zugleich distanzierte sich Google - ohne Apple beim Namen zu nennen - von der Vorgehensweise des iPhone-Konzerns.\", \"provider\": [{\"_type\": \"Organization\", \"name\": \"WELT\", \"image\": {\"_type\": \"ImageObject\", \"thumbnail\": {\"_type\": \"ImageObject\", \"contentUrl\": \"https:\\/\\/www.bing.com\\/th?id=ODF.VgKhVqBW0UdrpbRTR1Q2sg&pid=news\"}}}], \"datePublished\": \"2022-02-16T16:06:00.0000000Z\", \"category\": \"Business\"}, {\"_type\": \"NewsArticle\", \"name\": \"Android 13: Apps sollen sich mit Pixel-Handys an PC streamen lassen\", \"url\": \"https:\\/\\/www.netzwelt.de\\/news\\/199585-android-13-apps-pixel-handys-pc-streamen-lassen.html\", \"image\": {\"_type\": \"ImageObject\", \"thumbnail\": {\"_type\": \"ImageObject\", \"contentUrl\": \"https:\\/\\/www.bing.com\\/th?id=OVFT.CoKaKcn8AHEtsHCK5qsqOS&pid=News\", \"width\": 700, \"height\": 393}}, \"description\": \"... 13 will Google offenbar PC und Handy stärker miteinander verzahnen. So sollt ihr vom eurem Pixel-Handy Apps an den PC ...\", \"provider\": [{\"_type\": \"Organization\", \"name\": \"netzwelt.de\", \"image\": {\"_type\": \"ImageObject\", \"thumbnail\": {\"_type\": \"ImageObject\", \"contentUrl\": \"https:\\/\\/www.bing.com\\/th?id=ODF.PZrki-mvKYOj2jMldFGPmQ&pid=news\"}}}], \"datePublished\": \"2022-02-16T08:58:00.0000000Z\", \"category\": \"ScienceAndTechnology\"}, {\"_type\": \"NewsArticle\", \"name\": \"Warnung an Android-Nutzer: Diese beliebten Selfie-Apps verkaufen Ihre Daten\", \"url\": \"https:\\/\\/www.chip.de\\/news\\/Warnung-an-Android-Nutzer-Diese-beliebten-Selfie-Apps-verkaufen-Ihre-Daten_184107368.html\", \"image\": {\"_type\": \"ImageObject\", \"thumbnail\": {\"_type\": \"ImageObject\", \"contentUrl\": \"https:\\/\\/www.bing.com\\/th?id=OVFT.Qhrzk-xAZi9URNaIycq0Fi&pid=News\", \"width\": 640, \"height\": 360}}, \"description\": \"Insgesamt sechs der beliebtesten Apps im Google Play Store, die zusammen über 500 Millionen Mal heruntergeladen wurden ...\", \"provider\": [{\"_type\": \"Organization\", \"name\": \"chip.de\", \"image\": {\"_type\": \"ImageObject\", \"thumbnail\": {\"_type\": \"ImageObject\", \"contentUrl\": \"https:\\/\\/www.bing.com\\/th?id=ODF.mP7cGJK2JKEGXdPFvNZGSQ&pid=news\"}}}], \"datePublished\": \"2022-02-16T11:14:00.0000000Z\", \"category\": \"ScienceAndTechnology\"}, {\"_type\": \"NewsArticle\", \"name\": \"ADAC macht Google Maps Konkurrenz: Coole Kombination aus Spritpreis-App und vollwertigem Navi\", \"url\": \"https:\\/\\/www.chip.de\\/news\\/ADAC-macht-Google-Maps-Konkurrenz-Coole-Kombination-aus-Spritpreis-App-und-vollwertigem-Navi_183831944.html\", \"image\": {\"_type\": \"ImageObject\", \"thumbnail\": {\"_type\": \"ImageObject\", \"contentUrl\": \"https:\\/\\/www.bing.com\\/th?id=OVFT.SHkn7fUapZMK9KKjU8jJUC&pid=News\", \"width\": 640, \"height\": 360}}, \"description\": \"Praktisch sind hier Apps, die immer die Tankstellen ... Wir haben uns die Google-Maps-Alternative von ADAC einmal angeschaut.\", \"provider\": [{\"_type\": \"Organization\", \"name\": \"chip.de\", \"image\": {\"_type\": \"ImageObject\", \"thumbnail\": {\"_type\": \"ImageObject\", \"contentUrl\": \"https:\\/\\/www.bing.com\\/th?id=ODF.mP7cGJK2JKEGXdPFvNZGSQ&pid=news\"}}}], \"datePublished\": \"2022-02-16T14:09:00.0000000Z\", \"category\": \"ScienceAndTechnology\"}]}\n"
     ]
    }
   ],
   "metadata": {}
  },
  {
   "cell_type": "code",
   "execution_count": 6,
   "source": [
    "type(response.text)"
   ],
   "outputs": [
    {
     "output_type": "execute_result",
     "data": {
      "text/plain": [
       "str"
      ]
     },
     "metadata": {},
     "execution_count": 6
    }
   ],
   "metadata": {}
  },
  {
   "cell_type": "code",
   "execution_count": 9,
   "source": [
    "import requests\n",
    "\n",
    "url = \"https://google-news1.p.rapidapi.com/search\"\n",
    "\n",
    "querystring = {\"q\":\"Covid\",\"country\":\"US\",\"lang\":\"en\",\"source\":\"cnn.com\",\"limit\":\"50\",\"when\":\"30d\"}\n",
    "\n",
    "headers = {\n",
    "    'x-rapidapi-key': \"46e1dd70b5msh1abbb57afe4dc23p1a0764jsn26b8f1bc8832\",\n",
    "    'x-rapidapi-host': \"google-news1.p.rapidapi.com\"\n",
    "    }\n",
    "\n",
    "response = requests.request(\"GET\", url, headers=headers, params=querystring)\n",
    "\n",
    "print(response.text)"
   ],
   "outputs": [
    {
     "output_type": "stream",
     "name": "stdout",
     "text": [
      "{\"statusCode\":200,\"articles\":[{\"published_date\":\"2022-02-16T18:49:00+00:00\",\"title\":\"White House seeks additional $30 billion in Covid-19 funding - CNN\",\"link\":\"https://www.cnn.com/2022/02/16/politics/covid-19-funding-biden-administration-request/index.html\",\"source\":{\"title\":\"CNN\",\"url\":\"https://www.cnn.com\"}},{\"published_date\":\"2022-02-16T10:04:00+00:00\",\"title\":\"Hong Kong's outbreak shows the limits of zero-Covid -- but the government isn't budging - CNN\",\"link\":\"https://www.cnn.com/2022/02/16/china/hong-kong-covid-singapore-mic-intl-hnk/\",\"source\":{\"title\":\"CNN\",\"url\":\"https://www.cnn.com\"}},{\"published_date\":\"2022-02-16T11:52:00+00:00\",\"title\":\"The US is lagging on booster shots compared to other western countries - CNN\",\"link\":\"https://www.cnn.com/2022/02/16/world/coronavirus-newsletter-intl-02-16-22/index.html\",\"source\":{\"title\":\"CNN\",\"url\":\"https://www.cnn.com\"}},{\"published_date\":\"2022-02-16T04:50:00+00:00\",\"title\":\"We are in the same Olympic city but remain a world apart - CNN\",\"link\":\"https://www.cnn.com/2022/02/15/china/wang-grandmother-reunion-olympics-covid-bubble-intl-hnk-dst/index.html\",\"source\":{\"title\":\"CNN\",\"url\":\"https://www.cnn.com\"}},{\"published_date\":\"2022-02-16T02:32:00+00:00\",\"title\":\"Ottawa police chief is leaving his post, city officials say amid ongoing protests - CNN\",\"link\":\"https://www.cnn.com/2022/02/15/americas/canada-truckers-protest-tuesday/index.html\",\"source\":{\"title\":\"CNN\",\"url\":\"https://www.cnn.com\"}},{\"published_date\":\"2022-02-16T17:23:00+00:00\",\"title\":\"The chaos from Omicron might be fading, but the turbulence ahead could be worse - CNN\",\"link\":\"https://www.cnn.com/2022/02/14/opinions/covid-restrictions-variants-sepkowitz/index.html\",\"source\":{\"title\":\"CNN\",\"url\":\"https://www.cnn.com\"}},{\"published_date\":\"2022-02-14T13:20:00+00:00\",\"title\":\"Camilla, Duchess of Cornwall tests positive for Covid-19 - CNN\",\"link\":\"https://www.cnn.com/2022/02/14/europe/camilla-covid-intl-scli/index.html\",\"source\":{\"title\":\"CNN\",\"url\":\"https://www.cnn.com\"}},{\"published_date\":\"2022-02-14T15:46:00+00:00\",\"title\":\"Here's what happened with Canadian Covid-19 protests over the weekend - CNN\",\"link\":\"https://www.cnn.com/2022/02/14/us/canada-trucker-protests-weekend/index.html\",\"source\":{\"title\":\"CNN\",\"url\":\"https://www.cnn.com\"}},{\"published_date\":\"2022-02-15T19:37:00+00:00\",\"title\":\"Child Covid-19 hospitalizations rose amid Omicron, especially among children too young to be vaccinated - CNN\",\"link\":\"https://www.cnn.com/2022/02/15/health/covid-hospitalizations-children-unvaccinated/index.html\",\"source\":{\"title\":\"CNN\",\"url\":\"https://www.cnn.com\"}},{\"published_date\":\"2022-02-15T07:49:00+00:00\",\"title\":\"Canadian government invokes Emergencies Act due to blockades and protests over Covid-19 measures - CNN\",\"link\":\"https://www.cnn.com/2022/02/14/americas/canada-truckers-protest-monday/index.html\",\"source\":{\"title\":\"CNN\",\"url\":\"https://www.cnn.com\"}}]}\n"
     ]
    }
   ],
   "metadata": {}
  },
  {
   "cell_type": "code",
   "execution_count": 14,
   "source": [
    "testdict = response.text\n",
    "testdict"
   ],
   "outputs": [
    {
     "output_type": "execute_result",
     "data": {
      "text/plain": [
       "'{\"statusCode\":200,\"articles\":[{\"published_date\":\"2022-02-16T18:49:00+00:00\",\"title\":\"White House seeks additional $30 billion in Covid-19 funding - CNN\",\"link\":\"https://www.cnn.com/2022/02/16/politics/covid-19-funding-biden-administration-request/index.html\",\"source\":{\"title\":\"CNN\",\"url\":\"https://www.cnn.com\"}},{\"published_date\":\"2022-02-16T10:04:00+00:00\",\"title\":\"Hong Kong\\'s outbreak shows the limits of zero-Covid -- but the government isn\\'t budging - CNN\",\"link\":\"https://www.cnn.com/2022/02/16/china/hong-kong-covid-singapore-mic-intl-hnk/\",\"source\":{\"title\":\"CNN\",\"url\":\"https://www.cnn.com\"}},{\"published_date\":\"2022-02-16T11:52:00+00:00\",\"title\":\"The US is lagging on booster shots compared to other western countries - CNN\",\"link\":\"https://www.cnn.com/2022/02/16/world/coronavirus-newsletter-intl-02-16-22/index.html\",\"source\":{\"title\":\"CNN\",\"url\":\"https://www.cnn.com\"}},{\"published_date\":\"2022-02-16T04:50:00+00:00\",\"title\":\"We are in the same Olympic city but remain a world apart - CNN\",\"link\":\"https://www.cnn.com/2022/02/15/china/wang-grandmother-reunion-olympics-covid-bubble-intl-hnk-dst/index.html\",\"source\":{\"title\":\"CNN\",\"url\":\"https://www.cnn.com\"}},{\"published_date\":\"2022-02-16T02:32:00+00:00\",\"title\":\"Ottawa police chief is leaving his post, city officials say amid ongoing protests - CNN\",\"link\":\"https://www.cnn.com/2022/02/15/americas/canada-truckers-protest-tuesday/index.html\",\"source\":{\"title\":\"CNN\",\"url\":\"https://www.cnn.com\"}},{\"published_date\":\"2022-02-16T17:23:00+00:00\",\"title\":\"The chaos from Omicron might be fading, but the turbulence ahead could be worse - CNN\",\"link\":\"https://www.cnn.com/2022/02/14/opinions/covid-restrictions-variants-sepkowitz/index.html\",\"source\":{\"title\":\"CNN\",\"url\":\"https://www.cnn.com\"}},{\"published_date\":\"2022-02-14T13:20:00+00:00\",\"title\":\"Camilla, Duchess of Cornwall tests positive for Covid-19 - CNN\",\"link\":\"https://www.cnn.com/2022/02/14/europe/camilla-covid-intl-scli/index.html\",\"source\":{\"title\":\"CNN\",\"url\":\"https://www.cnn.com\"}},{\"published_date\":\"2022-02-14T15:46:00+00:00\",\"title\":\"Here\\'s what happened with Canadian Covid-19 protests over the weekend - CNN\",\"link\":\"https://www.cnn.com/2022/02/14/us/canada-trucker-protests-weekend/index.html\",\"source\":{\"title\":\"CNN\",\"url\":\"https://www.cnn.com\"}},{\"published_date\":\"2022-02-15T19:37:00+00:00\",\"title\":\"Child Covid-19 hospitalizations rose amid Omicron, especially among children too young to be vaccinated - CNN\",\"link\":\"https://www.cnn.com/2022/02/15/health/covid-hospitalizations-children-unvaccinated/index.html\",\"source\":{\"title\":\"CNN\",\"url\":\"https://www.cnn.com\"}},{\"published_date\":\"2022-02-15T07:49:00+00:00\",\"title\":\"Canadian government invokes Emergencies Act due to blockades and protests over Covid-19 measures - CNN\",\"link\":\"https://www.cnn.com/2022/02/14/americas/canada-truckers-protest-monday/index.html\",\"source\":{\"title\":\"CNN\",\"url\":\"https://www.cnn.com\"}}]}'"
      ]
     },
     "metadata": {},
     "execution_count": 14
    }
   ],
   "metadata": {}
  },
  {
   "cell_type": "code",
   "execution_count": null,
   "source": [],
   "outputs": [],
   "metadata": {}
  }
 ],
 "metadata": {
  "orig_nbformat": 4,
  "language_info": {
   "name": "python",
   "version": "3.9.7",
   "mimetype": "text/x-python",
   "codemirror_mode": {
    "name": "ipython",
    "version": 3
   },
   "pygments_lexer": "ipython3",
   "nbconvert_exporter": "python",
   "file_extension": ".py"
  },
  "kernelspec": {
   "name": "python3",
   "display_name": "Python 3.9.7 64-bit ('nlpwcw1_rec': conda)"
  },
  "interpreter": {
   "hash": "4afa26c81afa363b1ab4bf815135f7b681d0cb95b1a3acd8faa5c509a97d1404"
  }
 },
 "nbformat": 4,
 "nbformat_minor": 2
}