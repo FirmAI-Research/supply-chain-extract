{
 "cells": [
  {
   "cell_type": "code",
   "execution_count": 1,
   "metadata": {},
   "outputs": [],
   "source": [
    "import pandas as pd\n",
    "import numpy as np\n",
    "import matplotlib.pyplot as plt\n",
    "import os\n",
    "import seaborn as sns\n",
    "import sys\n",
    "import json"
   ]
  },
  {
   "cell_type": "code",
   "execution_count": 2,
   "metadata": {},
   "outputs": [],
   "source": [
    "try:\n",
    "    # python package (nlp) location - two levels up from this file\n",
    "    src_path = os.path.abspath(os.path.join(os.getcwd(), \"../..\"))\n",
    "    # add package to sys.path if it's not already there\n",
    "    if src_path not in sys.path:\n",
    "        sys.path.extend([src_path])\n",
    "except NameError:\n",
    "    print('issue with adding to path, probably due to __file__ not being defined')\n",
    "    src_path = None"
   ]
  },
  {
   "cell_type": "code",
   "execution_count": 3,
   "metadata": {},
   "outputs": [],
   "source": [
    "from nlp.utils import get_database\n",
    "from nlp import get_configs_path"
   ]
  },
  {
   "cell_type": "markdown",
   "metadata": {},
   "source": [
    "## Load Data"
   ]
  },
  {
   "cell_type": "code",
   "execution_count": 6,
   "metadata": {},
   "outputs": [
    {
     "name": "stdout",
     "output_type": "stream",
     "text": [
      "database names: ['new_articles', 'news_articles', 'knowledge_base', 'test', 'admin', 'local']\n"
     ]
    }
   ],
   "source": [
    "# get credentials\n",
    "with open(get_configs_path(\"mongo.json\"), \"r+\") as f:\n",
    "    mdb_cred = json.load(f)\n",
    "\n",
    "# get mongodb client - for connections\n",
    "client = get_database(username=mdb_cred[\"username\"],\n",
    "                        password=mdb_cred[\"password\"],\n",
    "                        clustername=mdb_cred[\"cluster_name\"])\n",
    "\n",
    "# database names\n",
    "print(f\"database names: {client.list_database_names()}\")\n",
    "\n",
    "prev_fetched = pd.DataFrame(list(client['knowledge_base'][\"KB\"].find(filter={})))"
   ]
  },
  {
   "cell_type": "markdown",
   "metadata": {},
   "source": [
    "# Save DB File with 3 Columns Only"
   ]
  },
  {
   "cell_type": "code",
   "execution_count": 73,
   "metadata": {},
   "outputs": [
    {
     "data": {
      "text/html": [
       "<div>\n",
       "<style scoped>\n",
       "    .dataframe tbody tr th:only-of-type {\n",
       "        vertical-align: middle;\n",
       "    }\n",
       "\n",
       "    .dataframe tbody tr th {\n",
       "        vertical-align: top;\n",
       "    }\n",
       "\n",
       "    .dataframe thead th {\n",
       "        text-align: right;\n",
       "    }\n",
       "</style>\n",
       "<table border=\"1\" class=\"dataframe\">\n",
       "  <thead>\n",
       "    <tr style=\"text-align: right;\">\n",
       "      <th></th>\n",
       "      <th>Relationship</th>\n",
       "      <th>Company Name</th>\n",
       "      <th>Parent Name</th>\n",
       "    </tr>\n",
       "  </thead>\n",
       "  <tbody>\n",
       "    <tr>\n",
       "      <th>0</th>\n",
       "      <td>customer of</td>\n",
       "      <td>Apple Inc</td>\n",
       "      <td>Seoul Semiconductor Co Ltd</td>\n",
       "    </tr>\n",
       "    <tr>\n",
       "      <th>1</th>\n",
       "      <td>customer of</td>\n",
       "      <td>Koizumi furnitech Thailand Co Ltd</td>\n",
       "      <td>Seoul Semiconductor Co Ltd</td>\n",
       "    </tr>\n",
       "    <tr>\n",
       "      <th>2</th>\n",
       "      <td>supplier of</td>\n",
       "      <td>Iri Group Holdings Inc</td>\n",
       "      <td>DS Smith PLC</td>\n",
       "    </tr>\n",
       "    <tr>\n",
       "      <th>3</th>\n",
       "      <td>customer of</td>\n",
       "      <td>Amazon.com Inc</td>\n",
       "      <td>DS Smith PLC</td>\n",
       "    </tr>\n",
       "    <tr>\n",
       "      <th>4</th>\n",
       "      <td>customer of</td>\n",
       "      <td>Procter &amp; Gamble Co</td>\n",
       "      <td>DS Smith PLC</td>\n",
       "    </tr>\n",
       "    <tr>\n",
       "      <th>...</th>\n",
       "      <td>...</td>\n",
       "      <td>...</td>\n",
       "      <td>...</td>\n",
       "    </tr>\n",
       "    <tr>\n",
       "      <th>21453</th>\n",
       "      <td>supplier of</td>\n",
       "      <td>SolarWinds Corp</td>\n",
       "      <td>Cisco Systems Inc (Pre-Merger)</td>\n",
       "    </tr>\n",
       "    <tr>\n",
       "      <th>21454</th>\n",
       "      <td>supplier of</td>\n",
       "      <td>Unified Communications Ltd</td>\n",
       "      <td>Cisco Systems Inc (Pre-Merger)</td>\n",
       "    </tr>\n",
       "    <tr>\n",
       "      <th>21455</th>\n",
       "      <td>customer of</td>\n",
       "      <td>Flexential Colorado Corp</td>\n",
       "      <td>Cisco Systems Inc (Pre-Merger)</td>\n",
       "    </tr>\n",
       "    <tr>\n",
       "      <th>21456</th>\n",
       "      <td>supplier of</td>\n",
       "      <td>Verint Systems Inc</td>\n",
       "      <td>Cisco Systems Inc (Pre-Merger)</td>\n",
       "    </tr>\n",
       "    <tr>\n",
       "      <th>21457</th>\n",
       "      <td>customer of</td>\n",
       "      <td>Cellco Partnership</td>\n",
       "      <td>Cisco Systems Inc (Pre-Merger)</td>\n",
       "    </tr>\n",
       "  </tbody>\n",
       "</table>\n",
       "<p>21458 rows × 3 columns</p>\n",
       "</div>"
      ],
      "text/plain": [
       "      Relationship                       Company Name  \\\n",
       "0      customer of                          Apple Inc   \n",
       "1      customer of  Koizumi furnitech Thailand Co Ltd   \n",
       "2      supplier of             Iri Group Holdings Inc   \n",
       "3      customer of                     Amazon.com Inc   \n",
       "4      customer of                Procter & Gamble Co   \n",
       "...            ...                                ...   \n",
       "21453  supplier of                    SolarWinds Corp   \n",
       "21454  supplier of         Unified Communications Ltd   \n",
       "21455  customer of           Flexential Colorado Corp   \n",
       "21456  supplier of                 Verint Systems Inc   \n",
       "21457  customer of                 Cellco Partnership   \n",
       "\n",
       "                          Parent Name  \n",
       "0          Seoul Semiconductor Co Ltd  \n",
       "1          Seoul Semiconductor Co Ltd  \n",
       "2                        DS Smith PLC  \n",
       "3                        DS Smith PLC  \n",
       "4                        DS Smith PLC  \n",
       "...                               ...  \n",
       "21453  Cisco Systems Inc (Pre-Merger)  \n",
       "21454  Cisco Systems Inc (Pre-Merger)  \n",
       "21455  Cisco Systems Inc (Pre-Merger)  \n",
       "21456  Cisco Systems Inc (Pre-Merger)  \n",
       "21457  Cisco Systems Inc (Pre-Merger)  \n",
       "\n",
       "[21458 rows x 3 columns]"
      ]
     },
     "execution_count": 73,
     "metadata": {},
     "output_type": "execute_result"
    }
   ],
   "source": [
    "#Create a copy with only 3 columns\n",
    "example_kb_df = prev_fetched.loc[:,['Relationship',\"Company Name\",'Parent Name']].copy()\n",
    "#Rename relationship column to make the direction clearer \n",
    "example_kb_df.loc[example_kb_df['Relationship'] == \"Customer\",\"Relationship\"] = \"customer of\"\n",
    "example_kb_df.loc[example_kb_df['Relationship'] == \"Supplier\",\"Relationship\"] = \"supplier of\"\n",
    "example_kb_df"
   ]
  },
  {
   "cell_type": "code",
   "execution_count": 75,
   "metadata": {},
   "outputs": [],
   "source": [
    "example_kb_df.to_csv((src_path + \"/nlp/data/example_kb.tsv\"), sep=\"\\t\", index=False, header = False)"
   ]
  },
  {
   "cell_type": "code",
   "execution_count": null,
   "metadata": {},
   "outputs": [],
   "source": [
    "#Use command line to store as gzip file\n",
    "#In command line: gzip example_kb.tsv"
   ]
  },
  {
   "cell_type": "markdown",
   "metadata": {},
   "source": [
    "## Descriptive Analysis"
   ]
  },
  {
   "cell_type": "code",
   "execution_count": 7,
   "metadata": {},
   "outputs": [
    {
     "data": {
      "text/plain": [
       "Index(['_id', 'Parent Name', 'Parent Id', 'Identifier', 'Company Name', 'Type',\n",
       "       'Relationship', 'Country/Region', 'Industry', 'Confidence Score (%)',\n",
       "       'Last Update Date', 'Days Since Last Update', 'Freshness',\n",
       "       'Snippet Count', 'Revenue (USD)', 'EQ Score', 'Implied Rating',\n",
       "       'fetch_time'],\n",
       "      dtype='object')"
      ]
     },
     "execution_count": 7,
     "metadata": {},
     "output_type": "execute_result"
    }
   ],
   "source": [
    "#Columns in df\n",
    "prev_fetched.columns"
   ]
  },
  {
   "cell_type": "code",
   "execution_count": 40,
   "metadata": {},
   "outputs": [
    {
     "data": {
      "text/plain": [
       "<AxesSubplot:>"
      ]
     },
     "execution_count": 40,
     "metadata": {},
     "output_type": "execute_result"
    },
    {
     "data": {
      "image/png": "[encoded data removed]",
      "text/plain": [
       "<Figure size 432x288 with 1 Axes>"
      ]
     },
     "metadata": {
      "needs_background": "light"
     },
     "output_type": "display_data"
    }
   ],
   "source": [
    "#Distribution of confidence scores\n",
    "prev_fetched['Confidence Score (%)'].hist()\n"
   ]
  },
  {
   "cell_type": "code",
   "execution_count": 41,
   "metadata": {},
   "outputs": [
    {
     "data": {
      "text/plain": [
       "<AxesSubplot:>"
      ]
     },
     "execution_count": 41,
     "metadata": {},
     "output_type": "execute_result"
    },
    {
     "data": {
      "image/png": "[encoded data removed]",
      "text/plain": [
       "<Figure size 432x288 with 1 Axes>"
      ]
     },
     "metadata": {
      "needs_background": "light"
     },
     "output_type": "display_data"
    }
   ],
   "source": [
    "#Distribution of freshness\n",
    "prev_fetched['Freshness'].hist()\n"
   ]
  },
  {
   "cell_type": "code",
   "execution_count": 44,
   "metadata": {},
   "outputs": [
    {
     "data": {
      "text/plain": [
       "array([2, 5, 1, 4, 3])"
      ]
     },
     "execution_count": 44,
     "metadata": {},
     "output_type": "execute_result"
    }
   ],
   "source": [
    "prev_fetched['Freshness'].unique()"
   ]
  },
  {
   "cell_type": "code",
   "execution_count": 47,
   "metadata": {},
   "outputs": [
    {
     "data": {
      "text/plain": [
       "<AxesSubplot:xlabel='Confidence Score (%)', ylabel='Freshness'>"
      ]
     },
     "execution_count": 47,
     "metadata": {},
     "output_type": "execute_result"
    },
    {
     "data": {
      "image/png": "[encoded data removed]",
      "text/plain": [
       "<Figure size 432x288 with 1 Axes>"
      ]
     },
     "metadata": {
      "needs_background": "light"
     },
     "output_type": "display_data"
    }
   ],
   "source": [
    "#Freshness vs Confidence in %\n",
    "sns.scatterplot(data = prev_fetched,x = \"Confidence Score (%)\", y=\"Freshness\")"
   ]
  },
  {
   "cell_type": "code",
   "execution_count": 36,
   "metadata": {},
   "outputs": [
    {
     "data": {
      "text/plain": [
       "(2697, 18)"
      ]
     },
     "execution_count": 36,
     "metadata": {},
     "output_type": "execute_result"
    }
   ],
   "source": [
    "#Number of relationships\n",
    "confidence_threshold = 0.8\n",
    "prev_fetched_conf = prev_fetched.loc[prev_fetched[\"Confidence Score (%)\"] > confidence_threshold,:]\n",
    "prev_fetched_conf.shape"
   ]
  },
  {
   "cell_type": "code",
   "execution_count": 27,
   "metadata": {},
   "outputs": [
    {
     "name": "stdout",
     "output_type": "stream",
     "text": [
      "572\n"
     ]
    }
   ],
   "source": [
    "#Number of parents\n",
    "num_parents = len(prev_fetched['Parent Name'].unique())\n",
    "print(num_parents)"
   ]
  },
  {
   "cell_type": "code",
   "execution_count": 33,
   "metadata": {},
   "outputs": [
    {
     "name": "stdout",
     "output_type": "stream",
     "text": [
      "458\n",
      "564\n"
     ]
    }
   ],
   "source": [
    "#Number of relatipnships\n",
    "num_rel_sup = len(prev_fetched.loc[prev_fetched[\"Relationship\"] == \"Supplier\",'Parent Name'].unique())\n",
    "num_rel_cust = len(prev_fetched.loc[prev_fetched[\"Relationship\"] == \"Customer\",'Parent Name'].unique())\n",
    "print(num_rel_sup)\n",
    "print(num_rel_cust)"
   ]
  },
  {
   "cell_type": "code",
   "execution_count": 62,
   "metadata": {},
   "outputs": [
    {
     "data": {
      "text/html": [
       "<div>\n",
       "<style scoped>\n",
       "    .dataframe tbody tr th:only-of-type {\n",
       "        vertical-align: middle;\n",
       "    }\n",
       "\n",
       "    .dataframe tbody tr th {\n",
       "        vertical-align: top;\n",
       "    }\n",
       "\n",
       "    .dataframe thead th {\n",
       "        text-align: right;\n",
       "    }\n",
       "</style>\n",
       "<table border=\"1\" class=\"dataframe\">\n",
       "  <thead>\n",
       "    <tr style=\"text-align: right;\">\n",
       "      <th></th>\n",
       "      <th>Num Articles</th>\n",
       "    </tr>\n",
       "  </thead>\n",
       "  <tbody>\n",
       "    <tr>\n",
       "      <th>2010</th>\n",
       "      <td>231.0</td>\n",
       "    </tr>\n",
       "    <tr>\n",
       "      <th>2011</th>\n",
       "      <td>604.0</td>\n",
       "    </tr>\n",
       "    <tr>\n",
       "      <th>2012</th>\n",
       "      <td>1062.0</td>\n",
       "    </tr>\n",
       "    <tr>\n",
       "      <th>2013</th>\n",
       "      <td>1413.0</td>\n",
       "    </tr>\n",
       "    <tr>\n",
       "      <th>2014</th>\n",
       "      <td>989.0</td>\n",
       "    </tr>\n",
       "    <tr>\n",
       "      <th>2015</th>\n",
       "      <td>905.0</td>\n",
       "    </tr>\n",
       "    <tr>\n",
       "      <th>2016</th>\n",
       "      <td>1078.0</td>\n",
       "    </tr>\n",
       "    <tr>\n",
       "      <th>2017</th>\n",
       "      <td>2555.0</td>\n",
       "    </tr>\n",
       "    <tr>\n",
       "      <th>2018</th>\n",
       "      <td>3014.0</td>\n",
       "    </tr>\n",
       "    <tr>\n",
       "      <th>2019</th>\n",
       "      <td>3084.0</td>\n",
       "    </tr>\n",
       "    <tr>\n",
       "      <th>2020</th>\n",
       "      <td>2042.0</td>\n",
       "    </tr>\n",
       "    <tr>\n",
       "      <th>2021</th>\n",
       "      <td>3984.0</td>\n",
       "    </tr>\n",
       "    <tr>\n",
       "      <th>2022</th>\n",
       "      <td>497.0</td>\n",
       "    </tr>\n",
       "  </tbody>\n",
       "</table>\n",
       "</div>"
      ],
      "text/plain": [
       "      Num Articles\n",
       "2010         231.0\n",
       "2011         604.0\n",
       "2012        1062.0\n",
       "2013        1413.0\n",
       "2014         989.0\n",
       "2015         905.0\n",
       "2016        1078.0\n",
       "2017        2555.0\n",
       "2018        3014.0\n",
       "2019        3084.0\n",
       "2020        2042.0\n",
       "2021        3984.0\n",
       "2022         497.0"
      ]
     },
     "execution_count": 62,
     "metadata": {},
     "output_type": "execute_result"
    }
   ],
   "source": [
    "#Dates\n",
    "confidence_threshold = 0.8\n",
    "yeardf = pd.DataFrame(index = range(2010,2023))\n",
    "for year in yeardf.index:\n",
    "    yeardf.loc[year,\"Num Articles\"] = len(prev_fetched.loc[prev_fetched[\"Last Update Date\"].dt.year.isin([year]) & prev_fetched[\"Confidence Score (%)\"] > confidence_threshold, :])\n",
    "yeardf\n",
    "\n"
   ]
  },
  {
   "cell_type": "markdown",
   "metadata": {},
   "source": [
    "# Adapt news file to have long names (Now done in article_analysis)"
   ]
  },
  {
   "cell_type": "code",
   "execution_count": 8,
   "metadata": {},
   "outputs": [],
   "source": [
    "#Load file with articles and file with short name conversion\n",
    "articles = pd.read_csv(src_path + \"/nlp/data/example_inputs.tsv\",sep='\\t')\n",
    "c_count = pd.read_csv(src_path + \"/nlp/data/short_name_conversion.tsv\",sep='\\t')\n"
   ]
  },
  {
   "cell_type": "code",
   "execution_count": 9,
   "metadata": {},
   "outputs": [],
   "source": [
    "#function to replace entity short name in articles df with long names from c_count\n",
    "def replace_entity_name(x,c_count):\n",
    "    if len(c_count.loc[c_count['short_name']==x,\"name\"].values) > 0:\n",
    "        return c_count.loc[c_count['short_name']==x,\"name\"].values[0]\n",
    "    elif x == \"Lockheed Martin\":\n",
    "        return \"Lockheed Martin\" \n",
    "    else:\n",
    "        print(\"{} not matched\".format(x))\n",
    "        return pd.NA\n",
    "        "
   ]
  },
  {
   "cell_type": "code",
   "execution_count": 10,
   "metadata": {},
   "outputs": [
    {
     "data": {
      "text/html": [
       "<div>\n",
       "<style scoped>\n",
       "    .dataframe tbody tr th:only-of-type {\n",
       "        vertical-align: middle;\n",
       "    }\n",
       "\n",
       "    .dataframe tbody tr th {\n",
       "        vertical-align: top;\n",
       "    }\n",
       "\n",
       "    .dataframe thead th {\n",
       "        text-align: right;\n",
       "    }\n",
       "</style>\n",
       "<table border=\"1\" class=\"dataframe\">\n",
       "  <thead>\n",
       "    <tr style=\"text-align: right;\">\n",
       "      <th></th>\n",
       "      <th>entity1</th>\n",
       "      <th>entity2</th>\n",
       "      <th>left</th>\n",
       "      <th>middle</th>\n",
       "      <th>right</th>\n",
       "      <th>article</th>\n",
       "    </tr>\n",
       "  </thead>\n",
       "  <tbody>\n",
       "    <tr>\n",
       "      <th>0</th>\n",
       "      <td>Apple Inc</td>\n",
       "      <td>Corning Inc</td>\n",
       "      <td>\\n</td>\n",
       "      <td>shares lost {AAPL.O;-PCTCHNG:2} percent as wo...</td>\n",
       "      <td>reported a drop in screen glass sales for the...</td>\n",
       "      <td>620d7165c02377e1232d8ef4</td>\n",
       "    </tr>\n",
       "    <tr>\n",
       "      <th>1</th>\n",
       "      <td>Amazon.com Inc</td>\n",
       "      <td>Netflix Inc</td>\n",
       "      <td>\\nOther technology stocks in the FAANG group, ...</td>\n",
       "      <td>and</td>\n",
       "      <td>, also weighed on the Nasdaq.</td>\n",
       "      <td>620d7165c02377e1232d8ef4</td>\n",
       "    </tr>\n",
       "    <tr>\n",
       "      <th>2</th>\n",
       "      <td>Corning Inc</td>\n",
       "      <td>Apple Inc</td>\n",
       "      <td>NaN</td>\n",
       "      <td>(GLW.N) on Tuesday reported a drop in sales a...</td>\n",
       "      <td>'s (AAPL.O) iPhone and Samsung's (005930.KS) G...</td>\n",
       "      <td>620d716fc02377e1232d8f11</td>\n",
       "    </tr>\n",
       "    <tr>\n",
       "      <th>3</th>\n",
       "      <td>Apple Inc</td>\n",
       "      <td>Corning Inc</td>\n",
       "      <td>\\nAt least two other</td>\n",
       "      <td>suppliers - contract chipmaker Taiwan (2330.T...</td>\n",
       "      <td>said net sales in its specialty materials bus...</td>\n",
       "      <td>620d716fc02377e1232d8f11</td>\n",
       "    </tr>\n",
       "    <tr>\n",
       "      <th>4</th>\n",
       "      <td>Apple Inc</td>\n",
       "      <td>Taiwan Semiconductor Manufacturing Co Ltd</td>\n",
       "      <td>\\nAt least two other</td>\n",
       "      <td>suppliers - contract chipmaker</td>\n",
       "      <td>(2330.TW) and chipmaker AMS (AMS.S) - have po...</td>\n",
       "      <td>620d716fc02377e1232d8f11</td>\n",
       "    </tr>\n",
       "  </tbody>\n",
       "</table>\n",
       "</div>"
      ],
      "text/plain": [
       "          entity1                                    entity2  \\\n",
       "0       Apple Inc                                Corning Inc   \n",
       "1  Amazon.com Inc                                Netflix Inc   \n",
       "2     Corning Inc                                  Apple Inc   \n",
       "3       Apple Inc                                Corning Inc   \n",
       "4       Apple Inc  Taiwan Semiconductor Manufacturing Co Ltd   \n",
       "\n",
       "                                                left  \\\n",
       "0                                                 \\n   \n",
       "1  \\nOther technology stocks in the FAANG group, ...   \n",
       "2                                                NaN   \n",
       "3                              \\nAt least two other    \n",
       "4                              \\nAt least two other    \n",
       "\n",
       "                                              middle  \\\n",
       "0   shares lost {AAPL.O;-PCTCHNG:2} percent as wo...   \n",
       "1                                               and    \n",
       "2   (GLW.N) on Tuesday reported a drop in sales a...   \n",
       "3   suppliers - contract chipmaker Taiwan (2330.T...   \n",
       "4                    suppliers - contract chipmaker    \n",
       "\n",
       "                                               right                   article  \n",
       "0   reported a drop in screen glass sales for the...  620d7165c02377e1232d8ef4  \n",
       "1                      , also weighed on the Nasdaq.  620d7165c02377e1232d8ef4  \n",
       "2  's (AAPL.O) iPhone and Samsung's (005930.KS) G...  620d716fc02377e1232d8f11  \n",
       "3   said net sales in its specialty materials bus...  620d716fc02377e1232d8f11  \n",
       "4   (2330.TW) and chipmaker AMS (AMS.S) - have po...  620d716fc02377e1232d8f11  "
      ]
     },
     "execution_count": 10,
     "metadata": {},
     "output_type": "execute_result"
    }
   ],
   "source": [
    "#Applying function to the articles df\n",
    "articles['entity1'] = articles['entity1'].apply(lambda x: replace_entity_name(x,c_count))\n",
    "articles['entity2'] = articles['entity2'].apply(lambda x: replace_entity_name(x,c_count))\n",
    "articles.head()"
   ]
  },
  {
   "cell_type": "code",
   "execution_count": 7,
   "metadata": {},
   "outputs": [
    {
     "data": {
      "text/html": [
       "<div>\n",
       "<style scoped>\n",
       "    .dataframe tbody tr th:only-of-type {\n",
       "        vertical-align: middle;\n",
       "    }\n",
       "\n",
       "    .dataframe tbody tr th {\n",
       "        vertical-align: top;\n",
       "    }\n",
       "\n",
       "    .dataframe thead th {\n",
       "        text-align: right;\n",
       "    }\n",
       "</style>\n",
       "<table border=\"1\" class=\"dataframe\">\n",
       "  <thead>\n",
       "    <tr style=\"text-align: right;\">\n",
       "      <th></th>\n",
       "      <th>entity1</th>\n",
       "      <th>entity2</th>\n",
       "      <th>left</th>\n",
       "      <th>middle</th>\n",
       "      <th>right</th>\n",
       "      <th>article</th>\n",
       "      <th>label</th>\n",
       "    </tr>\n",
       "  </thead>\n",
       "  <tbody>\n",
       "    <tr>\n",
       "      <th>0</th>\n",
       "      <td>&lt;NA&gt;</td>\n",
       "      <td>Finisar Corp</td>\n",
       "      <td>\\nAccording to parts manufacturers</td>\n",
       "      <td>,</td>\n",
       "      <td>and Ams AG, bottlenecks on key parts will mea...</td>\n",
       "      <td>b87f0cf775e9bf0419dd5298dd8339166518f0dd60717b...</td>\n",
       "      <td>0</td>\n",
       "    </tr>\n",
       "    <tr>\n",
       "      <th>1</th>\n",
       "      <td>Alphabet Inc</td>\n",
       "      <td>3M Co</td>\n",
       "      <td>* 10-yr yield hits 3 pct for first time in fou...</td>\n",
       "      <td>,</td>\n",
       "      <td>pull indexes down\\n*</td>\n",
       "      <td>90ce5e433c2f36e596ecc077cc8d101da1e52fbbfe8f60...</td>\n",
       "      <td>0</td>\n",
       "    </tr>\n",
       "    <tr>\n",
       "      <th>2</th>\n",
       "      <td>Alphabet Inc</td>\n",
       "      <td>3M Co</td>\n",
       "      <td>\\nTechnology and industrial stocks weighed on ...</td>\n",
       "      <td>, Facebook Inc,</td>\n",
       "      <td>and Caterpillar all falling more than 3.5 per...</td>\n",
       "      <td>90ce5e433c2f36e596ecc077cc8d101da1e52fbbfe8f60...</td>\n",
       "      <td>0</td>\n",
       "    </tr>\n",
       "    <tr>\n",
       "      <th>3</th>\n",
       "      <td>3M Co</td>\n",
       "      <td>Alphabet Inc</td>\n",
       "      <td>\\nTechnology and industrial stocks weighed on ...</td>\n",
       "      <td>and Caterpillar all falling more than 3.5 per...</td>\n",
       "      <td>shares fell {GOOGL.O;-PCTCHNG:2}77 percent, e...</td>\n",
       "      <td>90ce5e433c2f36e596ecc077cc8d101da1e52fbbfe8f60...</td>\n",
       "      <td>0</td>\n",
       "    </tr>\n",
       "    <tr>\n",
       "      <th>4</th>\n",
       "      <td>Alphabet Inc</td>\n",
       "      <td>3M Co</td>\n",
       "      <td>\\n</td>\n",
       "      <td>shares fell {GOOGL.O;-PCTCHNG:2}77 percent, e...</td>\n",
       "      <td>was the biggest drag on the Dow Jones Industr...</td>\n",
       "      <td>90ce5e433c2f36e596ecc077cc8d101da1e52fbbfe8f60...</td>\n",
       "      <td>0</td>\n",
       "    </tr>\n",
       "    <tr>\n",
       "      <th>...</th>\n",
       "      <td>...</td>\n",
       "      <td>...</td>\n",
       "      <td>...</td>\n",
       "      <td>...</td>\n",
       "      <td>...</td>\n",
       "      <td>...</td>\n",
       "      <td>...</td>\n",
       "    </tr>\n",
       "    <tr>\n",
       "      <th>23208</th>\n",
       "      <td>Samsung Electronics Co Ltd</td>\n",
       "      <td>Apple Inc</td>\n",
       "      <td>But it is priced cheaper than comparable iPad ...</td>\n",
       "      <td>Galaxy Tab models at 1,499 yuan (142 pound)) ...</td>\n",
       "      <td>'s iPad,\" Xiaomi's founder Lei Jun said at the...</td>\n",
       "      <td>314f65ec6b5b415077196cf630f4610077090b206a215c...</td>\n",
       "      <td>0</td>\n",
       "    </tr>\n",
       "    <tr>\n",
       "      <th>23209</th>\n",
       "      <td>Apple Inc</td>\n",
       "      <td>Samsung Electronics Co Ltd</td>\n",
       "      <td>\\n\"Xiaomi has a different business model than</td>\n",
       "      <td>or</td>\n",
       "      <td>,\" said Ben Thompson, founder of Stratechery.c...</td>\n",
       "      <td>314f65ec6b5b415077196cf630f4610077090b206a215c...</td>\n",
       "      <td>0</td>\n",
       "    </tr>\n",
       "    <tr>\n",
       "      <th>23210</th>\n",
       "      <td>Samsung Electronics Co Ltd</td>\n",
       "      <td>Apple Inc</td>\n",
       "      <td>\\n\"Xiaomi has a different business model than ...</td>\n",
       "      <td>,\" said Ben Thompson, founder of Stratechery.c...</td>\n",
       "      <td>makes it profits on the hardware, while Xiaom...</td>\n",
       "      <td>314f65ec6b5b415077196cf630f4610077090b206a215c...</td>\n",
       "      <td>0</td>\n",
       "    </tr>\n",
       "    <tr>\n",
       "      <th>23211</th>\n",
       "      <td>Sharp Corp</td>\n",
       "      <td>Japan Display Inc</td>\n",
       "      <td>\\nXiaomi's success also is creating new opport...</td>\n",
       "      <td>and</td>\n",
       "      <td>, as they bolster their offerings of high-spec...</td>\n",
       "      <td>314f65ec6b5b415077196cf630f4610077090b206a215c...</td>\n",
       "      <td>0</td>\n",
       "    </tr>\n",
       "    <tr>\n",
       "      <th>23212</th>\n",
       "      <td>Japan Display Inc</td>\n",
       "      <td>Sharp Corp</td>\n",
       "      <td>\\nXiaomi's success also is creating new opport...</td>\n",
       "      <td>, as they bolster their offerings of high-spec...</td>\n",
       "      <td>as a supplier and said it had provided the di...</td>\n",
       "      <td>314f65ec6b5b415077196cf630f4610077090b206a215c...</td>\n",
       "      <td>0</td>\n",
       "    </tr>\n",
       "  </tbody>\n",
       "</table>\n",
       "<p>23213 rows × 7 columns</p>\n",
       "</div>"
      ],
      "text/plain": [
       "                          entity1                     entity2  \\\n",
       "0                            <NA>                Finisar Corp   \n",
       "1                    Alphabet Inc                       3M Co   \n",
       "2                    Alphabet Inc                       3M Co   \n",
       "3                           3M Co                Alphabet Inc   \n",
       "4                    Alphabet Inc                       3M Co   \n",
       "...                           ...                         ...   \n",
       "23208  Samsung Electronics Co Ltd                   Apple Inc   \n",
       "23209                   Apple Inc  Samsung Electronics Co Ltd   \n",
       "23210  Samsung Electronics Co Ltd                   Apple Inc   \n",
       "23211                  Sharp Corp           Japan Display Inc   \n",
       "23212           Japan Display Inc                  Sharp Corp   \n",
       "\n",
       "                                                    left  \\\n",
       "0                    \\nAccording to parts manufacturers    \n",
       "1      * 10-yr yield hits 3 pct for first time in fou...   \n",
       "2      \\nTechnology and industrial stocks weighed on ...   \n",
       "3      \\nTechnology and industrial stocks weighed on ...   \n",
       "4                                                     \\n   \n",
       "...                                                  ...   \n",
       "23208  But it is priced cheaper than comparable iPad ...   \n",
       "23209     \\n\"Xiaomi has a different business model than    \n",
       "23210  \\n\"Xiaomi has a different business model than ...   \n",
       "23211  \\nXiaomi's success also is creating new opport...   \n",
       "23212  \\nXiaomi's success also is creating new opport...   \n",
       "\n",
       "                                                  middle  \\\n",
       "0                                                     ,    \n",
       "1                                                     ,    \n",
       "2                                       , Facebook Inc,    \n",
       "3       and Caterpillar all falling more than 3.5 per...   \n",
       "4       shares fell {GOOGL.O;-PCTCHNG:2}77 percent, e...   \n",
       "...                                                  ...   \n",
       "23208   Galaxy Tab models at 1,499 yuan (142 pound)) ...   \n",
       "23209                                                or    \n",
       "23210  ,\" said Ben Thompson, founder of Stratechery.c...   \n",
       "23211                                               and    \n",
       "23212  , as they bolster their offerings of high-spec...   \n",
       "\n",
       "                                                   right  \\\n",
       "0       and Ams AG, bottlenecks on key parts will mea...   \n",
       "1                                   pull indexes down\\n*   \n",
       "2       and Caterpillar all falling more than 3.5 per...   \n",
       "3       shares fell {GOOGL.O;-PCTCHNG:2}77 percent, e...   \n",
       "4       was the biggest drag on the Dow Jones Industr...   \n",
       "...                                                  ...   \n",
       "23208  's iPad,\" Xiaomi's founder Lei Jun said at the...   \n",
       "23209  ,\" said Ben Thompson, founder of Stratechery.c...   \n",
       "23210   makes it profits on the hardware, while Xiaom...   \n",
       "23211  , as they bolster their offerings of high-spec...   \n",
       "23212   as a supplier and said it had provided the di...   \n",
       "\n",
       "                                                 article  label  \n",
       "0      b87f0cf775e9bf0419dd5298dd8339166518f0dd60717b...      0  \n",
       "1      90ce5e433c2f36e596ecc077cc8d101da1e52fbbfe8f60...      0  \n",
       "2      90ce5e433c2f36e596ecc077cc8d101da1e52fbbfe8f60...      0  \n",
       "3      90ce5e433c2f36e596ecc077cc8d101da1e52fbbfe8f60...      0  \n",
       "4      90ce5e433c2f36e596ecc077cc8d101da1e52fbbfe8f60...      0  \n",
       "...                                                  ...    ...  \n",
       "23208  314f65ec6b5b415077196cf630f4610077090b206a215c...      0  \n",
       "23209  314f65ec6b5b415077196cf630f4610077090b206a215c...      0  \n",
       "23210  314f65ec6b5b415077196cf630f4610077090b206a215c...      0  \n",
       "23211  314f65ec6b5b415077196cf630f4610077090b206a215c...      0  \n",
       "23212  314f65ec6b5b415077196cf630f4610077090b206a215c...      0  \n",
       "\n",
       "[23213 rows x 7 columns]"
      ]
     },
     "execution_count": 7,
     "metadata": {},
     "output_type": "execute_result"
    }
   ],
   "source": [
    "articles"
   ]
  },
  {
   "cell_type": "code",
   "execution_count": 91,
   "metadata": {},
   "outputs": [
    {
     "data": {
      "text/html": [
       "<div>\n",
       "<style scoped>\n",
       "    .dataframe tbody tr th:only-of-type {\n",
       "        vertical-align: middle;\n",
       "    }\n",
       "\n",
       "    .dataframe tbody tr th {\n",
       "        vertical-align: top;\n",
       "    }\n",
       "\n",
       "    .dataframe thead th {\n",
       "        text-align: right;\n",
       "    }\n",
       "</style>\n",
       "<table border=\"1\" class=\"dataframe\">\n",
       "  <thead>\n",
       "    <tr style=\"text-align: right;\">\n",
       "      <th></th>\n",
       "      <th>left</th>\n",
       "      <th>middle</th>\n",
       "      <th>right</th>\n",
       "    </tr>\n",
       "  </thead>\n",
       "  <tbody>\n",
       "    <tr>\n",
       "      <th>0</th>\n",
       "      <td>\\n</td>\n",
       "      <td>shares lost {AAPL.O;-PCTCHNG:2} percent as wo...</td>\n",
       "      <td>reported a drop in screen glass sales for the...</td>\n",
       "    </tr>\n",
       "    <tr>\n",
       "      <th>1</th>\n",
       "      <td>\\nOther technology stocks in the FAANG group, ...</td>\n",
       "      <td>and</td>\n",
       "      <td>, also weighed on the Nasdaq.</td>\n",
       "    </tr>\n",
       "    <tr>\n",
       "      <th>2</th>\n",
       "      <td>NaN</td>\n",
       "      <td>(GLW.N) on Tuesday reported a drop in sales a...</td>\n",
       "      <td>'s (AAPL.O) iPhone and Samsung's (005930.KS) G...</td>\n",
       "    </tr>\n",
       "    <tr>\n",
       "      <th>3</th>\n",
       "      <td>\\nAt least two other</td>\n",
       "      <td>suppliers - contract chipmaker Taiwan (2330.T...</td>\n",
       "      <td>said net sales in its specialty materials bus...</td>\n",
       "    </tr>\n",
       "    <tr>\n",
       "      <th>4</th>\n",
       "      <td>\\nAt least two other</td>\n",
       "      <td>suppliers - contract chipmaker</td>\n",
       "      <td>(2330.TW) and chipmaker AMS (AMS.S) - have po...</td>\n",
       "    </tr>\n",
       "    <tr>\n",
       "      <th>...</th>\n",
       "      <td>...</td>\n",
       "      <td>...</td>\n",
       "      <td>...</td>\n",
       "    </tr>\n",
       "    <tr>\n",
       "      <th>6053</th>\n",
       "      <td>\\nProduction from North American shale fields ...</td>\n",
       "      <td>(SRE.N), Southern Co (SO.N) and</td>\n",
       "      <td>(LNG.A) to look at exports.</td>\n",
       "    </tr>\n",
       "    <tr>\n",
       "      <th>6054</th>\n",
       "      <td>LNG developer NextDecade signed up with Projec...</td>\n",
       "      <td>over environmental concerns.\\nRENEWABLE NATUR...</td>\n",
       "      <td>'s Southern California Gas (SoCalGas) unit, Xc...</td>\n",
       "    </tr>\n",
       "    <tr>\n",
       "      <th>6055</th>\n",
       "      <td>\\nProduction from North American shale fields ...</td>\n",
       "      <td>, Southern Co and</td>\n",
       "      <td>to look at exports.</td>\n",
       "    </tr>\n",
       "    <tr>\n",
       "      <th>6056</th>\n",
       "      <td>\\nA U.S. administration official said the prop...</td>\n",
       "      <td>sale was still undergoing interagency review....</td>\n",
       "      <td>and Raytheon declined to comment on the sales.</td>\n",
       "    </tr>\n",
       "    <tr>\n",
       "      <th>6057</th>\n",
       "      <td>Representatives for</td>\n",
       "      <td>and</td>\n",
       "      <td>declined to comment on the sales.</td>\n",
       "    </tr>\n",
       "  </tbody>\n",
       "</table>\n",
       "<p>6058 rows × 3 columns</p>\n",
       "</div>"
      ],
      "text/plain": [
       "                                                   left  \\\n",
       "0                                                    \\n   \n",
       "1     \\nOther technology stocks in the FAANG group, ...   \n",
       "2                                                   NaN   \n",
       "3                                 \\nAt least two other    \n",
       "4                                 \\nAt least two other    \n",
       "...                                                 ...   \n",
       "6053  \\nProduction from North American shale fields ...   \n",
       "6054  LNG developer NextDecade signed up with Projec...   \n",
       "6055  \\nProduction from North American shale fields ...   \n",
       "6056  \\nA U.S. administration official said the prop...   \n",
       "6057                               Representatives for    \n",
       "\n",
       "                                                 middle  \\\n",
       "0      shares lost {AAPL.O;-PCTCHNG:2} percent as wo...   \n",
       "1                                                  and    \n",
       "2      (GLW.N) on Tuesday reported a drop in sales a...   \n",
       "3      suppliers - contract chipmaker Taiwan (2330.T...   \n",
       "4                       suppliers - contract chipmaker    \n",
       "...                                                 ...   \n",
       "6053                   (SRE.N), Southern Co (SO.N) and    \n",
       "6054   over environmental concerns.\\nRENEWABLE NATUR...   \n",
       "6055                                 , Southern Co and    \n",
       "6056   sale was still undergoing interagency review....   \n",
       "6057                                               and    \n",
       "\n",
       "                                                  right  \n",
       "0      reported a drop in screen glass sales for the...  \n",
       "1                         , also weighed on the Nasdaq.  \n",
       "2     's (AAPL.O) iPhone and Samsung's (005930.KS) G...  \n",
       "3      said net sales in its specialty materials bus...  \n",
       "4      (2330.TW) and chipmaker AMS (AMS.S) - have po...  \n",
       "...                                                 ...  \n",
       "6053                        (LNG.A) to look at exports.  \n",
       "6054  's Southern California Gas (SoCalGas) unit, Xc...  \n",
       "6055                                to look at exports.  \n",
       "6056     and Raytheon declined to comment on the sales.  \n",
       "6057                  declined to comment on the sales.  \n",
       "\n",
       "[6058 rows x 3 columns]"
      ]
     },
     "execution_count": 91,
     "metadata": {},
     "output_type": "execute_result"
    }
   ],
   "source": [
    "articles.iloc[:,2:-1]\n"
   ]
  },
  {
   "cell_type": "code",
   "execution_count": 121,
   "metadata": {},
   "outputs": [],
   "source": [
    "#Creating a dataframe in the form required by the Coprus class\n",
    "articles_final = pd.DataFrame()\n",
    "#Bring DF in shape expected by Corpus class\n",
    "articles_final.loc[:,[\"entity1\",\"entity2\",\"left\",\"entity1\",'middle','entity2','right',\"left\",\"entity1\",'middle','entity2','right']] = articles.loc[:,[\"entity1\",\"entity2\",\"left\",\"entity1\",'middle','entity2','right',\"left\",\"entity1\",'middle','entity2','right']]\n",
    "#Remove \\n as this trips up the Corpus class\n",
    "articles_final.replace(\"\\n\",\"\",inplace=True)\n",
    "articles_final.replace('(\\n)','',regex=True,inplace=True)\n"
   ]
  },
  {
   "cell_type": "code",
   "execution_count": 122,
   "metadata": {},
   "outputs": [],
   "source": [
    "#Store as TSV\n",
    "articles_final.to_csv(src_path + \"/nlp/data/example_inputs_long_names.tsv\", sep=\"\\t\", index=False,header=False)"
   ]
  },
  {
   "cell_type": "code",
   "execution_count": null,
   "metadata": {},
   "outputs": [],
   "source": [
    "import gzip\n"
   ]
  },
  {
   "cell_type": "code",
   "execution_count": 123,
   "metadata": {},
   "outputs": [],
   "source": [
    "with open(src_path + \"/nlp/data/example_inputs_long_names.tsv\", 'rb') as src, gzip.open(src_path + \"/nlp/data/example_inputs_long_names.tsv.gz\", 'wb') as dst:\n",
    "    dst.writelines(src)"
   ]
  }
 ],
 "metadata": {
  "interpreter": {
   "hash": "4afa26c81afa363b1ab4bf815135f7b681d0cb95b1a3acd8faa5c509a97d1404"
  },
  "kernelspec": {
   "display_name": "Python 3.9.7 64-bit ('nlpwcw1_rec': conda)",
   "name": "python3"
  },
  "language_info": {
   "codemirror_mode": {
    "name": "ipython",
    "version": 3
   },
   "file_extension": ".py",
   "mimetype": "text/x-python",
   "name": "python",
   "nbconvert_exporter": "python",
   "pygments_lexer": "ipython3",
   "version": "3.9.7"
  },
  "orig_nbformat": 4
 },
 "nbformat": 4,
 "nbformat_minor": 2
}
