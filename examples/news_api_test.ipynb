{
 "cells": [
  {
   "cell_type": "code",
   "execution_count": 2,
   "source": [
    "API_KEY = \"768a5287cc3546899b3de57fc92d127e\""
   ],
   "outputs": [],
   "metadata": {}
  },
  {
   "cell_type": "code",
   "execution_count": 5,
   "source": [
    "import requests\n",
    "\n",
    "url = ('https://newsapi.org/v2/everything?'\n",
    "       'q=Apple&'\n",
    "       'from=2022-02-14&'\n",
    "       'sortBy=popularity&'\n",
    "       'apiKey=768a5287cc3546899b3de57fc92d127e')\n",
    "\n",
    "response = requests.get(url)\n",
    "\n",
    "print(response.json)"
   ],
   "outputs": [
    {
     "output_type": "stream",
     "name": "stdout",
     "text": [
      "<bound method Response.json of <Response [200]>>\n"
     ]
    }
   ],
   "metadata": {}
  },
  {
   "cell_type": "code",
   "execution_count": 2,
   "source": [
    "from newsapi import NewsApiClient\n",
    "\n",
    "# Init\n",
    "newsapi = NewsApiClient(api_key='768a5287cc3546899b3de57fc92d127e')\n",
    "\n",
    "# /v2/top-headlines\n",
    "#top_headlines = newsapi.get_top_headlines(q='bitcoin',\n",
    "                                          #sources='bbc-news,the-verge',\n",
    "                                          #category='business',\n",
    "                                          #language='en',\n",
    "                                          #country='us')\n",
    "\n",
    "# /v2/everything\n",
    "#all_articles = newsapi.get_everything(q='bitcoin',sources='bbc-news,the-verge',domains='bbc.co.uk,techcrunch.com',from_param='2022-01-14',to='2022-01-20',language='en',sort_by='relevancy',page=2)\n",
    "all_articles = newsapi.get_everything(q='apple taiwan',from_param='2022-01-14',to='2022-01-20',language='en',sort_by='relevancy')\n",
    "\n",
    "\n",
    "\n",
    "# /v2/top-headlines/sources\n",
    "#sources = newsapi.get_sources()"
   ],
   "outputs": [],
   "metadata": {}
  },
  {
   "cell_type": "code",
   "execution_count": 8,
   "source": [
    "all_articles[\"articles\"][0]['content']"
   ],
   "outputs": [
    {
     "output_type": "execute_result",
     "data": {
      "text/plain": [
       "\"Apple has finally closed a loophole in the US that allowed most buyers to claim education pricing, even if they weren't actually a student or a teacher. First noted on Reddit, the US Apple Store now … [+5314 chars]\""
      ]
     },
     "metadata": {},
     "execution_count": 8
    }
   ],
   "metadata": {}
  },
  {
   "cell_type": "code",
   "execution_count": 15,
   "source": [
    "all_articles[\"articles\"][3]"
   ],
   "outputs": [
    {
     "output_type": "execute_result",
     "data": {
      "text/plain": [
       "{'source': {'id': 'reuters', 'name': 'Reuters'},\n",
       " 'author': None,\n",
       " 'title': 'Taiwan December export orders hit record high, warns on supply chains - Reuters',\n",
       " 'description': \"Taiwan's export orders grew faster than expected in December to a record high due to sustained technology demand, but the government warned of supply chain uncertainty that could affect the outlook.\",\n",
       " 'url': 'https://www.reuters.com/markets/europe/taiwan-december-export-orders-hit-record-high-warns-supply-chains-2022-01-20/',\n",
       " 'urlToImage': 'https://www.reuters.com/pf/resources/images/reuters/reuters-default.png?d=67',\n",
       " 'publishedAt': '2022-01-20T08:44:00Z',\n",
       " 'content': \"TAIPEI, Jan 20 (Reuters) - Taiwan's export orders grew faster than expected in December to a record high due to sustained technology demand, but the government warned of supply chain uncertainty that… [+2208 chars]\"}"
      ]
     },
     "metadata": {},
     "execution_count": 15
    }
   ],
   "metadata": {}
  },
  {
   "cell_type": "code",
   "execution_count": 28,
   "source": [
    "all_articles"
   ],
   "outputs": [
    {
     "output_type": "execute_result",
     "data": {
      "text/plain": [
       "{'status': 'ok',\n",
       " 'totalResults': 86,\n",
       " 'articles': [{'source': {'id': 'engadget', 'name': 'Engadget'},\n",
       "   'author': 'Mat Smith',\n",
       "   'title': 'The Morning After: Apple closes education discount loophole',\n",
       "   'description': \"Apple has finally closed a loophole in the US that allowed most buyers to claim education pricing, even if they weren't actually a student or a teacher. First noted on Reddit, the US Apple Store now requires buyers to verify their status via UNiDAYS to be abl…\",\n",
       "   'url': 'https://www.engadget.com/the-morning-after-apple-closes-education-discount-loophole-122753201.html',\n",
       "   'urlToImage': 'https://s.yimg.com/os/creatr-uploaded-images/2022-01/0fe9a3a0-7703-11ec-9ddf-d35fd3b1c7e7',\n",
       "   'publishedAt': '2022-01-20T12:27:53Z',\n",
       "   'content': \"Apple has finally closed a loophole in the US that allowed most buyers to claim education pricing, even if they weren't actually a student or a teacher. First noted on Reddit, the US Apple Store now … [+5314 chars]\"},\n",
       "  {'source': {'id': 'reuters', 'name': 'Reuters'},\n",
       "   'author': None,\n",
       "   'title': 'Taiwan Dec export orders seen rising for 22nd month in a row - Reuters',\n",
       "   'description': \"Taiwan's export orders likely rose in December for the 22nd straight month albeit at a slower pace, a Reuters poll showed on Thursday, due to supply chain issues and off last year's high base.\",\n",
       "   'url': 'https://www.reuters.com/markets/asia/taiwan-dec-export-orders-seen-rising-22nd-month-row-2022-01-19/',\n",
       "   'urlToImage': 'https://www.reuters.com/pf/resources/images/reuters/reuters-default.png?d=67',\n",
       "   'publishedAt': '2022-01-19T03:24:00Z',\n",
       "   'content': \"TAIPEI, Jan 19 (Reuters) - Taiwan's export orders likely rose in December for the 22nd straight month albeit at a slower pace, a Reuters poll showed on Thursday, due to supply chain issues and off la… [+1098 chars]\"},\n",
       "  {'source': {'id': 'reuters', 'name': 'Reuters'},\n",
       "   'author': 'Reuters Staff',\n",
       "   'title': 'Taiwan Dec export orders seen rising for 22nd month in a row - Reuters poll - Reuters.com',\n",
       "   'description': \"Taiwan's export orders likely rose in December for the 22nd straight month albeit at a slower pace, a Reuters poll showed on Thursday, due to supply chain issues and off last year's high base.\",\n",
       "   'url': 'https://www.reuters.com/article/taiwan-economy-orders-poll-idUSKBN2JT07Z',\n",
       "   'urlToImage': 'https://static.reuters.com/resources/r/?m=02&d=20220119&t=2&i=1588258502&r=LYNXMPEI0I03C&w=800',\n",
       "   'publishedAt': '2022-01-19T04:23:00Z',\n",
       "   'content': 'By Reuters Staff\\r\\nTAIPEI (Reuters) - Taiwans export orders likely rose in December for the 22nd straight month albeit at a slower pace, a Reuters poll showed on Thursday, due to supply chain issues a… [+840 chars]'},\n",
       "  {'source': {'id': 'reuters', 'name': 'Reuters'},\n",
       "   'author': None,\n",
       "   'title': 'Taiwan December export orders hit record high, warns on supply chains - Reuters',\n",
       "   'description': \"Taiwan's export orders grew faster than expected in December to a record high due to sustained technology demand, but the government warned of supply chain uncertainty that could affect the outlook.\",\n",
       "   'url': 'https://www.reuters.com/markets/europe/taiwan-december-export-orders-hit-record-high-warns-supply-chains-2022-01-20/',\n",
       "   'urlToImage': 'https://www.reuters.com/pf/resources/images/reuters/reuters-default.png?d=67',\n",
       "   'publishedAt': '2022-01-20T08:44:00Z',\n",
       "   'content': \"TAIPEI, Jan 20 (Reuters) - Taiwan's export orders grew faster than expected in December to a record high due to sustained technology demand, but the government warned of supply chain uncertainty that… [+2208 chars]\"},\n",
       "  {'source': {'id': 'reuters', 'name': 'Reuters'},\n",
       "   'author': None,\n",
       "   'title': 'Cadence Design Systems aims to cash in on new custom-chip era - Reuters',\n",
       "   'description': 'Microchip design software maker Cadence Design Systems Inc <a href=\"https://www.reuters.com/companies/CDNS.O\" target=\"_blank\">(CDNS.O)</a> is betting on growth from automakers and other chip users strapped by global supply shortages who face mounting competit…',\n",
       "   'url': 'https://www.reuters.com/technology/cadence-design-systems-aims-cash-new-custom-chip-era-2022-01-18/',\n",
       "   'urlToImage': 'https://www.reuters.com/resizer/a33HVKAcBby17KTZOnDcpiVwv1s=/1200x628/smart/filters:quality(80)/cloudfront-us-east-2.images.arcpublishing.com/reuters/FVP6VKOPT5LJXOIQMZVH7IKKMI.jpg',\n",
       "   'publishedAt': '2022-01-18T12:06:00Z',\n",
       "   'content': 'Jan 18 (Reuters) - Microchip design software maker Cadence Design Systems Inc (CDNS.O) is betting on growth from automakers and other chip users strapped by global supply shortages who face mounting … [+3999 chars]'},\n",
       "  {'source': {'id': None, 'name': '9to5Mac'},\n",
       "   'author': 'Ben Lovejoy',\n",
       "   'title': 'iPhone workers again offered large sign-on bonuses to meet demand',\n",
       "   'description': 'For the second time in seven months, former iPhone workers are being offered large sign-on bonuses as Foxconn strives to keep pace with demand for the iPhone 13.\\nThe company offered similar increases to recruitment bonuses in June of last year … \\n more…\\nThe p…',\n",
       "   'url': 'https://9to5mac.com/2022/01/18/iphone-workers-bonuses/',\n",
       "   'urlToImage': 'https://i0.wp.com/9to5mac.com/wp-content/uploads/sites/6/2022/01/iPhone-workers-again-offered-large-sign-on-bonuses.jpg?resize=1200%2C628&quality=82&strip=all&ssl=1',\n",
       "   'publishedAt': '2022-01-18T13:51:00Z',\n",
       "   'content': 'For the second time in seven months, former iPhone workers are being offered large sign-on bonuses as Foxconn strives to keep pace with demand for the iPhone 13.\\r\\nThe company offered similar increase… [+1857 chars]'},\n",
       "  {'source': {'id': 'bloomberg', 'name': 'Bloomberg'},\n",
       "   'author': 'John Cheng',\n",
       "   'title': 'TSMC Shares Near Record High on Spending Hike, Growth Outlook',\n",
       "   'description': 'Taiwan Semiconductor Manufacturing Co. shares edged toward fresh highs in Taiwan after raising growth projections and unveiling record spending, underscoring expectations the voracious demand that fueled a global chip crunch will persist.',\n",
       "   'url': 'https://www.bloomberg.com/news/articles/2022-01-14/tsmc-shares-near-fresh-highs-after-outlook-spending-hike',\n",
       "   'urlToImage': 'https://assets.bwbx.io/images/users/iqjWHBFdfxIU/imMJ0m9ND1kc/v1/1200x800.jpg',\n",
       "   'publishedAt': '2022-01-14T01:26:19Z',\n",
       "   'content': 'Taiwan Semiconductor Manufacturing Co. shares edged toward fresh highs in Taiwan after raising growth projections and unveiling record spending, underscoring expectations the voracious demand that fu… [+2863 chars]'},\n",
       "  {'source': {'id': None, 'name': 'MacRumors'},\n",
       "   'author': 'Hartley Charlton',\n",
       "   'title': 'Apple Suppliers Struggling to Meet Environmental Goals',\n",
       "   'description': \"Apple's strict environmental goals are putting pressure on the company's global supply chains, DigiTimes reports.\\n\\n\\n\\n\\n\\nIn a paywalled report, DigiTimes claims that Apple's goal of achieving carbon neutrality by 2030 is putting pressure on its supply chain, wi…\",\n",
       "   'url': 'https://www.macrumors.com/2022/01/18/apple-suppliers-struggling-environmental-goals/',\n",
       "   'urlToImage': 'https://images.macrumors.com/t/aWfAobt8sdfcHZUA_hM2z1fKs4k=/1600x/article-new/2019/07/apple-park-solar.jpg',\n",
       "   'publishedAt': '2022-01-18T15:29:32Z',\n",
       "   'content': \"Apple's strict environmental goals are putting pressure on the company's global supply chains, DigiTimes reports.\\r\\nIn a paywalled report, DigiTimes claims that Apple's goal of achieving carbon neutra… [+1750 chars]\"},\n",
       "  {'source': {'id': None, 'name': 'Techmeme.com'},\n",
       "   'author': None,\n",
       "   'title': 'Google launches a limited beta of Google Play Games, which brings Android games to Windows 10 and Windows 11, in Hong Kong, South Korea, and Taiwan (Ryne Hager/Android Police)',\n",
       "   'description': \"Ryne Hager / Android Police:\\nGoogle launches a limited beta of Google Play Games, which brings Android games to Windows 10 and Windows 11, in Hong Kong, South Korea, and Taiwan\\xa0 —\\xa0 You'll need a relatively powerful computer for now.\\xa0 And for once, the US isn'…\",\n",
       "   'url': 'https://www.techmeme.com/220119/p40',\n",
       "   'urlToImage': 'https://static1.anpoimages.com/wordpress/wp-content/uploads/2022/01/Google-Play-Games-for-PC-unbranded-hero.png',\n",
       "   'publishedAt': '2022-01-20T04:00:43Z',\n",
       "   'content': 'Big Technology— by Alex Kantrowitz\\r\\nRevealing the systems in the tech world that drive what we see in the headlines, focusing primarily on the tech giants: Amazon, Apple, Facebook, Google, and Micros… [+3 chars]'},\n",
       "  {'source': {'id': None, 'name': 'MacRumors'},\n",
       "   'author': 'Juli Clover',\n",
       "   'title': \"Apple Shares 'Shot on iPhone 13 Pro' Film Celebrating Chinese New Year\",\n",
       "   'description': 'Apple today shared a short film called \"The Comeback,\" which has been released in celebration of Chinese New Year. Created by director Zhang Meng, the video kicks off the Year of the Tiger with the story of a father, a son, and a forgotten village with an \"ou…',\n",
       "   'url': 'https://www.macrumors.com/2022/01/20/apple-shot-on-iphone-chinese-new-year/',\n",
       "   'urlToImage': 'https://images.macrumors.com/t/uGzb5Efz40zarT2GUuwPUxDelNY=/1826x/article-new/2022/01/apple-shot-on-iphone-chinese-new-year.jpg',\n",
       "   'publishedAt': '2022-01-20T23:02:47Z',\n",
       "   'content': 'Apple today shared a short film called \"The Comeback,\" which has been released in celebration of Chinese New Year. Created by director Zhang Meng, the video kicks off the Year of the Tiger with the s… [+804 chars]'},\n",
       "  {'source': {'id': None, 'name': 'Motley Fool'},\n",
       "   'author': 'newsfeedback@fool.com (Will Healy)',\n",
       "   'title': 'Is It Too Late to Buy Taiwan Semiconductor Stock?',\n",
       "   'description': 'TSMC should continue to lead its industry, but how well will it handle upcoming competitive threats?',\n",
       "   'url': 'https://www.fool.com/investing/2022/01/20/is-it-too-late-to-buy-taiwan-semiconductor-stock/',\n",
       "   'urlToImage': 'https://g.foolcdn.com/editorial/images/661405/gettyimages-1094304822.jpg',\n",
       "   'publishedAt': '2022-01-20T11:25:00Z',\n",
       "   'content': \"Taiwan Semiconductor (TSMC) (NYSE:TSM) surged 6% higher two days after the company announced its Q4 earnings. As the world's largest semiconductor foundry, it has become one of the world's largest an… [+3859 chars]\"},\n",
       "  {'source': {'id': 'bloomberg', 'name': 'Bloomberg'},\n",
       "   'author': 'Debby Wu',\n",
       "   'title': 'Chip Linchpin ASML Joins Carmakers Warning of Vicious Cycle',\n",
       "   'description': 'The global semiconductor shortage is hitting one of the industry’s most important gear makers, potentially creating a vicious cycle that will further strain supply to companies from Nissan Motor Co. to Apple Inc.',\n",
       "   'url': 'https://www.bloomberg.com/news/articles/2022-01-20/chip-linchpin-joins-carmakers-in-warning-of-vicious-supply-cycle',\n",
       "   'urlToImage': 'https://assets.bwbx.io/images/users/iqjWHBFdfxIU/iSZVuHvcl47s/v0/1200x800.jpg',\n",
       "   'publishedAt': '2022-01-20T04:37:35Z',\n",
       "   'content': 'The global semiconductor shortage is hitting one of the industrys most important gear makers, potentially creating a vicious cycle that will further strain supply to companies from \\r\\nNissan Motor Co.… [+2342 chars]'},\n",
       "  {'source': {'id': None, 'name': 'MacRumors'},\n",
       "   'author': 'Tim Hardwick',\n",
       "   'title': 'Foxconn Offers Big Bonuses to Recruit Workers Ahead of Lunar New Year Holiday',\n",
       "   'description': \"Apple's largest manufacturing partner Foxconn is again offering bumper signing bonuses to new and former workers in an effort to boost recruitment at its Zhengzhou campus, one of its main iPhone factories in China, according to the South China Morning Post.\\n\\n…\",\n",
       "   'url': 'https://www.macrumors.com/2022/01/18/foxconn-bonuses-recruit-workers-lunar/',\n",
       "   'urlToImage': 'https://images.macrumors.com/t/in0z_mifQ2d65NfLvNPkyGFHbWo=/1600x/article-new/2017/01/foxconn.jpg',\n",
       "   'publishedAt': '2022-01-18T10:41:50Z',\n",
       "   'content': \"Apple's largest manufacturing partner Foxconn is again offering bumper signing bonuses to new and former workers in an effort to boost recruitment at its Zhengzhou campus, one of its main iPhone fact… [+1815 chars]\"},\n",
       "  {'source': {'id': None, 'name': 'Motley Fool'},\n",
       "   'author': 'newsfeedback@fool.com (Joe Tenebruso)',\n",
       "   'title': 'Here Are the 3 Best Growth Stocks to Buy for 2022',\n",
       "   'description': 'These top-tier companies can take your investment portfolio to new heights.',\n",
       "   'url': 'https://www.fool.com/investing/2022/01/20/here-are-the-3-best-growth-stocks-to-buy-for-2022/',\n",
       "   'urlToImage': 'https://g.foolcdn.com/editorial/images/661644/investor-gettyimages-853572466.jpg',\n",
       "   'publishedAt': '2022-01-20T10:46:00Z',\n",
       "   'content': 'Well-chosen growth stocks can help you earn a fortune in the stock market. The key is to identify powerful long-term trends -- and the companies best positioned to profit from them.\\r\\nTo help you do j… [+3627 chars]'},\n",
       "  {'source': {'id': None, 'name': 'Android Authority'},\n",
       "   'author': 'Tristan Rayner',\n",
       "   'title': 'Daily Authority: Android games on Windows',\n",
       "   'description': \"Google launches Google Play Games on PC if that's what you want, plus more tech news you need to know today!\",\n",
       "   'url': 'https://www.androidauthority.com/da-january-20-2022-3094163/',\n",
       "   'urlToImage': 'https://cdn57.androidauthority.net/wp-content/uploads/2018/02/asphalt-9-legends-1-840x468.png',\n",
       "   'publishedAt': '2022-01-20T12:15:00Z',\n",
       "   'content': 'Good morning! Had a great dinner out last night capped off with Kyoto only barking once. A real improvement!\\r\\nGoogle brings Android games to Windows (not for you)\\r\\nWake up people in Korea, Taiwan, an… [+4765 chars]'},\n",
       "  {'source': {'id': None, 'name': 'Seeking Alpha'},\n",
       "   'author': 'The Outsider',\n",
       "   'title': 'Taiwan Semiconductor: Should You Buy This Stock After Its Recent Results?',\n",
       "   'description': 'TSMC reported its 4Q 2021 results, beating market expectations at the bottom line, while revenues missed slightly estimates. Read why TSM stock is a good pick.',\n",
       "   'url': 'https://seekingalpha.com/article/4479616-taiwan-semiconductor-should-you-buy-stock-after-recent-results',\n",
       "   'urlToImage': 'https://static.seekingalpha.com/cdn/s3/uploads/getty_images/1349795785/medium_image_1349795785.jpg',\n",
       "   'publishedAt': '2022-01-14T12:30:00Z',\n",
       "   'content': 'BING-JHEN HONG/iStock Editorial via Getty Images\\r\\nTaiwan Semiconductor Manufacturing Company (TSM) reported strong earnings and provided guidance for the next quarter above estimates, leading to a po… [+7868 chars]'},\n",
       "  {'source': {'id': None, 'name': 'Digitimes'},\n",
       "   'author': 'Eifeh Strom',\n",
       "   'title': 'Supply chains feel green energy pressure from Apple, TSMC',\n",
       "   'description': \"While meeting net-zero carbon emissions goals by 2050 has become a globally important topic, meeting Apple's 2030 carbon-neutral goal for its supply chain is more immediately pressing for many semiconductor and electronics companies in Taiwan. TSMC previously…\",\n",
       "   'url': 'https://www.digitimes.com/news/a20220117PD209/apple-green-energy-supply-chain-tsmc.html',\n",
       "   'urlToImage': 'https://www.digitimes.com/newsshow/20220117PD209_files/1_2b.jpg',\n",
       "   'publishedAt': '2022-01-18T01:36:02Z',\n",
       "   'content': \"While meeting net-zero carbon emissions goals by 2050 has become a globally important topic, meeting Apple's 2030 carbon-neutral goal for its supply chain is more immediately pressing for many semico… [+172 chars]\"},\n",
       "  {'source': {'id': None, 'name': 'Digitimes'},\n",
       "   'author': 'Willis Ke',\n",
       "   'title': 'Realme sees handset sales in Taiwan surge 20% in 2021',\n",
       "   'description': 'Chinese smartphone brand Realme saw its handset sales in Taiwan climb 20% in 2021. Realme is set to focus more on promoting midrange and high-end 5G handset models while continuing to cement its market share in the budget-level segment, so as to bolster its s…',\n",
       "   'url': 'https://www.digitimes.com/news/a20220114PD205/handset-mobile-+-telecom-realme-taiwan-market.html',\n",
       "   'urlToImage': 'https://www.digitimes.com/newsshow/20220114PD205_files/2_2b.jpg',\n",
       "   'publishedAt': '2022-01-14T07:43:57Z',\n",
       "   'content': 'Chinese smartphone brand Realme saw its handset sales in Taiwan climb 20% in 2021. Realme is set to focus more on promoting midrange and high-end 5G handset models while continuing to cement its mark… [+1768 chars]'},\n",
       "  {'source': {'id': None, 'name': 'PC Gamer'},\n",
       "   'author': 'Chris Szewczyk',\n",
       "   'title': 'CPUs and GPUs are going to get even more expensive in 2022',\n",
       "   'description': 'Insert your choice of expletives here.',\n",
       "   'url': 'https://www.pcgamer.com/cpus-and-gpus-are-going-to-get-even-more-expensive-in-2022/',\n",
       "   'urlToImage': 'https://cdn.mos.cms.futurecdn.net/b4j5odtAb23QRPwvWtXGrM-1200-80.jpg',\n",
       "   'publishedAt': '2022-01-19T07:54:35Z',\n",
       "   'content': 'In a move that’s disappointing yet totally unsurprising, TSMC has reportedly infomed its customers that it plans to increase its prices. You know what that means. All of that expensive tech we love i… [+2413 chars]'},\n",
       "  {'source': {'id': None, 'name': 'iMore'},\n",
       "   'author': 'Oliver Haslam',\n",
       "   'title': 'TSMC posts record profits and outlines big hopes for the future',\n",
       "   'description': 'What you need to know\\n\\n\\nTSMC produces the A-series and M-series chips that power iPhones, iPads, and Macs.\\nThe Taiwanese chip company has posted record quarterly profits.\\nExpectations are high that TSMC will benefit from huge chip demand in the next few years…',\n",
       "   'url': 'https://www.imore.com/tsmc-posts-record-profits-and-outlines-big-hopes-future',\n",
       "   'urlToImage': 'https://www.imore.com/sites/imore.com/files/styles/large/public/field/image/2020/11/macbook-air-m1-8.jpg',\n",
       "   'publishedAt': '2022-01-14T11:56:44Z',\n",
       "   'content': \"TSMC, the company that produces Apple's A-series and M-series chips for iPhones, iPads, and Macs, has posted record profits for the most recent quarter as well as impressive growth. The company also … [+1290 chars]\"}]}"
      ]
     },
     "metadata": {},
     "execution_count": 28
    }
   ],
   "metadata": {}
  },
  {
   "cell_type": "code",
   "execution_count": null,
   "source": [],
   "outputs": [],
   "metadata": {}
  }
 ],
 "metadata": {
  "orig_nbformat": 4,
  "language_info": {
   "name": "python",
   "version": "3.9.7",
   "mimetype": "text/x-python",
   "codemirror_mode": {
    "name": "ipython",
    "version": 3
   },
   "pygments_lexer": "ipython3",
   "nbconvert_exporter": "python",
   "file_extension": ".py"
  },
  "kernelspec": {
   "name": "python3",
   "display_name": "Python 3.9.7 64-bit ('nlpwcw1_rec': conda)"
  },
  "interpreter": {
   "hash": "4afa26c81afa363b1ab4bf815135f7b681d0cb95b1a3acd8faa5c509a97d1404"
  }
 },
 "nbformat": 4,
 "nbformat_minor": 2
}